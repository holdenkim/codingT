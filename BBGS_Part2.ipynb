{
  "nbformat": 4,
  "nbformat_minor": 0,
  "metadata": {
    "colab": {
      "name": "BBGS_Part2.ipynb",
      "provenance": [],
      "collapsed_sections": [
        "FVSXCEDZBPQv",
        "E9phJ78MBT8b",
        "BCPazV3gCk62",
        "_JzKz7ZZTaI4",
        "fjzKqr6u8ET6"
      ],
      "authorship_tag": "ABX9TyNSbTWC4lulCwJnOWdrgSuh",
      "include_colab_link": true
    },
    "kernelspec": {
      "name": "python3",
      "display_name": "Python 3"
    },
    "language_info": {
      "name": "python"
    }
  },
  "cells": [
    {
      "cell_type": "markdown",
      "metadata": {
        "id": "view-in-github",
        "colab_type": "text"
      },
      "source": [
        "<a href=\"https://colab.research.google.com/github/holdenkim/codingT/blob/main/BBGS_Part2.ipynb\" target=\"_parent\"><img src=\"https://colab.research.google.com/assets/colab-badge.svg\" alt=\"Open In Colab\"/></a>"
      ]
    },
    {
      "cell_type": "markdown",
      "metadata": {
        "id": "FVSXCEDZBPQv"
      },
      "source": [
        "#일변량 탐색"
      ]
    },
    {
      "cell_type": "code",
      "metadata": {
        "id": "rUsbDYED9G4s"
      },
      "source": [
        "import pandas as pd\n",
        "import numpy as np"
      ],
      "execution_count": null,
      "outputs": []
    },
    {
      "cell_type": "code",
      "metadata": {
        "id": "YRLHHXKQ9Tiq"
      },
      "source": [
        "data = pd.read_csv(\"Ex_CEOSalary.csv\")"
      ],
      "execution_count": null,
      "outputs": []
    },
    {
      "cell_type": "code",
      "metadata": {
        "id": "z2V371pF9dBS",
        "colab": {
          "base_uri": "https://localhost:8080/"
        },
        "outputId": "98b8f03a-c0bc-42d1-cedd-46d12db846da"
      },
      "source": [
        "data.info()"
      ],
      "execution_count": null,
      "outputs": [
        {
          "output_type": "stream",
          "name": "stdout",
          "text": [
            "<class 'pandas.core.frame.DataFrame'>\n",
            "RangeIndex: 209 entries, 0 to 208\n",
            "Data columns (total 4 columns):\n",
            " #   Column    Non-Null Count  Dtype  \n",
            "---  ------    --------------  -----  \n",
            " 0   salary    209 non-null    int64  \n",
            " 1   sales     209 non-null    float64\n",
            " 2   roe       209 non-null    float64\n",
            " 3   industry  209 non-null    int64  \n",
            "dtypes: float64(2), int64(2)\n",
            "memory usage: 6.7 KB\n"
          ]
        }
      ]
    },
    {
      "cell_type": "code",
      "metadata": {
        "id": "OpXlTzof9eY2",
        "colab": {
          "base_uri": "https://localhost:8080/"
        },
        "outputId": "228fa410-d0bf-4cba-bc91-13494f96b019"
      },
      "source": [
        "data.head()"
      ],
      "execution_count": null,
      "outputs": [
        {
          "output_type": "execute_result",
          "data": {
            "text/html": [
              "<div>\n",
              "<style scoped>\n",
              "    .dataframe tbody tr th:only-of-type {\n",
              "        vertical-align: middle;\n",
              "    }\n",
              "\n",
              "    .dataframe tbody tr th {\n",
              "        vertical-align: top;\n",
              "    }\n",
              "\n",
              "    .dataframe thead th {\n",
              "        text-align: right;\n",
              "    }\n",
              "</style>\n",
              "<table border=\"1\" class=\"dataframe\">\n",
              "  <thead>\n",
              "    <tr style=\"text-align: right;\">\n",
              "      <th></th>\n",
              "      <th>salary</th>\n",
              "      <th>sales</th>\n",
              "      <th>roe</th>\n",
              "      <th>industry</th>\n",
              "    </tr>\n",
              "  </thead>\n",
              "  <tbody>\n",
              "    <tr>\n",
              "      <th>0</th>\n",
              "      <td>1095</td>\n",
              "      <td>27595.000000</td>\n",
              "      <td>14.1</td>\n",
              "      <td>1</td>\n",
              "    </tr>\n",
              "    <tr>\n",
              "      <th>1</th>\n",
              "      <td>1001</td>\n",
              "      <td>9958.000000</td>\n",
              "      <td>10.9</td>\n",
              "      <td>1</td>\n",
              "    </tr>\n",
              "    <tr>\n",
              "      <th>2</th>\n",
              "      <td>1122</td>\n",
              "      <td>6125.899902</td>\n",
              "      <td>23.5</td>\n",
              "      <td>1</td>\n",
              "    </tr>\n",
              "    <tr>\n",
              "      <th>3</th>\n",
              "      <td>578</td>\n",
              "      <td>16246.000000</td>\n",
              "      <td>5.9</td>\n",
              "      <td>1</td>\n",
              "    </tr>\n",
              "    <tr>\n",
              "      <th>4</th>\n",
              "      <td>1368</td>\n",
              "      <td>21783.199219</td>\n",
              "      <td>13.8</td>\n",
              "      <td>1</td>\n",
              "    </tr>\n",
              "  </tbody>\n",
              "</table>\n",
              "</div>"
            ],
            "text/plain": [
              "   salary         sales   roe  industry\n",
              "0    1095  27595.000000  14.1         1\n",
              "1    1001   9958.000000  10.9         1\n",
              "2    1122   6125.899902  23.5         1\n",
              "3     578  16246.000000   5.9         1\n",
              "4    1368  21783.199219  13.8         1"
            ]
          },
          "metadata": {},
          "execution_count": 72
        }
      ]
    },
    {
      "cell_type": "code",
      "metadata": {
        "id": "j-X5lwSA9hsK",
        "colab": {
          "base_uri": "https://localhost:8080/"
        },
        "outputId": "94367401-fd9a-4695-a587-ed9cc562a24b"
      },
      "source": [
        "data['industry'].value_counts()"
      ],
      "execution_count": null,
      "outputs": [
        {
          "output_type": "execute_result",
          "data": {
            "text/plain": [
              "1    72\n",
              "3    60\n",
              "2    46\n",
              "4    31\n",
              "Name: industry, dtype: int64"
            ]
          },
          "metadata": {},
          "execution_count": 73
        }
      ]
    },
    {
      "cell_type": "code",
      "metadata": {
        "id": "7Rx2_Phe9orG"
      },
      "source": [
        "# Service, IT  , Finance , Other\n",
        "\n",
        "indu_replce ={1:\"Service\", 2:\"IT\", 3:\"Finance\", 4:\"Other\"}\n",
        "data['industry'] = data['industry'].replace(indu_replce)"
      ],
      "execution_count": null,
      "outputs": []
    },
    {
      "cell_type": "code",
      "metadata": {
        "id": "9qQ10OOb-kN5",
        "colab": {
          "base_uri": "https://localhost:8080/"
        },
        "outputId": "1b5b5769-5f42-4b95-d528-f239ef92c645"
      },
      "source": [
        "indu_replce"
      ],
      "execution_count": null,
      "outputs": [
        {
          "output_type": "execute_result",
          "data": {
            "text/plain": [
              "{1: 'Service', 2: 'IT', 3: 'Finance', 4: 'Other'}"
            ]
          },
          "metadata": {},
          "execution_count": 75
        }
      ]
    },
    {
      "cell_type": "code",
      "metadata": {
        "id": "0JnTvDwR-uR9",
        "colab": {
          "base_uri": "https://localhost:8080/"
        },
        "outputId": "3c72f85a-07ba-42a5-dedf-ca0006ef3830"
      },
      "source": [
        "data.head()"
      ],
      "execution_count": null,
      "outputs": [
        {
          "output_type": "execute_result",
          "data": {
            "text/html": [
              "<div>\n",
              "<style scoped>\n",
              "    .dataframe tbody tr th:only-of-type {\n",
              "        vertical-align: middle;\n",
              "    }\n",
              "\n",
              "    .dataframe tbody tr th {\n",
              "        vertical-align: top;\n",
              "    }\n",
              "\n",
              "    .dataframe thead th {\n",
              "        text-align: right;\n",
              "    }\n",
              "</style>\n",
              "<table border=\"1\" class=\"dataframe\">\n",
              "  <thead>\n",
              "    <tr style=\"text-align: right;\">\n",
              "      <th></th>\n",
              "      <th>salary</th>\n",
              "      <th>sales</th>\n",
              "      <th>roe</th>\n",
              "      <th>industry</th>\n",
              "    </tr>\n",
              "  </thead>\n",
              "  <tbody>\n",
              "    <tr>\n",
              "      <th>0</th>\n",
              "      <td>1095</td>\n",
              "      <td>27595.000000</td>\n",
              "      <td>14.1</td>\n",
              "      <td>Service</td>\n",
              "    </tr>\n",
              "    <tr>\n",
              "      <th>1</th>\n",
              "      <td>1001</td>\n",
              "      <td>9958.000000</td>\n",
              "      <td>10.9</td>\n",
              "      <td>Service</td>\n",
              "    </tr>\n",
              "    <tr>\n",
              "      <th>2</th>\n",
              "      <td>1122</td>\n",
              "      <td>6125.899902</td>\n",
              "      <td>23.5</td>\n",
              "      <td>Service</td>\n",
              "    </tr>\n",
              "    <tr>\n",
              "      <th>3</th>\n",
              "      <td>578</td>\n",
              "      <td>16246.000000</td>\n",
              "      <td>5.9</td>\n",
              "      <td>Service</td>\n",
              "    </tr>\n",
              "    <tr>\n",
              "      <th>4</th>\n",
              "      <td>1368</td>\n",
              "      <td>21783.199219</td>\n",
              "      <td>13.8</td>\n",
              "      <td>Service</td>\n",
              "    </tr>\n",
              "  </tbody>\n",
              "</table>\n",
              "</div>"
            ],
            "text/plain": [
              "   salary         sales   roe industry\n",
              "0    1095  27595.000000  14.1  Service\n",
              "1    1001   9958.000000  10.9  Service\n",
              "2    1122   6125.899902  23.5  Service\n",
              "3     578  16246.000000   5.9  Service\n",
              "4    1368  21783.199219  13.8  Service"
            ]
          },
          "metadata": {},
          "execution_count": 76
        }
      ]
    },
    {
      "cell_type": "code",
      "metadata": {
        "id": "TJOOPE98-y4Y",
        "colab": {
          "base_uri": "https://localhost:8080/"
        },
        "outputId": "ce4bfde2-f8c2-4d95-e3cd-056f82c0ac08"
      },
      "source": [
        "%matplotlib inline\n",
        "\n",
        "data['industry'].value_counts().plot(kind=\"pie\")\n"
      ],
      "execution_count": null,
      "outputs": [
        {
          "output_type": "execute_result",
          "data": {
            "text/plain": [
              "<matplotlib.axes._subplots.AxesSubplot at 0x7fca92106350>"
            ]
          },
          "metadata": {},
          "execution_count": 77
        },
        {
          "output_type": "display_data",
          "data": {
            "image/png": "[encoded data removed]",
            "text/plain": [
              "<Figure size 432x288 with 1 Axes>"
            ]
          },
          "metadata": {}
        }
      ]
    },
    {
      "cell_type": "code",
      "metadata": {
        "id": "JouRzv_V_Bi6",
        "colab": {
          "base_uri": "https://localhost:8080/"
        },
        "outputId": "0cd685c3-2e35-4e23-87d6-05fdb7d3381c"
      },
      "source": [
        "data['industry'].value_counts().plot(kind=\"bar\")"
      ],
      "execution_count": null,
      "outputs": [
        {
          "output_type": "execute_result",
          "data": {
            "text/plain": [
              "<matplotlib.axes._subplots.AxesSubplot at 0x7fca9204ead0>"
            ]
          },
          "metadata": {},
          "execution_count": 78
        },
        {
          "output_type": "display_data",
          "data": {
            "image/png": "[encoded data removed]",
            "text/plain": [
              "<Figure size 432x288 with 1 Axes>"
            ]
          },
          "metadata": {
            "needs_background": "light"
          }
        }
      ]
    },
    {
      "cell_type": "code",
      "metadata": {
        "id": "WWU9qC0R_vnm",
        "colab": {
          "base_uri": "https://localhost:8080/"
        },
        "outputId": "b8a2053c-73c4-4643-de3c-86e012209e7e"
      },
      "source": [
        "data.describe()\n",
        "#중위수와 평균이 비슷할수록 이상치가 많지 않다!"
      ],
      "execution_count": null,
      "outputs": [
        {
          "output_type": "execute_result",
          "data": {
            "text/html": [
              "<div>\n",
              "<style scoped>\n",
              "    .dataframe tbody tr th:only-of-type {\n",
              "        vertical-align: middle;\n",
              "    }\n",
              "\n",
              "    .dataframe tbody tr th {\n",
              "        vertical-align: top;\n",
              "    }\n",
              "\n",
              "    .dataframe thead th {\n",
              "        text-align: right;\n",
              "    }\n",
              "</style>\n",
              "<table border=\"1\" class=\"dataframe\">\n",
              "  <thead>\n",
              "    <tr style=\"text-align: right;\">\n",
              "      <th></th>\n",
              "      <th>salary</th>\n",
              "      <th>sales</th>\n",
              "      <th>roe</th>\n",
              "    </tr>\n",
              "  </thead>\n",
              "  <tbody>\n",
              "    <tr>\n",
              "      <th>count</th>\n",
              "      <td>209.000000</td>\n",
              "      <td>209.000000</td>\n",
              "      <td>209.000000</td>\n",
              "    </tr>\n",
              "    <tr>\n",
              "      <th>mean</th>\n",
              "      <td>1281.119617</td>\n",
              "      <td>6923.793282</td>\n",
              "      <td>17.184211</td>\n",
              "    </tr>\n",
              "    <tr>\n",
              "      <th>std</th>\n",
              "      <td>1372.345308</td>\n",
              "      <td>10633.271088</td>\n",
              "      <td>8.518509</td>\n",
              "    </tr>\n",
              "    <tr>\n",
              "      <th>min</th>\n",
              "      <td>223.000000</td>\n",
              "      <td>175.199997</td>\n",
              "      <td>0.500000</td>\n",
              "    </tr>\n",
              "    <tr>\n",
              "      <th>25%</th>\n",
              "      <td>736.000000</td>\n",
              "      <td>2210.300049</td>\n",
              "      <td>12.400000</td>\n",
              "    </tr>\n",
              "    <tr>\n",
              "      <th>50%</th>\n",
              "      <td>1039.000000</td>\n",
              "      <td>3705.199951</td>\n",
              "      <td>15.500000</td>\n",
              "    </tr>\n",
              "    <tr>\n",
              "      <th>75%</th>\n",
              "      <td>1407.000000</td>\n",
              "      <td>7177.000000</td>\n",
              "      <td>20.000000</td>\n",
              "    </tr>\n",
              "    <tr>\n",
              "      <th>max</th>\n",
              "      <td>14822.000000</td>\n",
              "      <td>97649.898438</td>\n",
              "      <td>56.299999</td>\n",
              "    </tr>\n",
              "  </tbody>\n",
              "</table>\n",
              "</div>"
            ],
            "text/plain": [
              "             salary         sales         roe\n",
              "count    209.000000    209.000000  209.000000\n",
              "mean    1281.119617   6923.793282   17.184211\n",
              "std     1372.345308  10633.271088    8.518509\n",
              "min      223.000000    175.199997    0.500000\n",
              "25%      736.000000   2210.300049   12.400000\n",
              "50%     1039.000000   3705.199951   15.500000\n",
              "75%     1407.000000   7177.000000   20.000000\n",
              "max    14822.000000  97649.898438   56.299999"
            ]
          },
          "metadata": {},
          "execution_count": 79
        }
      ]
    },
    {
      "cell_type": "code",
      "metadata": {
        "id": "DqWmHfYf_1Sq",
        "colab": {
          "base_uri": "https://localhost:8080/"
        },
        "outputId": "ebbc585c-07c9-48c6-f969-2d7b7ad3f676"
      },
      "source": [
        "print(data.skew())\n",
        "print(data.kurtosis())"
      ],
      "execution_count": null,
      "outputs": [
        {
          "output_type": "stream",
          "name": "stdout",
          "text": [
            "salary    6.904577\n",
            "sales     5.035336\n",
            "roe       1.572126\n",
            "dtype: float64\n",
            "salary    58.971229\n",
            "sales     33.115193\n",
            "roe        3.797366\n",
            "dtype: float64\n"
          ]
        }
      ]
    },
    {
      "cell_type": "code",
      "metadata": {
        "id": "ZRiP7vMAAZtf",
        "colab": {
          "base_uri": "https://localhost:8080/"
        },
        "outputId": "edf6d7dc-1878-486b-d3b7-36fa8dd70c2f"
      },
      "source": [
        "data.hist(bins=50, figsize=(20,15))"
      ],
      "execution_count": null,
      "outputs": [
        {
          "output_type": "execute_result",
          "data": {
            "text/plain": [
              "array([[<matplotlib.axes._subplots.AxesSubplot object at 0x7fca9207a810>,\n",
              "        <matplotlib.axes._subplots.AxesSubplot object at 0x7fca9204ba90>],\n",
              "       [<matplotlib.axes._subplots.AxesSubplot object at 0x7fca92000f10>,\n",
              "        <matplotlib.axes._subplots.AxesSubplot object at 0x7fca91fc44d0>]],\n",
              "      dtype=object)"
            ]
          },
          "metadata": {},
          "execution_count": 81
        },
        {
          "output_type": "display_data",
          "data": {
            "image/png": "[encoded data removed]",
            "text/plain": [
              "<Figure size 1440x1080 with 4 Axes>"
            ]
          },
          "metadata": {
            "needs_background": "light"
          }
        }
      ]
    },
    {
      "cell_type": "code",
      "metadata": {
        "id": "rzRcCTb6ArO8",
        "colab": {
          "base_uri": "https://localhost:8080/"
        },
        "outputId": "7c001266-b61f-4358-b855-a23e20adb9a9"
      },
      "source": [
        "data['salary'].hist(bins=50, figsize=(20,15))"
      ],
      "execution_count": null,
      "outputs": [
        {
          "output_type": "execute_result",
          "data": {
            "text/plain": [
              "<matplotlib.axes._subplots.AxesSubplot at 0x7fca91d1aed0>"
            ]
          },
          "metadata": {},
          "execution_count": 82
        },
        {
          "output_type": "display_data",
          "data": {
            "image/png": "[encoded data removed]",
            "text/plain": [
              "<Figure size 1440x1080 with 1 Axes>"
            ]
          },
          "metadata": {
            "needs_background": "light"
          }
        }
      ]
    },
    {
      "cell_type": "markdown",
      "metadata": {
        "id": "E9phJ78MBT8b"
      },
      "source": [
        "#이변량탐색"
      ]
    },
    {
      "cell_type": "code",
      "metadata": {
        "id": "h5nNlOTmBDQA",
        "colab": {
          "base_uri": "https://localhost:8080/"
        },
        "outputId": "be90aa80-4853-4ff2-cee4-39a441a81db8"
      },
      "source": [
        "data.corr()"
      ],
      "execution_count": null,
      "outputs": [
        {
          "output_type": "execute_result",
          "data": {
            "text/html": [
              "<div>\n",
              "<style scoped>\n",
              "    .dataframe tbody tr th:only-of-type {\n",
              "        vertical-align: middle;\n",
              "    }\n",
              "\n",
              "    .dataframe tbody tr th {\n",
              "        vertical-align: top;\n",
              "    }\n",
              "\n",
              "    .dataframe thead th {\n",
              "        text-align: right;\n",
              "    }\n",
              "</style>\n",
              "<table border=\"1\" class=\"dataframe\">\n",
              "  <thead>\n",
              "    <tr style=\"text-align: right;\">\n",
              "      <th></th>\n",
              "      <th>salary</th>\n",
              "      <th>sales</th>\n",
              "      <th>roe</th>\n",
              "    </tr>\n",
              "  </thead>\n",
              "  <tbody>\n",
              "    <tr>\n",
              "      <th>salary</th>\n",
              "      <td>1.000000</td>\n",
              "      <td>0.119869</td>\n",
              "      <td>0.114842</td>\n",
              "    </tr>\n",
              "    <tr>\n",
              "      <th>sales</th>\n",
              "      <td>0.119869</td>\n",
              "      <td>1.000000</td>\n",
              "      <td>-0.055386</td>\n",
              "    </tr>\n",
              "    <tr>\n",
              "      <th>roe</th>\n",
              "      <td>0.114842</td>\n",
              "      <td>-0.055386</td>\n",
              "      <td>1.000000</td>\n",
              "    </tr>\n",
              "  </tbody>\n",
              "</table>\n",
              "</div>"
            ],
            "text/plain": [
              "          salary     sales       roe\n",
              "salary  1.000000  0.119869  0.114842\n",
              "sales   0.119869  1.000000 -0.055386\n",
              "roe     0.114842 -0.055386  1.000000"
            ]
          },
          "metadata": {},
          "execution_count": 83
        }
      ]
    },
    {
      "cell_type": "code",
      "metadata": {
        "id": "1Ke_t8aeBYhY",
        "colab": {
          "base_uri": "https://localhost:8080/"
        },
        "outputId": "c63965e3-2ec7-4a53-908e-798ddae0ce16"
      },
      "source": [
        "data.corr(method='pearson')"
      ],
      "execution_count": null,
      "outputs": [
        {
          "output_type": "execute_result",
          "data": {
            "text/html": [
              "<div>\n",
              "<style scoped>\n",
              "    .dataframe tbody tr th:only-of-type {\n",
              "        vertical-align: middle;\n",
              "    }\n",
              "\n",
              "    .dataframe tbody tr th {\n",
              "        vertical-align: top;\n",
              "    }\n",
              "\n",
              "    .dataframe thead th {\n",
              "        text-align: right;\n",
              "    }\n",
              "</style>\n",
              "<table border=\"1\" class=\"dataframe\">\n",
              "  <thead>\n",
              "    <tr style=\"text-align: right;\">\n",
              "      <th></th>\n",
              "      <th>salary</th>\n",
              "      <th>sales</th>\n",
              "      <th>roe</th>\n",
              "    </tr>\n",
              "  </thead>\n",
              "  <tbody>\n",
              "    <tr>\n",
              "      <th>salary</th>\n",
              "      <td>1.000000</td>\n",
              "      <td>0.119869</td>\n",
              "      <td>0.114842</td>\n",
              "    </tr>\n",
              "    <tr>\n",
              "      <th>sales</th>\n",
              "      <td>0.119869</td>\n",
              "      <td>1.000000</td>\n",
              "      <td>-0.055386</td>\n",
              "    </tr>\n",
              "    <tr>\n",
              "      <th>roe</th>\n",
              "      <td>0.114842</td>\n",
              "      <td>-0.055386</td>\n",
              "      <td>1.000000</td>\n",
              "    </tr>\n",
              "  </tbody>\n",
              "</table>\n",
              "</div>"
            ],
            "text/plain": [
              "          salary     sales       roe\n",
              "salary  1.000000  0.119869  0.114842\n",
              "sales   0.119869  1.000000 -0.055386\n",
              "roe     0.114842 -0.055386  1.000000"
            ]
          },
          "metadata": {},
          "execution_count": 84
        }
      ]
    },
    {
      "cell_type": "code",
      "metadata": {
        "id": "5ZvHE0jDBfoT",
        "colab": {
          "base_uri": "https://localhost:8080/"
        },
        "outputId": "b7e46117-bb32-4d95-bfb9-e430a908a052"
      },
      "source": [
        "data.corr(method='spearman')"
      ],
      "execution_count": null,
      "outputs": [
        {
          "output_type": "execute_result",
          "data": {
            "text/html": [
              "<div>\n",
              "<style scoped>\n",
              "    .dataframe tbody tr th:only-of-type {\n",
              "        vertical-align: middle;\n",
              "    }\n",
              "\n",
              "    .dataframe tbody tr th {\n",
              "        vertical-align: top;\n",
              "    }\n",
              "\n",
              "    .dataframe thead th {\n",
              "        text-align: right;\n",
              "    }\n",
              "</style>\n",
              "<table border=\"1\" class=\"dataframe\">\n",
              "  <thead>\n",
              "    <tr style=\"text-align: right;\">\n",
              "      <th></th>\n",
              "      <th>salary</th>\n",
              "      <th>sales</th>\n",
              "      <th>roe</th>\n",
              "    </tr>\n",
              "  </thead>\n",
              "  <tbody>\n",
              "    <tr>\n",
              "      <th>salary</th>\n",
              "      <td>1.000000</td>\n",
              "      <td>0.528016</td>\n",
              "      <td>0.205984</td>\n",
              "    </tr>\n",
              "    <tr>\n",
              "      <th>sales</th>\n",
              "      <td>0.528016</td>\n",
              "      <td>1.000000</td>\n",
              "      <td>-0.170548</td>\n",
              "    </tr>\n",
              "    <tr>\n",
              "      <th>roe</th>\n",
              "      <td>0.205984</td>\n",
              "      <td>-0.170548</td>\n",
              "      <td>1.000000</td>\n",
              "    </tr>\n",
              "  </tbody>\n",
              "</table>\n",
              "</div>"
            ],
            "text/plain": [
              "          salary     sales       roe\n",
              "salary  1.000000  0.528016  0.205984\n",
              "sales   0.528016  1.000000 -0.170548\n",
              "roe     0.205984 -0.170548  1.000000"
            ]
          },
          "metadata": {},
          "execution_count": 85
        }
      ]
    },
    {
      "cell_type": "code",
      "metadata": {
        "id": "i_t8FXyPBmdF",
        "colab": {
          "base_uri": "https://localhost:8080/"
        },
        "outputId": "dd2ce206-d7b8-4ea9-88d1-7cd779214bd2"
      },
      "source": [
        "data.corr(method='kendall')"
      ],
      "execution_count": null,
      "outputs": [
        {
          "output_type": "execute_result",
          "data": {
            "text/html": [
              "<div>\n",
              "<style scoped>\n",
              "    .dataframe tbody tr th:only-of-type {\n",
              "        vertical-align: middle;\n",
              "    }\n",
              "\n",
              "    .dataframe tbody tr th {\n",
              "        vertical-align: top;\n",
              "    }\n",
              "\n",
              "    .dataframe thead th {\n",
              "        text-align: right;\n",
              "    }\n",
              "</style>\n",
              "<table border=\"1\" class=\"dataframe\">\n",
              "  <thead>\n",
              "    <tr style=\"text-align: right;\">\n",
              "      <th></th>\n",
              "      <th>salary</th>\n",
              "      <th>sales</th>\n",
              "      <th>roe</th>\n",
              "    </tr>\n",
              "  </thead>\n",
              "  <tbody>\n",
              "    <tr>\n",
              "      <th>salary</th>\n",
              "      <td>1.000000</td>\n",
              "      <td>0.363921</td>\n",
              "      <td>0.143672</td>\n",
              "    </tr>\n",
              "    <tr>\n",
              "      <th>sales</th>\n",
              "      <td>0.363921</td>\n",
              "      <td>1.000000</td>\n",
              "      <td>-0.123844</td>\n",
              "    </tr>\n",
              "    <tr>\n",
              "      <th>roe</th>\n",
              "      <td>0.143672</td>\n",
              "      <td>-0.123844</td>\n",
              "      <td>1.000000</td>\n",
              "    </tr>\n",
              "  </tbody>\n",
              "</table>\n",
              "</div>"
            ],
            "text/plain": [
              "          salary     sales       roe\n",
              "salary  1.000000  0.363921  0.143672\n",
              "sales   0.363921  1.000000 -0.123844\n",
              "roe     0.143672 -0.123844  1.000000"
            ]
          },
          "metadata": {},
          "execution_count": 86
        }
      ]
    },
    {
      "cell_type": "code",
      "metadata": {
        "id": "SnRKpg-dB5Gz"
      },
      "source": [
        "import matplotlib.pyplot as plt"
      ],
      "execution_count": null,
      "outputs": []
    },
    {
      "cell_type": "code",
      "metadata": {
        "id": "T7udwfWVBsuV",
        "colab": {
          "base_uri": "https://localhost:8080/"
        },
        "outputId": "63ce4d6e-2062-4a59-e548-b58c0291925a"
      },
      "source": [
        "plt.scatter(data['salary'], data['sales'], alpha=0.5)"
      ],
      "execution_count": null,
      "outputs": [
        {
          "output_type": "execute_result",
          "data": {
            "text/plain": [
              "<matplotlib.collections.PathCollection at 0x7fca91be2590>"
            ]
          },
          "metadata": {},
          "execution_count": 88
        },
        {
          "output_type": "display_data",
          "data": {
            "image/png": "[encoded data removed]",
            "text/plain": [
              "<Figure size 432x288 with 1 Axes>"
            ]
          },
          "metadata": {
            "needs_background": "light"
          }
        }
      ]
    },
    {
      "cell_type": "code",
      "metadata": {
        "id": "zxHt-DilB3XC",
        "colab": {
          "base_uri": "https://localhost:8080/"
        },
        "outputId": "d01fa585-bc80-4e0b-a326-12be6aa5d12c"
      },
      "source": [
        "plt.scatter(data['roe'], data['salary'], alpha=0.5)"
      ],
      "execution_count": null,
      "outputs": [
        {
          "output_type": "execute_result",
          "data": {
            "text/plain": [
              "<matplotlib.collections.PathCollection at 0x7fca91b4ead0>"
            ]
          },
          "metadata": {},
          "execution_count": 89
        },
        {
          "output_type": "display_data",
          "data": {
            "image/png": "[encoded data removed]",
            "text/plain": [
              "<Figure size 432x288 with 1 Axes>"
            ]
          },
          "metadata": {
            "needs_background": "light"
          }
        }
      ]
    },
    {
      "cell_type": "code",
      "metadata": {
        "id": "0iRvXIb4CQBd",
        "colab": {
          "base_uri": "https://localhost:8080/"
        },
        "outputId": "8c7e5364-90fc-4eeb-b498-2e7b16631da9"
      },
      "source": [
        "data.groupby('industry').describe()"
      ],
      "execution_count": null,
      "outputs": [
        {
          "output_type": "execute_result",
          "data": {
            "text/html": [
              "<div>\n",
              "<style scoped>\n",
              "    .dataframe tbody tr th:only-of-type {\n",
              "        vertical-align: middle;\n",
              "    }\n",
              "\n",
              "    .dataframe tbody tr th {\n",
              "        vertical-align: top;\n",
              "    }\n",
              "\n",
              "    .dataframe thead tr th {\n",
              "        text-align: left;\n",
              "    }\n",
              "\n",
              "    .dataframe thead tr:last-of-type th {\n",
              "        text-align: right;\n",
              "    }\n",
              "</style>\n",
              "<table border=\"1\" class=\"dataframe\">\n",
              "  <thead>\n",
              "    <tr>\n",
              "      <th></th>\n",
              "      <th colspan=\"8\" halign=\"left\">salary</th>\n",
              "      <th colspan=\"8\" halign=\"left\">sales</th>\n",
              "      <th colspan=\"8\" halign=\"left\">roe</th>\n",
              "    </tr>\n",
              "    <tr>\n",
              "      <th></th>\n",
              "      <th>count</th>\n",
              "      <th>mean</th>\n",
              "      <th>std</th>\n",
              "      <th>min</th>\n",
              "      <th>25%</th>\n",
              "      <th>50%</th>\n",
              "      <th>75%</th>\n",
              "      <th>max</th>\n",
              "      <th>count</th>\n",
              "      <th>mean</th>\n",
              "      <th>std</th>\n",
              "      <th>min</th>\n",
              "      <th>25%</th>\n",
              "      <th>50%</th>\n",
              "      <th>75%</th>\n",
              "      <th>max</th>\n",
              "      <th>count</th>\n",
              "      <th>mean</th>\n",
              "      <th>std</th>\n",
              "      <th>min</th>\n",
              "      <th>25%</th>\n",
              "      <th>50%</th>\n",
              "      <th>75%</th>\n",
              "      <th>max</th>\n",
              "    </tr>\n",
              "    <tr>\n",
              "      <th>industry</th>\n",
              "      <th></th>\n",
              "      <th></th>\n",
              "      <th></th>\n",
              "      <th></th>\n",
              "      <th></th>\n",
              "      <th></th>\n",
              "      <th></th>\n",
              "      <th></th>\n",
              "      <th></th>\n",
              "      <th></th>\n",
              "      <th></th>\n",
              "      <th></th>\n",
              "      <th></th>\n",
              "      <th></th>\n",
              "      <th></th>\n",
              "      <th></th>\n",
              "      <th></th>\n",
              "      <th></th>\n",
              "      <th></th>\n",
              "      <th></th>\n",
              "      <th></th>\n",
              "      <th></th>\n",
              "      <th></th>\n",
              "      <th></th>\n",
              "    </tr>\n",
              "  </thead>\n",
              "  <tbody>\n",
              "    <tr>\n",
              "      <th>Finance</th>\n",
              "      <td>60.0</td>\n",
              "      <td>1722.416667</td>\n",
              "      <td>2242.687041</td>\n",
              "      <td>223.0</td>\n",
              "      <td>911.00</td>\n",
              "      <td>1246.0</td>\n",
              "      <td>1643.75</td>\n",
              "      <td>14822.0</td>\n",
              "      <td>60.0</td>\n",
              "      <td>8080.148297</td>\n",
              "      <td>14075.067881</td>\n",
              "      <td>175.199997</td>\n",
              "      <td>1718.250031</td>\n",
              "      <td>4934.149902</td>\n",
              "      <td>7719.500000</td>\n",
              "      <td>97649.898438</td>\n",
              "      <td>60.0</td>\n",
              "      <td>22.655000</td>\n",
              "      <td>10.199309</td>\n",
              "      <td>2.1</td>\n",
              "      <td>15.675</td>\n",
              "      <td>21.400000</td>\n",
              "      <td>26.925</td>\n",
              "      <td>48.099998</td>\n",
              "    </tr>\n",
              "    <tr>\n",
              "      <th>IT</th>\n",
              "      <td>46.0</td>\n",
              "      <td>1344.913043</td>\n",
              "      <td>1002.813128</td>\n",
              "      <td>441.0</td>\n",
              "      <td>884.00</td>\n",
              "      <td>1119.5</td>\n",
              "      <td>1406.00</td>\n",
              "      <td>6640.0</td>\n",
              "      <td>46.0</td>\n",
              "      <td>5844.047793</td>\n",
              "      <td>5190.410003</td>\n",
              "      <td>834.400024</td>\n",
              "      <td>2634.674927</td>\n",
              "      <td>3832.049927</td>\n",
              "      <td>6697.900024</td>\n",
              "      <td>24332.000000</td>\n",
              "      <td>46.0</td>\n",
              "      <td>14.328261</td>\n",
              "      <td>5.864153</td>\n",
              "      <td>0.5</td>\n",
              "      <td>10.950</td>\n",
              "      <td>14.750000</td>\n",
              "      <td>16.475</td>\n",
              "      <td>33.299999</td>\n",
              "    </tr>\n",
              "    <tr>\n",
              "      <th>Other</th>\n",
              "      <td>31.0</td>\n",
              "      <td>627.870968</td>\n",
              "      <td>175.264323</td>\n",
              "      <td>333.0</td>\n",
              "      <td>501.50</td>\n",
              "      <td>607.0</td>\n",
              "      <td>726.00</td>\n",
              "      <td>1100.0</td>\n",
              "      <td>31.0</td>\n",
              "      <td>3382.474180</td>\n",
              "      <td>1818.980165</td>\n",
              "      <td>1097.099976</td>\n",
              "      <td>2192.400024</td>\n",
              "      <td>2744.000000</td>\n",
              "      <td>4080.350098</td>\n",
              "      <td>9470.099609</td>\n",
              "      <td>31.0</td>\n",
              "      <td>11.293548</td>\n",
              "      <td>3.151289</td>\n",
              "      <td>2.9</td>\n",
              "      <td>9.550</td>\n",
              "      <td>12.300000</td>\n",
              "      <td>13.700</td>\n",
              "      <td>15.500000</td>\n",
              "    </tr>\n",
              "    <tr>\n",
              "      <th>Service</th>\n",
              "      <td>72.0</td>\n",
              "      <td>1153.875000</td>\n",
              "      <td>563.472032</td>\n",
              "      <td>256.0</td>\n",
              "      <td>811.25</td>\n",
              "      <td>1064.0</td>\n",
              "      <td>1348.50</td>\n",
              "      <td>3844.0</td>\n",
              "      <td>72.0</td>\n",
              "      <td>8174.736113</td>\n",
              "      <td>11797.949013</td>\n",
              "      <td>526.299988</td>\n",
              "      <td>2197.425049</td>\n",
              "      <td>4120.500122</td>\n",
              "      <td>8402.500000</td>\n",
              "      <td>69018.000000</td>\n",
              "      <td>72.0</td>\n",
              "      <td>16.986111</td>\n",
              "      <td>7.374400</td>\n",
              "      <td>1.9</td>\n",
              "      <td>13.100</td>\n",
              "      <td>16.150001</td>\n",
              "      <td>19.525</td>\n",
              "      <td>56.299999</td>\n",
              "    </tr>\n",
              "  </tbody>\n",
              "</table>\n",
              "</div>"
            ],
            "text/plain": [
              "         salary                            ...        roe                   \n",
              "          count         mean          std  ...        50%     75%        max\n",
              "industry                                   ...                              \n",
              "Finance    60.0  1722.416667  2242.687041  ...  21.400000  26.925  48.099998\n",
              "IT         46.0  1344.913043  1002.813128  ...  14.750000  16.475  33.299999\n",
              "Other      31.0   627.870968   175.264323  ...  12.300000  13.700  15.500000\n",
              "Service    72.0  1153.875000   563.472032  ...  16.150001  19.525  56.299999\n",
              "\n",
              "[4 rows x 24 columns]"
            ]
          },
          "metadata": {},
          "execution_count": 90
        }
      ]
    },
    {
      "cell_type": "code",
      "metadata": {
        "id": "xCITAfkJCWgD",
        "colab": {
          "base_uri": "https://localhost:8080/"
        },
        "outputId": "106da296-57bf-4091-c726-cd909e6410f3"
      },
      "source": [
        "data.groupby('industry')['salary'].describe()"
      ],
      "execution_count": null,
      "outputs": [
        {
          "output_type": "execute_result",
          "data": {
            "text/html": [
              "<div>\n",
              "<style scoped>\n",
              "    .dataframe tbody tr th:only-of-type {\n",
              "        vertical-align: middle;\n",
              "    }\n",
              "\n",
              "    .dataframe tbody tr th {\n",
              "        vertical-align: top;\n",
              "    }\n",
              "\n",
              "    .dataframe thead th {\n",
              "        text-align: right;\n",
              "    }\n",
              "</style>\n",
              "<table border=\"1\" class=\"dataframe\">\n",
              "  <thead>\n",
              "    <tr style=\"text-align: right;\">\n",
              "      <th></th>\n",
              "      <th>count</th>\n",
              "      <th>mean</th>\n",
              "      <th>std</th>\n",
              "      <th>min</th>\n",
              "      <th>25%</th>\n",
              "      <th>50%</th>\n",
              "      <th>75%</th>\n",
              "      <th>max</th>\n",
              "    </tr>\n",
              "    <tr>\n",
              "      <th>industry</th>\n",
              "      <th></th>\n",
              "      <th></th>\n",
              "      <th></th>\n",
              "      <th></th>\n",
              "      <th></th>\n",
              "      <th></th>\n",
              "      <th></th>\n",
              "      <th></th>\n",
              "    </tr>\n",
              "  </thead>\n",
              "  <tbody>\n",
              "    <tr>\n",
              "      <th>Finance</th>\n",
              "      <td>60.0</td>\n",
              "      <td>1722.416667</td>\n",
              "      <td>2242.687041</td>\n",
              "      <td>223.0</td>\n",
              "      <td>911.00</td>\n",
              "      <td>1246.0</td>\n",
              "      <td>1643.75</td>\n",
              "      <td>14822.0</td>\n",
              "    </tr>\n",
              "    <tr>\n",
              "      <th>IT</th>\n",
              "      <td>46.0</td>\n",
              "      <td>1344.913043</td>\n",
              "      <td>1002.813128</td>\n",
              "      <td>441.0</td>\n",
              "      <td>884.00</td>\n",
              "      <td>1119.5</td>\n",
              "      <td>1406.00</td>\n",
              "      <td>6640.0</td>\n",
              "    </tr>\n",
              "    <tr>\n",
              "      <th>Other</th>\n",
              "      <td>31.0</td>\n",
              "      <td>627.870968</td>\n",
              "      <td>175.264323</td>\n",
              "      <td>333.0</td>\n",
              "      <td>501.50</td>\n",
              "      <td>607.0</td>\n",
              "      <td>726.00</td>\n",
              "      <td>1100.0</td>\n",
              "    </tr>\n",
              "    <tr>\n",
              "      <th>Service</th>\n",
              "      <td>72.0</td>\n",
              "      <td>1153.875000</td>\n",
              "      <td>563.472032</td>\n",
              "      <td>256.0</td>\n",
              "      <td>811.25</td>\n",
              "      <td>1064.0</td>\n",
              "      <td>1348.50</td>\n",
              "      <td>3844.0</td>\n",
              "    </tr>\n",
              "  </tbody>\n",
              "</table>\n",
              "</div>"
            ],
            "text/plain": [
              "          count         mean          std  ...     50%      75%      max\n",
              "industry                                   ...                          \n",
              "Finance    60.0  1722.416667  2242.687041  ...  1246.0  1643.75  14822.0\n",
              "IT         46.0  1344.913043  1002.813128  ...  1119.5  1406.00   6640.0\n",
              "Other      31.0   627.870968   175.264323  ...   607.0   726.00   1100.0\n",
              "Service    72.0  1153.875000   563.472032  ...  1064.0  1348.50   3844.0\n",
              "\n",
              "[4 rows x 8 columns]"
            ]
          },
          "metadata": {},
          "execution_count": 91
        }
      ]
    },
    {
      "cell_type": "markdown",
      "metadata": {
        "id": "BCPazV3gCk62"
      },
      "source": [
        "#이상치 처리 및 변수 변환"
      ]
    },
    {
      "cell_type": "code",
      "metadata": {
        "id": "3JjqRarrCdLe",
        "colab": {
          "base_uri": "https://localhost:8080/"
        },
        "outputId": "2bcc4627-35bb-475f-9af5-02e9855a6ca9"
      },
      "source": [
        "data.boxplot(column='salary',return_type='both')"
      ],
      "execution_count": null,
      "outputs": [
        {
          "output_type": "execute_result",
          "data": {
            "text/plain": [
              "Boxplot(ax=<matplotlib.axes._subplots.AxesSubplot object at 0x7fca91b5a090>, lines={'whiskers': [<matplotlib.lines.Line2D object at 0x7fca91ad1ed0>, <matplotlib.lines.Line2D object at 0x7fca91ad4450>], 'caps': [<matplotlib.lines.Line2D object at 0x7fca91ad4990>, <matplotlib.lines.Line2D object at 0x7fca91ad4ed0>], 'boxes': [<matplotlib.lines.Line2D object at 0x7fca91ad1910>], 'medians': [<matplotlib.lines.Line2D object at 0x7fca91adc490>], 'fliers': [<matplotlib.lines.Line2D object at 0x7fca91adc9d0>], 'means': []})"
            ]
          },
          "metadata": {},
          "execution_count": 92
        },
        {
          "output_type": "display_data",
          "data": {
            "image/png": "[encoded data removed]",
            "text/plain": [
              "<Figure size 432x288 with 1 Axes>"
            ]
          },
          "metadata": {
            "needs_background": "light"
          }
        }
      ]
    },
    {
      "cell_type": "code",
      "metadata": {
        "id": "vBEH2ahFQEwb",
        "colab": {
          "base_uri": "https://localhost:8080/"
        },
        "outputId": "7e3ad169-7460-4a45-8c2a-747923f166cf"
      },
      "source": [
        "data.boxplot(column='roe',return_type='dict')"
      ],
      "execution_count": null,
      "outputs": [
        {
          "output_type": "execute_result",
          "data": {
            "text/plain": [
              "{'boxes': [<matplotlib.lines.Line2D at 0x7fca91ac6910>],\n",
              " 'caps': [<matplotlib.lines.Line2D at 0x7fca91ac9990>,\n",
              "  <matplotlib.lines.Line2D at 0x7fca91ac9ed0>],\n",
              " 'fliers': [<matplotlib.lines.Line2D at 0x7fca91a4f9d0>],\n",
              " 'means': [],\n",
              " 'medians': [<matplotlib.lines.Line2D at 0x7fca91a4f490>],\n",
              " 'whiskers': [<matplotlib.lines.Line2D at 0x7fca91ac6ed0>,\n",
              "  <matplotlib.lines.Line2D at 0x7fca91ac9450>]}"
            ]
          },
          "metadata": {},
          "execution_count": 93
        },
        {
          "output_type": "display_data",
          "data": {
            "image/png": "[encoded data removed]",
            "text/plain": [
              "<Figure size 432x288 with 1 Axes>"
            ]
          },
          "metadata": {
            "needs_background": "light"
          }
        }
      ]
    },
    {
      "cell_type": "code",
      "metadata": {
        "id": "6G-678vdQNPE"
      },
      "source": [
        "Q1_salary = data['salary'].quantile(q=0.25)\n",
        "Q3_salary = data['salary'].quantile(q=0.75)\n",
        "IQR_salary = Q3_salary- Q1_salary"
      ],
      "execution_count": null,
      "outputs": []
    },
    {
      "cell_type": "code",
      "metadata": {
        "id": "vkvHX72iQjzf"
      },
      "source": [
        "data_IQR = data[(data['salary']> Q1_salary-IQR_salary*1.5) &(data['salary']< Q3_salary+IQR_salary*1.5)]"
      ],
      "execution_count": null,
      "outputs": []
    },
    {
      "cell_type": "code",
      "metadata": {
        "id": "X9hP19EZQwI0",
        "colab": {
          "base_uri": "https://localhost:8080/"
        },
        "outputId": "493fcb2b-4ee8-4585-827a-b6c8a3a8757e"
      },
      "source": [
        "data_IQR['salary'].hist()"
      ],
      "execution_count": null,
      "outputs": [
        {
          "output_type": "execute_result",
          "data": {
            "text/plain": [
              "<matplotlib.axes._subplots.AxesSubplot at 0x7fca91a77790>"
            ]
          },
          "metadata": {},
          "execution_count": 96
        },
        {
          "output_type": "display_data",
          "data": {
            "image/png": "[encoded data removed]",
            "text/plain": [
              "<Figure size 432x288 with 1 Axes>"
            ]
          },
          "metadata": {
            "needs_background": "light"
          }
        }
      ]
    },
    {
      "cell_type": "code",
      "metadata": {
        "id": "crkURbHURHDh",
        "colab": {
          "base_uri": "https://localhost:8080/"
        },
        "outputId": "ac0a1eb5-8903-4525-ee32-a4c240dce02d"
      },
      "source": [
        "data_IQR.hist(bins=50, figsize=(20,15))"
      ],
      "execution_count": null,
      "outputs": [
        {
          "output_type": "execute_result",
          "data": {
            "text/plain": [
              "array([[<matplotlib.axes._subplots.AxesSubplot object at 0x7fca91a07550>,\n",
              "        <matplotlib.axes._subplots.AxesSubplot object at 0x7fca919bb210>],\n",
              "       [<matplotlib.axes._subplots.AxesSubplot object at 0x7fca91972610>,\n",
              "        <matplotlib.axes._subplots.AxesSubplot object at 0x7fca91926b90>]],\n",
              "      dtype=object)"
            ]
          },
          "metadata": {},
          "execution_count": 97
        },
        {
          "output_type": "display_data",
          "data": {
            "image/png": "[encoded data removed]",
            "text/plain": [
              "<Figure size 1440x1080 with 4 Axes>"
            ]
          },
          "metadata": {
            "needs_background": "light"
          }
        }
      ]
    },
    {
      "cell_type": "code",
      "metadata": {
        "id": "pPV-BOmqRkZx"
      },
      "source": [
        "Q1_sales = data['sales'].quantile(0.25)\n",
        "Q3_sales = data['sales'].quantile(0.75)"
      ],
      "execution_count": null,
      "outputs": []
    },
    {
      "cell_type": "code",
      "metadata": {
        "id": "rpDu-c83SL_z"
      },
      "source": [
        "IQR_sales = Q3_sales - Q1_sales"
      ],
      "execution_count": null,
      "outputs": []
    },
    {
      "cell_type": "code",
      "metadata": {
        "id": "LeHNI8GtSR1M"
      },
      "source": [
        "data_IQR = data[(data['sales']> Q1_sales-IQR_sales*1.5) & (data['sales']< Q3_sales+IQR_sales*1.5 )&(data['salary']> Q1_salary-IQR_salary*1.5) &(data['salary']< Q3_salary+IQR_salary*1.5)]"
      ],
      "execution_count": null,
      "outputs": []
    },
    {
      "cell_type": "code",
      "metadata": {
        "id": "l77Z5kezTAf-",
        "colab": {
          "base_uri": "https://localhost:8080/"
        },
        "outputId": "843ac22a-81e2-4294-b670-6749cf0bda64"
      },
      "source": [
        "data_IQR['sales'].hist()"
      ],
      "execution_count": null,
      "outputs": [
        {
          "output_type": "execute_result",
          "data": {
            "text/plain": [
              "<matplotlib.axes._subplots.AxesSubplot at 0x7fca918ccc50>"
            ]
          },
          "metadata": {},
          "execution_count": 101
        },
        {
          "output_type": "display_data",
          "data": {
            "image/png": "[encoded data removed]",
            "text/plain": [
              "<Figure size 432x288 with 1 Axes>"
            ]
          },
          "metadata": {
            "needs_background": "light"
          }
        }
      ]
    },
    {
      "cell_type": "code",
      "metadata": {
        "id": "VZ4JHeNbSprX",
        "colab": {
          "base_uri": "https://localhost:8080/"
        },
        "outputId": "63bfa8e1-49ff-4666-ded9-fa30e8fe716b"
      },
      "source": [
        "data_IQR.hist(bins=50, figsize=(20,15))"
      ],
      "execution_count": null,
      "outputs": [
        {
          "output_type": "execute_result",
          "data": {
            "text/plain": [
              "array([[<matplotlib.axes._subplots.AxesSubplot object at 0x7fca91b20990>,\n",
              "        <matplotlib.axes._subplots.AxesSubplot object at 0x7fca915fa610>],\n",
              "       [<matplotlib.axes._subplots.AxesSubplot object at 0x7fca915afad0>,\n",
              "        <matplotlib.axes._subplots.AxesSubplot object at 0x7fca9155ab90>]],\n",
              "      dtype=object)"
            ]
          },
          "metadata": {},
          "execution_count": 102
        },
        {
          "output_type": "display_data",
          "data": {
            "image/png": "[encoded data removed]",
            "text/plain": [
              "<Figure size 1440x1080 with 4 Axes>"
            ]
          },
          "metadata": {
            "needs_background": "light"
          }
        }
      ]
    },
    {
      "cell_type": "code",
      "metadata": {
        "id": "gWIX6WalSsrG",
        "colab": {
          "base_uri": "https://localhost:8080/"
        },
        "outputId": "e5f87655-ae9e-4ac4-8f9d-c2b2d344eebf"
      },
      "source": [
        "data_IQR.corr()"
      ],
      "execution_count": null,
      "outputs": [
        {
          "output_type": "execute_result",
          "data": {
            "text/html": [
              "<div>\n",
              "<style scoped>\n",
              "    .dataframe tbody tr th:only-of-type {\n",
              "        vertical-align: middle;\n",
              "    }\n",
              "\n",
              "    .dataframe tbody tr th {\n",
              "        vertical-align: top;\n",
              "    }\n",
              "\n",
              "    .dataframe thead th {\n",
              "        text-align: right;\n",
              "    }\n",
              "</style>\n",
              "<table border=\"1\" class=\"dataframe\">\n",
              "  <thead>\n",
              "    <tr style=\"text-align: right;\">\n",
              "      <th></th>\n",
              "      <th>salary</th>\n",
              "      <th>sales</th>\n",
              "      <th>roe</th>\n",
              "    </tr>\n",
              "  </thead>\n",
              "  <tbody>\n",
              "    <tr>\n",
              "      <th>salary</th>\n",
              "      <td>1.000000</td>\n",
              "      <td>0.471278</td>\n",
              "      <td>0.299153</td>\n",
              "    </tr>\n",
              "    <tr>\n",
              "      <th>sales</th>\n",
              "      <td>0.471278</td>\n",
              "      <td>1.000000</td>\n",
              "      <td>-0.076046</td>\n",
              "    </tr>\n",
              "    <tr>\n",
              "      <th>roe</th>\n",
              "      <td>0.299153</td>\n",
              "      <td>-0.076046</td>\n",
              "      <td>1.000000</td>\n",
              "    </tr>\n",
              "  </tbody>\n",
              "</table>\n",
              "</div>"
            ],
            "text/plain": [
              "          salary     sales       roe\n",
              "salary  1.000000  0.471278  0.299153\n",
              "sales   0.471278  1.000000 -0.076046\n",
              "roe     0.299153 -0.076046  1.000000"
            ]
          },
          "metadata": {},
          "execution_count": 103
        }
      ]
    },
    {
      "cell_type": "code",
      "metadata": {
        "id": "NSXRIb_6YJEV"
      },
      "source": [
        "import numpy as np\n",
        "data['log_roe'] = np.log(data['roe'])\n",
        "data['log_salary'] = np.log(data['salary'])\n",
        "data['log_sales'] = np.log(data['sales'])"
      ],
      "execution_count": null,
      "outputs": []
    },
    {
      "cell_type": "code",
      "metadata": {
        "id": "r6GlCbqvYdNu",
        "colab": {
          "base_uri": "https://localhost:8080/"
        },
        "outputId": "4fd26153-e5d1-41e4-8160-5b1b74967773"
      },
      "source": [
        "data.head()"
      ],
      "execution_count": null,
      "outputs": [
        {
          "output_type": "execute_result",
          "data": {
            "text/html": [
              "<div>\n",
              "<style scoped>\n",
              "    .dataframe tbody tr th:only-of-type {\n",
              "        vertical-align: middle;\n",
              "    }\n",
              "\n",
              "    .dataframe tbody tr th {\n",
              "        vertical-align: top;\n",
              "    }\n",
              "\n",
              "    .dataframe thead th {\n",
              "        text-align: right;\n",
              "    }\n",
              "</style>\n",
              "<table border=\"1\" class=\"dataframe\">\n",
              "  <thead>\n",
              "    <tr style=\"text-align: right;\">\n",
              "      <th></th>\n",
              "      <th>salary</th>\n",
              "      <th>sales</th>\n",
              "      <th>roe</th>\n",
              "      <th>industry</th>\n",
              "      <th>log_roe</th>\n",
              "      <th>log_salary</th>\n",
              "      <th>log_sales</th>\n",
              "    </tr>\n",
              "  </thead>\n",
              "  <tbody>\n",
              "    <tr>\n",
              "      <th>0</th>\n",
              "      <td>1095</td>\n",
              "      <td>27595.000000</td>\n",
              "      <td>14.1</td>\n",
              "      <td>Service</td>\n",
              "      <td>2.646175</td>\n",
              "      <td>6.998510</td>\n",
              "      <td>10.225390</td>\n",
              "    </tr>\n",
              "    <tr>\n",
              "      <th>1</th>\n",
              "      <td>1001</td>\n",
              "      <td>9958.000000</td>\n",
              "      <td>10.9</td>\n",
              "      <td>Service</td>\n",
              "      <td>2.388763</td>\n",
              "      <td>6.908755</td>\n",
              "      <td>9.206132</td>\n",
              "    </tr>\n",
              "    <tr>\n",
              "      <th>2</th>\n",
              "      <td>1122</td>\n",
              "      <td>6125.899902</td>\n",
              "      <td>23.5</td>\n",
              "      <td>Service</td>\n",
              "      <td>3.157000</td>\n",
              "      <td>7.022868</td>\n",
              "      <td>8.720281</td>\n",
              "    </tr>\n",
              "    <tr>\n",
              "      <th>3</th>\n",
              "      <td>578</td>\n",
              "      <td>16246.000000</td>\n",
              "      <td>5.9</td>\n",
              "      <td>Service</td>\n",
              "      <td>1.774952</td>\n",
              "      <td>6.359574</td>\n",
              "      <td>9.695602</td>\n",
              "    </tr>\n",
              "    <tr>\n",
              "      <th>4</th>\n",
              "      <td>1368</td>\n",
              "      <td>21783.199219</td>\n",
              "      <td>13.8</td>\n",
              "      <td>Service</td>\n",
              "      <td>2.624669</td>\n",
              "      <td>7.221105</td>\n",
              "      <td>9.988894</td>\n",
              "    </tr>\n",
              "  </tbody>\n",
              "</table>\n",
              "</div>"
            ],
            "text/plain": [
              "   salary         sales   roe industry   log_roe  log_salary  log_sales\n",
              "0    1095  27595.000000  14.1  Service  2.646175    6.998510  10.225390\n",
              "1    1001   9958.000000  10.9  Service  2.388763    6.908755   9.206132\n",
              "2    1122   6125.899902  23.5  Service  3.157000    7.022868   8.720281\n",
              "3     578  16246.000000   5.9  Service  1.774952    6.359574   9.695602\n",
              "4    1368  21783.199219  13.8  Service  2.624669    7.221105   9.988894"
            ]
          },
          "metadata": {},
          "execution_count": 105
        }
      ]
    },
    {
      "cell_type": "code",
      "metadata": {
        "id": "E1bPhpHAYuOT",
        "colab": {
          "base_uri": "https://localhost:8080/"
        },
        "outputId": "6bb72191-df03-4621-b25a-6ebd1099c2fa"
      },
      "source": [
        "data.hist(bins=50,figsize=(20,15))"
      ],
      "execution_count": null,
      "outputs": [
        {
          "output_type": "execute_result",
          "data": {
            "text/plain": [
              "array([[<matplotlib.axes._subplots.AxesSubplot object at 0x7fca9130a4d0>,\n",
              "        <matplotlib.axes._subplots.AxesSubplot object at 0x7fca91dba750>],\n",
              "       [<matplotlib.axes._subplots.AxesSubplot object at 0x7fca91ce2e90>,\n",
              "        <matplotlib.axes._subplots.AxesSubplot object at 0x7fca91c03850>],\n",
              "       [<matplotlib.axes._subplots.AxesSubplot object at 0x7fca91c12c50>,\n",
              "        <matplotlib.axes._subplots.AxesSubplot object at 0x7fca91200150>]],\n",
              "      dtype=object)"
            ]
          },
          "metadata": {},
          "execution_count": 106
        },
        {
          "output_type": "display_data",
          "data": {
            "image/png": "[encoded data removed]",
            "text/plain": [
              "<Figure size 1440x1080 with 6 Axes>"
            ]
          },
          "metadata": {
            "needs_background": "light"
          }
        }
      ]
    },
    {
      "cell_type": "code",
      "metadata": {
        "id": "m-IDjZB3ZDkd",
        "colab": {
          "base_uri": "https://localhost:8080/"
        },
        "outputId": "4d21a356-8d8d-4c3c-9340-155f96cc8900"
      },
      "source": [
        "data.corr()"
      ],
      "execution_count": null,
      "outputs": [
        {
          "output_type": "execute_result",
          "data": {
            "text/html": [
              "<div>\n",
              "<style scoped>\n",
              "    .dataframe tbody tr th:only-of-type {\n",
              "        vertical-align: middle;\n",
              "    }\n",
              "\n",
              "    .dataframe tbody tr th {\n",
              "        vertical-align: top;\n",
              "    }\n",
              "\n",
              "    .dataframe thead th {\n",
              "        text-align: right;\n",
              "    }\n",
              "</style>\n",
              "<table border=\"1\" class=\"dataframe\">\n",
              "  <thead>\n",
              "    <tr style=\"text-align: right;\">\n",
              "      <th></th>\n",
              "      <th>salary</th>\n",
              "      <th>sales</th>\n",
              "      <th>roe</th>\n",
              "      <th>log_roe</th>\n",
              "      <th>log_salary</th>\n",
              "      <th>log_sales</th>\n",
              "    </tr>\n",
              "  </thead>\n",
              "  <tbody>\n",
              "    <tr>\n",
              "      <th>salary</th>\n",
              "      <td>1.000000</td>\n",
              "      <td>0.119869</td>\n",
              "      <td>0.114842</td>\n",
              "      <td>0.101526</td>\n",
              "      <td>0.794208</td>\n",
              "      <td>0.194092</td>\n",
              "    </tr>\n",
              "    <tr>\n",
              "      <th>sales</th>\n",
              "      <td>0.119869</td>\n",
              "      <td>1.000000</td>\n",
              "      <td>-0.055386</td>\n",
              "      <td>-0.041004</td>\n",
              "      <td>0.281286</td>\n",
              "      <td>0.742921</td>\n",
              "    </tr>\n",
              "    <tr>\n",
              "      <th>roe</th>\n",
              "      <td>0.114842</td>\n",
              "      <td>-0.055386</td>\n",
              "      <td>1.000000</td>\n",
              "      <td>0.873419</td>\n",
              "      <td>0.208499</td>\n",
              "      <td>-0.122553</td>\n",
              "    </tr>\n",
              "    <tr>\n",
              "      <th>log_roe</th>\n",
              "      <td>0.101526</td>\n",
              "      <td>-0.041004</td>\n",
              "      <td>0.873419</td>\n",
              "      <td>1.000000</td>\n",
              "      <td>0.163548</td>\n",
              "      <td>-0.120642</td>\n",
              "    </tr>\n",
              "    <tr>\n",
              "      <th>log_salary</th>\n",
              "      <td>0.794208</td>\n",
              "      <td>0.281286</td>\n",
              "      <td>0.208499</td>\n",
              "      <td>0.163548</td>\n",
              "      <td>1.000000</td>\n",
              "      <td>0.459148</td>\n",
              "    </tr>\n",
              "    <tr>\n",
              "      <th>log_sales</th>\n",
              "      <td>0.194092</td>\n",
              "      <td>0.742921</td>\n",
              "      <td>-0.122553</td>\n",
              "      <td>-0.120642</td>\n",
              "      <td>0.459148</td>\n",
              "      <td>1.000000</td>\n",
              "    </tr>\n",
              "  </tbody>\n",
              "</table>\n",
              "</div>"
            ],
            "text/plain": [
              "              salary     sales       roe   log_roe  log_salary  log_sales\n",
              "salary      1.000000  0.119869  0.114842  0.101526    0.794208   0.194092\n",
              "sales       0.119869  1.000000 -0.055386 -0.041004    0.281286   0.742921\n",
              "roe         0.114842 -0.055386  1.000000  0.873419    0.208499  -0.122553\n",
              "log_roe     0.101526 -0.041004  0.873419  1.000000    0.163548  -0.120642\n",
              "log_salary  0.794208  0.281286  0.208499  0.163548    1.000000   0.459148\n",
              "log_sales   0.194092  0.742921 -0.122553 -0.120642    0.459148   1.000000"
            ]
          },
          "metadata": {},
          "execution_count": 107
        }
      ]
    },
    {
      "cell_type": "code",
      "metadata": {
        "id": "Gmse11b_ZO-V"
      },
      "source": [
        "data['sqrt_roe'] = np.sqrt(data['roe'])\n",
        "data['sqrt_salary'] = np.sqrt(data['salary'])\n",
        "data['sqrt_sales'] = np.sqrt(data['sales'])"
      ],
      "execution_count": null,
      "outputs": []
    },
    {
      "cell_type": "code",
      "metadata": {
        "id": "V4aGImKnZZ50",
        "colab": {
          "base_uri": "https://localhost:8080/"
        },
        "outputId": "68748e28-02ec-4233-c954-c605b2e69ed7"
      },
      "source": [
        "data.hist(bins=50,figsize=(20,15))"
      ],
      "execution_count": null,
      "outputs": [
        {
          "output_type": "execute_result",
          "data": {
            "text/plain": [
              "array([[<matplotlib.axes._subplots.AxesSubplot object at 0x7fca9130a710>,\n",
              "        <matplotlib.axes._subplots.AxesSubplot object at 0x7fca90ca6690>,\n",
              "        <matplotlib.axes._subplots.AxesSubplot object at 0x7fca90cb8b90>],\n",
              "       [<matplotlib.axes._subplots.AxesSubplot object at 0x7fca90c73150>,\n",
              "        <matplotlib.axes._subplots.AxesSubplot object at 0x7fca90c296d0>,\n",
              "        <matplotlib.axes._subplots.AxesSubplot object at 0x7fca90bdbc50>],\n",
              "       [<matplotlib.axes._subplots.AxesSubplot object at 0x7fca90b9e290>,\n",
              "        <matplotlib.axes._subplots.AxesSubplot object at 0x7fca90b53750>,\n",
              "        <matplotlib.axes._subplots.AxesSubplot object at 0x7fca90b53790>]],\n",
              "      dtype=object)"
            ]
          },
          "metadata": {},
          "execution_count": 109
        },
        {
          "output_type": "display_data",
          "data": {
            "image/png": "[encoded data removed]",
            "text/plain": [
              "<Figure size 1440x1080 with 9 Axes>"
            ]
          },
          "metadata": {
            "needs_background": "light"
          }
        }
      ]
    },
    {
      "cell_type": "code",
      "metadata": {
        "id": "On2sudkHZkOn",
        "colab": {
          "base_uri": "https://localhost:8080/"
        },
        "outputId": "68302cb8-ad42-42f3-fb00-c10c5b4c70e0"
      },
      "source": [
        "data.corr()"
      ],
      "execution_count": null,
      "outputs": [
        {
          "output_type": "execute_result",
          "data": {
            "text/html": [
              "<div>\n",
              "<style scoped>\n",
              "    .dataframe tbody tr th:only-of-type {\n",
              "        vertical-align: middle;\n",
              "    }\n",
              "\n",
              "    .dataframe tbody tr th {\n",
              "        vertical-align: top;\n",
              "    }\n",
              "\n",
              "    .dataframe thead th {\n",
              "        text-align: right;\n",
              "    }\n",
              "</style>\n",
              "<table border=\"1\" class=\"dataframe\">\n",
              "  <thead>\n",
              "    <tr style=\"text-align: right;\">\n",
              "      <th></th>\n",
              "      <th>salary</th>\n",
              "      <th>sales</th>\n",
              "      <th>roe</th>\n",
              "      <th>log_roe</th>\n",
              "      <th>log_salary</th>\n",
              "      <th>log_sales</th>\n",
              "      <th>sqrt_roe</th>\n",
              "      <th>sqrt_salary</th>\n",
              "      <th>sqrt_sales</th>\n",
              "    </tr>\n",
              "  </thead>\n",
              "  <tbody>\n",
              "    <tr>\n",
              "      <th>salary</th>\n",
              "      <td>1.000000</td>\n",
              "      <td>0.119869</td>\n",
              "      <td>0.114842</td>\n",
              "      <td>0.101526</td>\n",
              "      <td>0.794208</td>\n",
              "      <td>0.194092</td>\n",
              "      <td>0.115219</td>\n",
              "      <td>0.945732</td>\n",
              "      <td>0.164340</td>\n",
              "    </tr>\n",
              "    <tr>\n",
              "      <th>sales</th>\n",
              "      <td>0.119869</td>\n",
              "      <td>1.000000</td>\n",
              "      <td>-0.055386</td>\n",
              "      <td>-0.041004</td>\n",
              "      <td>0.281286</td>\n",
              "      <td>0.742921</td>\n",
              "      <td>-0.050538</td>\n",
              "      <td>0.215716</td>\n",
              "      <td>0.936282</td>\n",
              "    </tr>\n",
              "    <tr>\n",
              "      <th>roe</th>\n",
              "      <td>0.114842</td>\n",
              "      <td>-0.055386</td>\n",
              "      <td>1.000000</td>\n",
              "      <td>0.873419</td>\n",
              "      <td>0.208499</td>\n",
              "      <td>-0.122553</td>\n",
              "      <td>0.977012</td>\n",
              "      <td>0.172327</td>\n",
              "      <td>-0.087687</td>\n",
              "    </tr>\n",
              "    <tr>\n",
              "      <th>log_roe</th>\n",
              "      <td>0.101526</td>\n",
              "      <td>-0.041004</td>\n",
              "      <td>0.873419</td>\n",
              "      <td>1.000000</td>\n",
              "      <td>0.163548</td>\n",
              "      <td>-0.120642</td>\n",
              "      <td>0.953806</td>\n",
              "      <td>0.139470</td>\n",
              "      <td>-0.083308</td>\n",
              "    </tr>\n",
              "    <tr>\n",
              "      <th>log_salary</th>\n",
              "      <td>0.794208</td>\n",
              "      <td>0.281286</td>\n",
              "      <td>0.208499</td>\n",
              "      <td>0.163548</td>\n",
              "      <td>1.000000</td>\n",
              "      <td>0.459148</td>\n",
              "      <td>0.197914</td>\n",
              "      <td>0.946014</td>\n",
              "      <td>0.386456</td>\n",
              "    </tr>\n",
              "    <tr>\n",
              "      <th>log_sales</th>\n",
              "      <td>0.194092</td>\n",
              "      <td>0.742921</td>\n",
              "      <td>-0.122553</td>\n",
              "      <td>-0.120642</td>\n",
              "      <td>0.459148</td>\n",
              "      <td>1.000000</td>\n",
              "      <td>-0.129020</td>\n",
              "      <td>0.342422</td>\n",
              "      <td>0.920797</td>\n",
              "    </tr>\n",
              "    <tr>\n",
              "      <th>sqrt_roe</th>\n",
              "      <td>0.115219</td>\n",
              "      <td>-0.050538</td>\n",
              "      <td>0.977012</td>\n",
              "      <td>0.953806</td>\n",
              "      <td>0.197914</td>\n",
              "      <td>-0.129020</td>\n",
              "      <td>1.000000</td>\n",
              "      <td>0.165932</td>\n",
              "      <td>-0.089501</td>\n",
              "    </tr>\n",
              "    <tr>\n",
              "      <th>sqrt_salary</th>\n",
              "      <td>0.945732</td>\n",
              "      <td>0.215716</td>\n",
              "      <td>0.172327</td>\n",
              "      <td>0.139470</td>\n",
              "      <td>0.946014</td>\n",
              "      <td>0.342422</td>\n",
              "      <td>0.165932</td>\n",
              "      <td>1.000000</td>\n",
              "      <td>0.293173</td>\n",
              "    </tr>\n",
              "    <tr>\n",
              "      <th>sqrt_sales</th>\n",
              "      <td>0.164340</td>\n",
              "      <td>0.936282</td>\n",
              "      <td>-0.087687</td>\n",
              "      <td>-0.083308</td>\n",
              "      <td>0.386456</td>\n",
              "      <td>0.920797</td>\n",
              "      <td>-0.089501</td>\n",
              "      <td>0.293173</td>\n",
              "      <td>1.000000</td>\n",
              "    </tr>\n",
              "  </tbody>\n",
              "</table>\n",
              "</div>"
            ],
            "text/plain": [
              "               salary     sales       roe  ...  sqrt_roe  sqrt_salary  sqrt_sales\n",
              "salary       1.000000  0.119869  0.114842  ...  0.115219     0.945732    0.164340\n",
              "sales        0.119869  1.000000 -0.055386  ... -0.050538     0.215716    0.936282\n",
              "roe          0.114842 -0.055386  1.000000  ...  0.977012     0.172327   -0.087687\n",
              "log_roe      0.101526 -0.041004  0.873419  ...  0.953806     0.139470   -0.083308\n",
              "log_salary   0.794208  0.281286  0.208499  ...  0.197914     0.946014    0.386456\n",
              "log_sales    0.194092  0.742921 -0.122553  ... -0.129020     0.342422    0.920797\n",
              "sqrt_roe     0.115219 -0.050538  0.977012  ...  1.000000     0.165932   -0.089501\n",
              "sqrt_salary  0.945732  0.215716  0.172327  ...  0.165932     1.000000    0.293173\n",
              "sqrt_sales   0.164340  0.936282 -0.087687  ... -0.089501     0.293173    1.000000\n",
              "\n",
              "[9 rows x 9 columns]"
            ]
          },
          "metadata": {},
          "execution_count": 110
        }
      ]
    },
    {
      "cell_type": "markdown",
      "metadata": {
        "id": "_JzKz7ZZTaI4"
      },
      "source": [
        "#결측치 처리"
      ]
    },
    {
      "cell_type": "code",
      "metadata": {
        "id": "JjsbZgPiTYHF"
      },
      "source": [
        "import pandas as pd\n",
        "data = pd.read_csv('Ex_Missing.csv')"
      ],
      "execution_count": null,
      "outputs": []
    },
    {
      "cell_type": "code",
      "metadata": {
        "colab": {
          "base_uri": "https://localhost:8080/",
          "height": 362
        },
        "id": "5GD1l7DkwXMP",
        "outputId": "f03c888d-b845-4e1a-eeda-aeacaf04b403"
      },
      "source": [
        "pd.isnull(data)"
      ],
      "execution_count": null,
      "outputs": [
        {
          "output_type": "execute_result",
          "data": {
            "text/html": [
              "<div>\n",
              "<style scoped>\n",
              "    .dataframe tbody tr th:only-of-type {\n",
              "        vertical-align: middle;\n",
              "    }\n",
              "\n",
              "    .dataframe tbody tr th {\n",
              "        vertical-align: top;\n",
              "    }\n",
              "\n",
              "    .dataframe thead th {\n",
              "        text-align: right;\n",
              "    }\n",
              "</style>\n",
              "<table border=\"1\" class=\"dataframe\">\n",
              "  <thead>\n",
              "    <tr style=\"text-align: right;\">\n",
              "      <th></th>\n",
              "      <th>salary</th>\n",
              "      <th>sales</th>\n",
              "      <th>roe</th>\n",
              "      <th>industry</th>\n",
              "    </tr>\n",
              "  </thead>\n",
              "  <tbody>\n",
              "    <tr>\n",
              "      <th>0</th>\n",
              "      <td>False</td>\n",
              "      <td>False</td>\n",
              "      <td>False</td>\n",
              "      <td>False</td>\n",
              "    </tr>\n",
              "    <tr>\n",
              "      <th>1</th>\n",
              "      <td>True</td>\n",
              "      <td>False</td>\n",
              "      <td>False</td>\n",
              "      <td>False</td>\n",
              "    </tr>\n",
              "    <tr>\n",
              "      <th>2</th>\n",
              "      <td>True</td>\n",
              "      <td>False</td>\n",
              "      <td>False</td>\n",
              "      <td>False</td>\n",
              "    </tr>\n",
              "    <tr>\n",
              "      <th>3</th>\n",
              "      <td>False</td>\n",
              "      <td>False</td>\n",
              "      <td>False</td>\n",
              "      <td>False</td>\n",
              "    </tr>\n",
              "    <tr>\n",
              "      <th>4</th>\n",
              "      <td>False</td>\n",
              "      <td>True</td>\n",
              "      <td>False</td>\n",
              "      <td>False</td>\n",
              "    </tr>\n",
              "    <tr>\n",
              "      <th>5</th>\n",
              "      <td>False</td>\n",
              "      <td>True</td>\n",
              "      <td>False</td>\n",
              "      <td>False</td>\n",
              "    </tr>\n",
              "    <tr>\n",
              "      <th>6</th>\n",
              "      <td>False</td>\n",
              "      <td>False</td>\n",
              "      <td>False</td>\n",
              "      <td>False</td>\n",
              "    </tr>\n",
              "    <tr>\n",
              "      <th>7</th>\n",
              "      <td>False</td>\n",
              "      <td>False</td>\n",
              "      <td>False</td>\n",
              "      <td>False</td>\n",
              "    </tr>\n",
              "    <tr>\n",
              "      <th>8</th>\n",
              "      <td>False</td>\n",
              "      <td>False</td>\n",
              "      <td>False</td>\n",
              "      <td>False</td>\n",
              "    </tr>\n",
              "    <tr>\n",
              "      <th>9</th>\n",
              "      <td>False</td>\n",
              "      <td>False</td>\n",
              "      <td>True</td>\n",
              "      <td>False</td>\n",
              "    </tr>\n",
              "  </tbody>\n",
              "</table>\n",
              "</div>"
            ],
            "text/plain": [
              "   salary  sales    roe  industry\n",
              "0   False  False  False     False\n",
              "1    True  False  False     False\n",
              "2    True  False  False     False\n",
              "3   False  False  False     False\n",
              "4   False   True  False     False\n",
              "5   False   True  False     False\n",
              "6   False  False  False     False\n",
              "7   False  False  False     False\n",
              "8   False  False  False     False\n",
              "9   False  False   True     False"
            ]
          },
          "metadata": {},
          "execution_count": 112
        }
      ]
    },
    {
      "cell_type": "code",
      "metadata": {
        "colab": {
          "base_uri": "https://localhost:8080/",
          "height": 362
        },
        "id": "l0zK-LeUwYZx",
        "outputId": "354c8e37-e19d-4fad-fd85-84852c2a44ab"
      },
      "source": [
        "data.isnull()"
      ],
      "execution_count": null,
      "outputs": [
        {
          "output_type": "execute_result",
          "data": {
            "text/html": [
              "<div>\n",
              "<style scoped>\n",
              "    .dataframe tbody tr th:only-of-type {\n",
              "        vertical-align: middle;\n",
              "    }\n",
              "\n",
              "    .dataframe tbody tr th {\n",
              "        vertical-align: top;\n",
              "    }\n",
              "\n",
              "    .dataframe thead th {\n",
              "        text-align: right;\n",
              "    }\n",
              "</style>\n",
              "<table border=\"1\" class=\"dataframe\">\n",
              "  <thead>\n",
              "    <tr style=\"text-align: right;\">\n",
              "      <th></th>\n",
              "      <th>salary</th>\n",
              "      <th>sales</th>\n",
              "      <th>roe</th>\n",
              "      <th>industry</th>\n",
              "    </tr>\n",
              "  </thead>\n",
              "  <tbody>\n",
              "    <tr>\n",
              "      <th>0</th>\n",
              "      <td>False</td>\n",
              "      <td>False</td>\n",
              "      <td>False</td>\n",
              "      <td>False</td>\n",
              "    </tr>\n",
              "    <tr>\n",
              "      <th>1</th>\n",
              "      <td>True</td>\n",
              "      <td>False</td>\n",
              "      <td>False</td>\n",
              "      <td>False</td>\n",
              "    </tr>\n",
              "    <tr>\n",
              "      <th>2</th>\n",
              "      <td>True</td>\n",
              "      <td>False</td>\n",
              "      <td>False</td>\n",
              "      <td>False</td>\n",
              "    </tr>\n",
              "    <tr>\n",
              "      <th>3</th>\n",
              "      <td>False</td>\n",
              "      <td>False</td>\n",
              "      <td>False</td>\n",
              "      <td>False</td>\n",
              "    </tr>\n",
              "    <tr>\n",
              "      <th>4</th>\n",
              "      <td>False</td>\n",
              "      <td>True</td>\n",
              "      <td>False</td>\n",
              "      <td>False</td>\n",
              "    </tr>\n",
              "    <tr>\n",
              "      <th>5</th>\n",
              "      <td>False</td>\n",
              "      <td>True</td>\n",
              "      <td>False</td>\n",
              "      <td>False</td>\n",
              "    </tr>\n",
              "    <tr>\n",
              "      <th>6</th>\n",
              "      <td>False</td>\n",
              "      <td>False</td>\n",
              "      <td>False</td>\n",
              "      <td>False</td>\n",
              "    </tr>\n",
              "    <tr>\n",
              "      <th>7</th>\n",
              "      <td>False</td>\n",
              "      <td>False</td>\n",
              "      <td>False</td>\n",
              "      <td>False</td>\n",
              "    </tr>\n",
              "    <tr>\n",
              "      <th>8</th>\n",
              "      <td>False</td>\n",
              "      <td>False</td>\n",
              "      <td>False</td>\n",
              "      <td>False</td>\n",
              "    </tr>\n",
              "    <tr>\n",
              "      <th>9</th>\n",
              "      <td>False</td>\n",
              "      <td>False</td>\n",
              "      <td>True</td>\n",
              "      <td>False</td>\n",
              "    </tr>\n",
              "  </tbody>\n",
              "</table>\n",
              "</div>"
            ],
            "text/plain": [
              "   salary  sales    roe  industry\n",
              "0   False  False  False     False\n",
              "1    True  False  False     False\n",
              "2    True  False  False     False\n",
              "3   False  False  False     False\n",
              "4   False   True  False     False\n",
              "5   False   True  False     False\n",
              "6   False  False  False     False\n",
              "7   False  False  False     False\n",
              "8   False  False  False     False\n",
              "9   False  False   True     False"
            ]
          },
          "metadata": {},
          "execution_count": 113
        }
      ]
    },
    {
      "cell_type": "code",
      "metadata": {
        "colab": {
          "base_uri": "https://localhost:8080/"
        },
        "id": "Xvhn6ehKwoaw",
        "outputId": "5c54d703-0e08-4819-e685-44453c258e77"
      },
      "source": [
        "data.info()"
      ],
      "execution_count": null,
      "outputs": [
        {
          "output_type": "stream",
          "name": "stdout",
          "text": [
            "<class 'pandas.core.frame.DataFrame'>\n",
            "RangeIndex: 10 entries, 0 to 9\n",
            "Data columns (total 4 columns):\n",
            " #   Column    Non-Null Count  Dtype  \n",
            "---  ------    --------------  -----  \n",
            " 0   salary    8 non-null      float64\n",
            " 1   sales     8 non-null      float64\n",
            " 2   roe       9 non-null      float64\n",
            " 3   industry  10 non-null     int64  \n",
            "dtypes: float64(3), int64(1)\n",
            "memory usage: 448.0 bytes\n"
          ]
        }
      ]
    },
    {
      "cell_type": "code",
      "metadata": {
        "colab": {
          "base_uri": "https://localhost:8080/",
          "height": 362
        },
        "id": "I3OZbplqwwIO",
        "outputId": "8156ba02-cd1b-4e5f-aa38-7e46a806c532"
      },
      "source": [
        "data.notnull()"
      ],
      "execution_count": null,
      "outputs": [
        {
          "output_type": "execute_result",
          "data": {
            "text/html": [
              "<div>\n",
              "<style scoped>\n",
              "    .dataframe tbody tr th:only-of-type {\n",
              "        vertical-align: middle;\n",
              "    }\n",
              "\n",
              "    .dataframe tbody tr th {\n",
              "        vertical-align: top;\n",
              "    }\n",
              "\n",
              "    .dataframe thead th {\n",
              "        text-align: right;\n",
              "    }\n",
              "</style>\n",
              "<table border=\"1\" class=\"dataframe\">\n",
              "  <thead>\n",
              "    <tr style=\"text-align: right;\">\n",
              "      <th></th>\n",
              "      <th>salary</th>\n",
              "      <th>sales</th>\n",
              "      <th>roe</th>\n",
              "      <th>industry</th>\n",
              "    </tr>\n",
              "  </thead>\n",
              "  <tbody>\n",
              "    <tr>\n",
              "      <th>0</th>\n",
              "      <td>True</td>\n",
              "      <td>True</td>\n",
              "      <td>True</td>\n",
              "      <td>True</td>\n",
              "    </tr>\n",
              "    <tr>\n",
              "      <th>1</th>\n",
              "      <td>False</td>\n",
              "      <td>True</td>\n",
              "      <td>True</td>\n",
              "      <td>True</td>\n",
              "    </tr>\n",
              "    <tr>\n",
              "      <th>2</th>\n",
              "      <td>False</td>\n",
              "      <td>True</td>\n",
              "      <td>True</td>\n",
              "      <td>True</td>\n",
              "    </tr>\n",
              "    <tr>\n",
              "      <th>3</th>\n",
              "      <td>True</td>\n",
              "      <td>True</td>\n",
              "      <td>True</td>\n",
              "      <td>True</td>\n",
              "    </tr>\n",
              "    <tr>\n",
              "      <th>4</th>\n",
              "      <td>True</td>\n",
              "      <td>False</td>\n",
              "      <td>True</td>\n",
              "      <td>True</td>\n",
              "    </tr>\n",
              "    <tr>\n",
              "      <th>5</th>\n",
              "      <td>True</td>\n",
              "      <td>False</td>\n",
              "      <td>True</td>\n",
              "      <td>True</td>\n",
              "    </tr>\n",
              "    <tr>\n",
              "      <th>6</th>\n",
              "      <td>True</td>\n",
              "      <td>True</td>\n",
              "      <td>True</td>\n",
              "      <td>True</td>\n",
              "    </tr>\n",
              "    <tr>\n",
              "      <th>7</th>\n",
              "      <td>True</td>\n",
              "      <td>True</td>\n",
              "      <td>True</td>\n",
              "      <td>True</td>\n",
              "    </tr>\n",
              "    <tr>\n",
              "      <th>8</th>\n",
              "      <td>True</td>\n",
              "      <td>True</td>\n",
              "      <td>True</td>\n",
              "      <td>True</td>\n",
              "    </tr>\n",
              "    <tr>\n",
              "      <th>9</th>\n",
              "      <td>True</td>\n",
              "      <td>True</td>\n",
              "      <td>False</td>\n",
              "      <td>True</td>\n",
              "    </tr>\n",
              "  </tbody>\n",
              "</table>\n",
              "</div>"
            ],
            "text/plain": [
              "   salary  sales    roe  industry\n",
              "0    True   True   True      True\n",
              "1   False   True   True      True\n",
              "2   False   True   True      True\n",
              "3    True   True   True      True\n",
              "4    True  False   True      True\n",
              "5    True  False   True      True\n",
              "6    True   True   True      True\n",
              "7    True   True   True      True\n",
              "8    True   True   True      True\n",
              "9    True   True  False      True"
            ]
          },
          "metadata": {},
          "execution_count": 115
        }
      ]
    },
    {
      "cell_type": "code",
      "metadata": {
        "colab": {
          "base_uri": "https://localhost:8080/"
        },
        "id": "GYPY0Jaxw-H_",
        "outputId": "7a7358f7-1581-45f2-c755-992031dfbe36"
      },
      "source": [
        "data.isnull().sum()"
      ],
      "execution_count": null,
      "outputs": [
        {
          "output_type": "execute_result",
          "data": {
            "text/plain": [
              "salary      2\n",
              "sales       2\n",
              "roe         1\n",
              "industry    0\n",
              "dtype: int64"
            ]
          },
          "metadata": {},
          "execution_count": 116
        }
      ]
    },
    {
      "cell_type": "code",
      "metadata": {
        "colab": {
          "base_uri": "https://localhost:8080/"
        },
        "id": "ARNhSThnxDsx",
        "outputId": "6b5ce11b-1285-4990-a11c-c0b6b2023d31"
      },
      "source": [
        "data.isnull().sum(1)"
      ],
      "execution_count": null,
      "outputs": [
        {
          "output_type": "execute_result",
          "data": {
            "text/plain": [
              "0    0\n",
              "1    1\n",
              "2    1\n",
              "3    0\n",
              "4    1\n",
              "5    1\n",
              "6    0\n",
              "7    0\n",
              "8    0\n",
              "9    1\n",
              "dtype: int64"
            ]
          },
          "metadata": {},
          "execution_count": 117
        }
      ]
    },
    {
      "cell_type": "code",
      "metadata": {
        "id": "-uLifIDkxMtV"
      },
      "source": [
        "data['missing'] = data.isnull().sum(1)"
      ],
      "execution_count": null,
      "outputs": []
    },
    {
      "cell_type": "code",
      "metadata": {
        "colab": {
          "base_uri": "https://localhost:8080/",
          "height": 362
        },
        "id": "o_E6cb1uxWHg",
        "outputId": "93b5a273-0d07-4ea1-b646-ab0daa935612"
      },
      "source": [
        "data"
      ],
      "execution_count": null,
      "outputs": [
        {
          "output_type": "execute_result",
          "data": {
            "text/html": [
              "<div>\n",
              "<style scoped>\n",
              "    .dataframe tbody tr th:only-of-type {\n",
              "        vertical-align: middle;\n",
              "    }\n",
              "\n",
              "    .dataframe tbody tr th {\n",
              "        vertical-align: top;\n",
              "    }\n",
              "\n",
              "    .dataframe thead th {\n",
              "        text-align: right;\n",
              "    }\n",
              "</style>\n",
              "<table border=\"1\" class=\"dataframe\">\n",
              "  <thead>\n",
              "    <tr style=\"text-align: right;\">\n",
              "      <th></th>\n",
              "      <th>salary</th>\n",
              "      <th>sales</th>\n",
              "      <th>roe</th>\n",
              "      <th>industry</th>\n",
              "      <th>missing</th>\n",
              "    </tr>\n",
              "  </thead>\n",
              "  <tbody>\n",
              "    <tr>\n",
              "      <th>0</th>\n",
              "      <td>1095.0</td>\n",
              "      <td>27595.000000</td>\n",
              "      <td>14.100000</td>\n",
              "      <td>1</td>\n",
              "      <td>0</td>\n",
              "    </tr>\n",
              "    <tr>\n",
              "      <th>1</th>\n",
              "      <td>NaN</td>\n",
              "      <td>9958.000000</td>\n",
              "      <td>10.900000</td>\n",
              "      <td>1</td>\n",
              "      <td>1</td>\n",
              "    </tr>\n",
              "    <tr>\n",
              "      <th>2</th>\n",
              "      <td>NaN</td>\n",
              "      <td>6125.899902</td>\n",
              "      <td>23.500000</td>\n",
              "      <td>1</td>\n",
              "      <td>1</td>\n",
              "    </tr>\n",
              "    <tr>\n",
              "      <th>3</th>\n",
              "      <td>578.0</td>\n",
              "      <td>16246.000000</td>\n",
              "      <td>5.900000</td>\n",
              "      <td>1</td>\n",
              "      <td>0</td>\n",
              "    </tr>\n",
              "    <tr>\n",
              "      <th>4</th>\n",
              "      <td>1368.0</td>\n",
              "      <td>NaN</td>\n",
              "      <td>13.800000</td>\n",
              "      <td>1</td>\n",
              "      <td>1</td>\n",
              "    </tr>\n",
              "    <tr>\n",
              "      <th>5</th>\n",
              "      <td>1145.0</td>\n",
              "      <td>NaN</td>\n",
              "      <td>20.000000</td>\n",
              "      <td>2</td>\n",
              "      <td>1</td>\n",
              "    </tr>\n",
              "    <tr>\n",
              "      <th>6</th>\n",
              "      <td>1078.0</td>\n",
              "      <td>2266.699951</td>\n",
              "      <td>16.400000</td>\n",
              "      <td>2</td>\n",
              "      <td>0</td>\n",
              "    </tr>\n",
              "    <tr>\n",
              "      <th>7</th>\n",
              "      <td>1094.0</td>\n",
              "      <td>2966.800049</td>\n",
              "      <td>16.299999</td>\n",
              "      <td>2</td>\n",
              "      <td>0</td>\n",
              "    </tr>\n",
              "    <tr>\n",
              "      <th>8</th>\n",
              "      <td>1237.0</td>\n",
              "      <td>4570.200195</td>\n",
              "      <td>10.500000</td>\n",
              "      <td>2</td>\n",
              "      <td>0</td>\n",
              "    </tr>\n",
              "    <tr>\n",
              "      <th>9</th>\n",
              "      <td>833.0</td>\n",
              "      <td>2830.000000</td>\n",
              "      <td>NaN</td>\n",
              "      <td>2</td>\n",
              "      <td>1</td>\n",
              "    </tr>\n",
              "  </tbody>\n",
              "</table>\n",
              "</div>"
            ],
            "text/plain": [
              "   salary         sales        roe  industry  missing\n",
              "0  1095.0  27595.000000  14.100000         1        0\n",
              "1     NaN   9958.000000  10.900000         1        1\n",
              "2     NaN   6125.899902  23.500000         1        1\n",
              "3   578.0  16246.000000   5.900000         1        0\n",
              "4  1368.0           NaN  13.800000         1        1\n",
              "5  1145.0           NaN  20.000000         2        1\n",
              "6  1078.0   2266.699951  16.400000         2        0\n",
              "7  1094.0   2966.800049  16.299999         2        0\n",
              "8  1237.0   4570.200195  10.500000         2        0\n",
              "9   833.0   2830.000000        NaN         2        1"
            ]
          },
          "metadata": {},
          "execution_count": 119
        }
      ]
    },
    {
      "cell_type": "code",
      "metadata": {
        "id": "CCKiWGLnxXFC"
      },
      "source": [
        "data_del_row = data.dropna(axis=0)"
      ],
      "execution_count": null,
      "outputs": []
    },
    {
      "cell_type": "code",
      "metadata": {
        "colab": {
          "base_uri": "https://localhost:8080/",
          "height": 205
        },
        "id": "lGSuYMSAxnGm",
        "outputId": "4bfd6021-47fa-4fe6-8b38-cb2c73988e29"
      },
      "source": [
        "data_del_row"
      ],
      "execution_count": null,
      "outputs": [
        {
          "output_type": "execute_result",
          "data": {
            "text/html": [
              "<div>\n",
              "<style scoped>\n",
              "    .dataframe tbody tr th:only-of-type {\n",
              "        vertical-align: middle;\n",
              "    }\n",
              "\n",
              "    .dataframe tbody tr th {\n",
              "        vertical-align: top;\n",
              "    }\n",
              "\n",
              "    .dataframe thead th {\n",
              "        text-align: right;\n",
              "    }\n",
              "</style>\n",
              "<table border=\"1\" class=\"dataframe\">\n",
              "  <thead>\n",
              "    <tr style=\"text-align: right;\">\n",
              "      <th></th>\n",
              "      <th>salary</th>\n",
              "      <th>sales</th>\n",
              "      <th>roe</th>\n",
              "      <th>industry</th>\n",
              "      <th>missing</th>\n",
              "    </tr>\n",
              "  </thead>\n",
              "  <tbody>\n",
              "    <tr>\n",
              "      <th>0</th>\n",
              "      <td>1095.0</td>\n",
              "      <td>27595.000000</td>\n",
              "      <td>14.100000</td>\n",
              "      <td>1</td>\n",
              "      <td>0</td>\n",
              "    </tr>\n",
              "    <tr>\n",
              "      <th>3</th>\n",
              "      <td>578.0</td>\n",
              "      <td>16246.000000</td>\n",
              "      <td>5.900000</td>\n",
              "      <td>1</td>\n",
              "      <td>0</td>\n",
              "    </tr>\n",
              "    <tr>\n",
              "      <th>6</th>\n",
              "      <td>1078.0</td>\n",
              "      <td>2266.699951</td>\n",
              "      <td>16.400000</td>\n",
              "      <td>2</td>\n",
              "      <td>0</td>\n",
              "    </tr>\n",
              "    <tr>\n",
              "      <th>7</th>\n",
              "      <td>1094.0</td>\n",
              "      <td>2966.800049</td>\n",
              "      <td>16.299999</td>\n",
              "      <td>2</td>\n",
              "      <td>0</td>\n",
              "    </tr>\n",
              "    <tr>\n",
              "      <th>8</th>\n",
              "      <td>1237.0</td>\n",
              "      <td>4570.200195</td>\n",
              "      <td>10.500000</td>\n",
              "      <td>2</td>\n",
              "      <td>0</td>\n",
              "    </tr>\n",
              "  </tbody>\n",
              "</table>\n",
              "</div>"
            ],
            "text/plain": [
              "   salary         sales        roe  industry  missing\n",
              "0  1095.0  27595.000000  14.100000         1        0\n",
              "3   578.0  16246.000000   5.900000         1        0\n",
              "6  1078.0   2266.699951  16.400000         2        0\n",
              "7  1094.0   2966.800049  16.299999         2        0\n",
              "8  1237.0   4570.200195  10.500000         2        0"
            ]
          },
          "metadata": {},
          "execution_count": 121
        }
      ]
    },
    {
      "cell_type": "code",
      "metadata": {
        "id": "LQG43x5Hxoqw"
      },
      "source": [
        "data_del_c = data.dropna(axis=1)"
      ],
      "execution_count": null,
      "outputs": []
    },
    {
      "cell_type": "code",
      "metadata": {
        "id": "RJ74Ql3sxwQR",
        "colab": {
          "base_uri": "https://localhost:8080/",
          "height": 362
        },
        "outputId": "dfec8358-16ef-4a4e-ceb6-0e2c82858e26"
      },
      "source": [
        "data_del_c"
      ],
      "execution_count": null,
      "outputs": [
        {
          "output_type": "execute_result",
          "data": {
            "text/html": [
              "<div>\n",
              "<style scoped>\n",
              "    .dataframe tbody tr th:only-of-type {\n",
              "        vertical-align: middle;\n",
              "    }\n",
              "\n",
              "    .dataframe tbody tr th {\n",
              "        vertical-align: top;\n",
              "    }\n",
              "\n",
              "    .dataframe thead th {\n",
              "        text-align: right;\n",
              "    }\n",
              "</style>\n",
              "<table border=\"1\" class=\"dataframe\">\n",
              "  <thead>\n",
              "    <tr style=\"text-align: right;\">\n",
              "      <th></th>\n",
              "      <th>industry</th>\n",
              "      <th>missing</th>\n",
              "    </tr>\n",
              "  </thead>\n",
              "  <tbody>\n",
              "    <tr>\n",
              "      <th>0</th>\n",
              "      <td>1</td>\n",
              "      <td>0</td>\n",
              "    </tr>\n",
              "    <tr>\n",
              "      <th>1</th>\n",
              "      <td>1</td>\n",
              "      <td>1</td>\n",
              "    </tr>\n",
              "    <tr>\n",
              "      <th>2</th>\n",
              "      <td>1</td>\n",
              "      <td>1</td>\n",
              "    </tr>\n",
              "    <tr>\n",
              "      <th>3</th>\n",
              "      <td>1</td>\n",
              "      <td>0</td>\n",
              "    </tr>\n",
              "    <tr>\n",
              "      <th>4</th>\n",
              "      <td>1</td>\n",
              "      <td>1</td>\n",
              "    </tr>\n",
              "    <tr>\n",
              "      <th>5</th>\n",
              "      <td>2</td>\n",
              "      <td>1</td>\n",
              "    </tr>\n",
              "    <tr>\n",
              "      <th>6</th>\n",
              "      <td>2</td>\n",
              "      <td>0</td>\n",
              "    </tr>\n",
              "    <tr>\n",
              "      <th>7</th>\n",
              "      <td>2</td>\n",
              "      <td>0</td>\n",
              "    </tr>\n",
              "    <tr>\n",
              "      <th>8</th>\n",
              "      <td>2</td>\n",
              "      <td>0</td>\n",
              "    </tr>\n",
              "    <tr>\n",
              "      <th>9</th>\n",
              "      <td>2</td>\n",
              "      <td>1</td>\n",
              "    </tr>\n",
              "  </tbody>\n",
              "</table>\n",
              "</div>"
            ],
            "text/plain": [
              "   industry  missing\n",
              "0         1        0\n",
              "1         1        1\n",
              "2         1        1\n",
              "3         1        0\n",
              "4         1        1\n",
              "5         2        1\n",
              "6         2        0\n",
              "7         2        0\n",
              "8         2        0\n",
              "9         2        1"
            ]
          },
          "metadata": {},
          "execution_count": 123
        }
      ]
    },
    {
      "cell_type": "code",
      "metadata": {
        "id": "y59iynI_xxGc"
      },
      "source": [
        "data_0 = data.fillna(0)"
      ],
      "execution_count": null,
      "outputs": []
    },
    {
      "cell_type": "code",
      "metadata": {
        "colab": {
          "base_uri": "https://localhost:8080/",
          "height": 362
        },
        "id": "bXe4WmoZ0I1n",
        "outputId": "e5bb0599-d4c4-4877-d86c-54a6c702889a"
      },
      "source": [
        "data_0"
      ],
      "execution_count": null,
      "outputs": [
        {
          "output_type": "execute_result",
          "data": {
            "text/html": [
              "<div>\n",
              "<style scoped>\n",
              "    .dataframe tbody tr th:only-of-type {\n",
              "        vertical-align: middle;\n",
              "    }\n",
              "\n",
              "    .dataframe tbody tr th {\n",
              "        vertical-align: top;\n",
              "    }\n",
              "\n",
              "    .dataframe thead th {\n",
              "        text-align: right;\n",
              "    }\n",
              "</style>\n",
              "<table border=\"1\" class=\"dataframe\">\n",
              "  <thead>\n",
              "    <tr style=\"text-align: right;\">\n",
              "      <th></th>\n",
              "      <th>salary</th>\n",
              "      <th>sales</th>\n",
              "      <th>roe</th>\n",
              "      <th>industry</th>\n",
              "      <th>missing</th>\n",
              "    </tr>\n",
              "  </thead>\n",
              "  <tbody>\n",
              "    <tr>\n",
              "      <th>0</th>\n",
              "      <td>1095.0</td>\n",
              "      <td>27595.000000</td>\n",
              "      <td>14.100000</td>\n",
              "      <td>1</td>\n",
              "      <td>0</td>\n",
              "    </tr>\n",
              "    <tr>\n",
              "      <th>1</th>\n",
              "      <td>0.0</td>\n",
              "      <td>9958.000000</td>\n",
              "      <td>10.900000</td>\n",
              "      <td>1</td>\n",
              "      <td>1</td>\n",
              "    </tr>\n",
              "    <tr>\n",
              "      <th>2</th>\n",
              "      <td>0.0</td>\n",
              "      <td>6125.899902</td>\n",
              "      <td>23.500000</td>\n",
              "      <td>1</td>\n",
              "      <td>1</td>\n",
              "    </tr>\n",
              "    <tr>\n",
              "      <th>3</th>\n",
              "      <td>578.0</td>\n",
              "      <td>16246.000000</td>\n",
              "      <td>5.900000</td>\n",
              "      <td>1</td>\n",
              "      <td>0</td>\n",
              "    </tr>\n",
              "    <tr>\n",
              "      <th>4</th>\n",
              "      <td>1368.0</td>\n",
              "      <td>0.000000</td>\n",
              "      <td>13.800000</td>\n",
              "      <td>1</td>\n",
              "      <td>1</td>\n",
              "    </tr>\n",
              "    <tr>\n",
              "      <th>5</th>\n",
              "      <td>1145.0</td>\n",
              "      <td>0.000000</td>\n",
              "      <td>20.000000</td>\n",
              "      <td>2</td>\n",
              "      <td>1</td>\n",
              "    </tr>\n",
              "    <tr>\n",
              "      <th>6</th>\n",
              "      <td>1078.0</td>\n",
              "      <td>2266.699951</td>\n",
              "      <td>16.400000</td>\n",
              "      <td>2</td>\n",
              "      <td>0</td>\n",
              "    </tr>\n",
              "    <tr>\n",
              "      <th>7</th>\n",
              "      <td>1094.0</td>\n",
              "      <td>2966.800049</td>\n",
              "      <td>16.299999</td>\n",
              "      <td>2</td>\n",
              "      <td>0</td>\n",
              "    </tr>\n",
              "    <tr>\n",
              "      <th>8</th>\n",
              "      <td>1237.0</td>\n",
              "      <td>4570.200195</td>\n",
              "      <td>10.500000</td>\n",
              "      <td>2</td>\n",
              "      <td>0</td>\n",
              "    </tr>\n",
              "    <tr>\n",
              "      <th>9</th>\n",
              "      <td>833.0</td>\n",
              "      <td>2830.000000</td>\n",
              "      <td>0.000000</td>\n",
              "      <td>2</td>\n",
              "      <td>1</td>\n",
              "    </tr>\n",
              "  </tbody>\n",
              "</table>\n",
              "</div>"
            ],
            "text/plain": [
              "   salary         sales        roe  industry  missing\n",
              "0  1095.0  27595.000000  14.100000         1        0\n",
              "1     0.0   9958.000000  10.900000         1        1\n",
              "2     0.0   6125.899902  23.500000         1        1\n",
              "3   578.0  16246.000000   5.900000         1        0\n",
              "4  1368.0      0.000000  13.800000         1        1\n",
              "5  1145.0      0.000000  20.000000         2        1\n",
              "6  1078.0   2266.699951  16.400000         2        0\n",
              "7  1094.0   2966.800049  16.299999         2        0\n",
              "8  1237.0   4570.200195  10.500000         2        0\n",
              "9   833.0   2830.000000   0.000000         2        1"
            ]
          },
          "metadata": {},
          "execution_count": 125
        }
      ]
    },
    {
      "cell_type": "code",
      "metadata": {
        "id": "Pce6p_Lr0Knv"
      },
      "source": [
        "data_missing = data.fillna('missing')"
      ],
      "execution_count": null,
      "outputs": []
    },
    {
      "cell_type": "code",
      "metadata": {
        "colab": {
          "base_uri": "https://localhost:8080/",
          "height": 362
        },
        "id": "V5GxWL6u0Qld",
        "outputId": "722b0a9d-2792-499e-a20f-772f130c0645"
      },
      "source": [
        "data_missing"
      ],
      "execution_count": null,
      "outputs": [
        {
          "output_type": "execute_result",
          "data": {
            "text/html": [
              "<div>\n",
              "<style scoped>\n",
              "    .dataframe tbody tr th:only-of-type {\n",
              "        vertical-align: middle;\n",
              "    }\n",
              "\n",
              "    .dataframe tbody tr th {\n",
              "        vertical-align: top;\n",
              "    }\n",
              "\n",
              "    .dataframe thead th {\n",
              "        text-align: right;\n",
              "    }\n",
              "</style>\n",
              "<table border=\"1\" class=\"dataframe\">\n",
              "  <thead>\n",
              "    <tr style=\"text-align: right;\">\n",
              "      <th></th>\n",
              "      <th>salary</th>\n",
              "      <th>sales</th>\n",
              "      <th>roe</th>\n",
              "      <th>industry</th>\n",
              "      <th>missing</th>\n",
              "    </tr>\n",
              "  </thead>\n",
              "  <tbody>\n",
              "    <tr>\n",
              "      <th>0</th>\n",
              "      <td>1095</td>\n",
              "      <td>27595</td>\n",
              "      <td>14.1</td>\n",
              "      <td>1</td>\n",
              "      <td>0</td>\n",
              "    </tr>\n",
              "    <tr>\n",
              "      <th>1</th>\n",
              "      <td>missing</td>\n",
              "      <td>9958</td>\n",
              "      <td>10.9</td>\n",
              "      <td>1</td>\n",
              "      <td>1</td>\n",
              "    </tr>\n",
              "    <tr>\n",
              "      <th>2</th>\n",
              "      <td>missing</td>\n",
              "      <td>6125.9</td>\n",
              "      <td>23.5</td>\n",
              "      <td>1</td>\n",
              "      <td>1</td>\n",
              "    </tr>\n",
              "    <tr>\n",
              "      <th>3</th>\n",
              "      <td>578</td>\n",
              "      <td>16246</td>\n",
              "      <td>5.9</td>\n",
              "      <td>1</td>\n",
              "      <td>0</td>\n",
              "    </tr>\n",
              "    <tr>\n",
              "      <th>4</th>\n",
              "      <td>1368</td>\n",
              "      <td>missing</td>\n",
              "      <td>13.8</td>\n",
              "      <td>1</td>\n",
              "      <td>1</td>\n",
              "    </tr>\n",
              "    <tr>\n",
              "      <th>5</th>\n",
              "      <td>1145</td>\n",
              "      <td>missing</td>\n",
              "      <td>20</td>\n",
              "      <td>2</td>\n",
              "      <td>1</td>\n",
              "    </tr>\n",
              "    <tr>\n",
              "      <th>6</th>\n",
              "      <td>1078</td>\n",
              "      <td>2266.7</td>\n",
              "      <td>16.4</td>\n",
              "      <td>2</td>\n",
              "      <td>0</td>\n",
              "    </tr>\n",
              "    <tr>\n",
              "      <th>7</th>\n",
              "      <td>1094</td>\n",
              "      <td>2966.8</td>\n",
              "      <td>16.3</td>\n",
              "      <td>2</td>\n",
              "      <td>0</td>\n",
              "    </tr>\n",
              "    <tr>\n",
              "      <th>8</th>\n",
              "      <td>1237</td>\n",
              "      <td>4570.2</td>\n",
              "      <td>10.5</td>\n",
              "      <td>2</td>\n",
              "      <td>0</td>\n",
              "    </tr>\n",
              "    <tr>\n",
              "      <th>9</th>\n",
              "      <td>833</td>\n",
              "      <td>2830</td>\n",
              "      <td>missing</td>\n",
              "      <td>2</td>\n",
              "      <td>1</td>\n",
              "    </tr>\n",
              "  </tbody>\n",
              "</table>\n",
              "</div>"
            ],
            "text/plain": [
              "    salary    sales      roe  industry  missing\n",
              "0     1095    27595     14.1         1        0\n",
              "1  missing     9958     10.9         1        1\n",
              "2  missing   6125.9     23.5         1        1\n",
              "3      578    16246      5.9         1        0\n",
              "4     1368  missing     13.8         1        1\n",
              "5     1145  missing       20         2        1\n",
              "6     1078   2266.7     16.4         2        0\n",
              "7     1094   2966.8     16.3         2        0\n",
              "8     1237   4570.2     10.5         2        0\n",
              "9      833     2830  missing         2        1"
            ]
          },
          "metadata": {},
          "execution_count": 135
        }
      ]
    },
    {
      "cell_type": "code",
      "metadata": {
        "id": "8FGXL2Wf0xOn"
      },
      "source": [
        "data_ffill= data.fillna(method='ffill') #또는 pad도 같은 결과 반대는 'bfill'"
      ],
      "execution_count": null,
      "outputs": []
    },
    {
      "cell_type": "code",
      "metadata": {
        "colab": {
          "base_uri": "https://localhost:8080/",
          "height": 362
        },
        "id": "9rCd4KG71BHw",
        "outputId": "945405a5-3ec6-419c-89ef-0565c17ce578"
      },
      "source": [
        "data_ffill"
      ],
      "execution_count": null,
      "outputs": [
        {
          "output_type": "execute_result",
          "data": {
            "text/html": [
              "<div>\n",
              "<style scoped>\n",
              "    .dataframe tbody tr th:only-of-type {\n",
              "        vertical-align: middle;\n",
              "    }\n",
              "\n",
              "    .dataframe tbody tr th {\n",
              "        vertical-align: top;\n",
              "    }\n",
              "\n",
              "    .dataframe thead th {\n",
              "        text-align: right;\n",
              "    }\n",
              "</style>\n",
              "<table border=\"1\" class=\"dataframe\">\n",
              "  <thead>\n",
              "    <tr style=\"text-align: right;\">\n",
              "      <th></th>\n",
              "      <th>salary</th>\n",
              "      <th>sales</th>\n",
              "      <th>roe</th>\n",
              "      <th>industry</th>\n",
              "      <th>missing</th>\n",
              "    </tr>\n",
              "  </thead>\n",
              "  <tbody>\n",
              "    <tr>\n",
              "      <th>0</th>\n",
              "      <td>1095.0</td>\n",
              "      <td>27595.000000</td>\n",
              "      <td>14.100000</td>\n",
              "      <td>1</td>\n",
              "      <td>0</td>\n",
              "    </tr>\n",
              "    <tr>\n",
              "      <th>1</th>\n",
              "      <td>1095.0</td>\n",
              "      <td>9958.000000</td>\n",
              "      <td>10.900000</td>\n",
              "      <td>1</td>\n",
              "      <td>1</td>\n",
              "    </tr>\n",
              "    <tr>\n",
              "      <th>2</th>\n",
              "      <td>1095.0</td>\n",
              "      <td>6125.899902</td>\n",
              "      <td>23.500000</td>\n",
              "      <td>1</td>\n",
              "      <td>1</td>\n",
              "    </tr>\n",
              "    <tr>\n",
              "      <th>3</th>\n",
              "      <td>578.0</td>\n",
              "      <td>16246.000000</td>\n",
              "      <td>5.900000</td>\n",
              "      <td>1</td>\n",
              "      <td>0</td>\n",
              "    </tr>\n",
              "    <tr>\n",
              "      <th>4</th>\n",
              "      <td>1368.0</td>\n",
              "      <td>16246.000000</td>\n",
              "      <td>13.800000</td>\n",
              "      <td>1</td>\n",
              "      <td>1</td>\n",
              "    </tr>\n",
              "    <tr>\n",
              "      <th>5</th>\n",
              "      <td>1145.0</td>\n",
              "      <td>16246.000000</td>\n",
              "      <td>20.000000</td>\n",
              "      <td>2</td>\n",
              "      <td>1</td>\n",
              "    </tr>\n",
              "    <tr>\n",
              "      <th>6</th>\n",
              "      <td>1078.0</td>\n",
              "      <td>2266.699951</td>\n",
              "      <td>16.400000</td>\n",
              "      <td>2</td>\n",
              "      <td>0</td>\n",
              "    </tr>\n",
              "    <tr>\n",
              "      <th>7</th>\n",
              "      <td>1094.0</td>\n",
              "      <td>2966.800049</td>\n",
              "      <td>16.299999</td>\n",
              "      <td>2</td>\n",
              "      <td>0</td>\n",
              "    </tr>\n",
              "    <tr>\n",
              "      <th>8</th>\n",
              "      <td>1237.0</td>\n",
              "      <td>4570.200195</td>\n",
              "      <td>10.500000</td>\n",
              "      <td>2</td>\n",
              "      <td>0</td>\n",
              "    </tr>\n",
              "    <tr>\n",
              "      <th>9</th>\n",
              "      <td>833.0</td>\n",
              "      <td>2830.000000</td>\n",
              "      <td>10.500000</td>\n",
              "      <td>2</td>\n",
              "      <td>1</td>\n",
              "    </tr>\n",
              "  </tbody>\n",
              "</table>\n",
              "</div>"
            ],
            "text/plain": [
              "   salary         sales        roe  industry  missing\n",
              "0  1095.0  27595.000000  14.100000         1        0\n",
              "1  1095.0   9958.000000  10.900000         1        1\n",
              "2  1095.0   6125.899902  23.500000         1        1\n",
              "3   578.0  16246.000000   5.900000         1        0\n",
              "4  1368.0  16246.000000  13.800000         1        1\n",
              "5  1145.0  16246.000000  20.000000         2        1\n",
              "6  1078.0   2266.699951  16.400000         2        0\n",
              "7  1094.0   2966.800049  16.299999         2        0\n",
              "8  1237.0   4570.200195  10.500000         2        0\n",
              "9   833.0   2830.000000  10.500000         2        1"
            ]
          },
          "metadata": {},
          "execution_count": 137
        }
      ]
    },
    {
      "cell_type": "code",
      "metadata": {
        "id": "e_jGVYHW1CYD"
      },
      "source": [
        "data_mean = data.fillna(data.mean()) #중위수는 median, max, min"
      ],
      "execution_count": null,
      "outputs": []
    },
    {
      "cell_type": "code",
      "metadata": {
        "colab": {
          "base_uri": "https://localhost:8080/"
        },
        "id": "bgZvqv3I1Uq2",
        "outputId": "5e38187c-521d-4c14-a7fb-9929d0ea9f44"
      },
      "source": [
        "data.mean()"
      ],
      "execution_count": null,
      "outputs": [
        {
          "output_type": "execute_result",
          "data": {
            "text/plain": [
              "salary      1053.500000\n",
              "sales       9069.825012\n",
              "roe           14.600000\n",
              "industry       1.500000\n",
              "missing        0.500000\n",
              "dtype: float64"
            ]
          },
          "metadata": {},
          "execution_count": 141
        }
      ]
    },
    {
      "cell_type": "code",
      "metadata": {
        "colab": {
          "base_uri": "https://localhost:8080/",
          "height": 362
        },
        "id": "82To1cvW1Zav",
        "outputId": "a8eb01b7-74df-430f-be99-99f5096b30b8"
      },
      "source": [
        "data_mean"
      ],
      "execution_count": null,
      "outputs": [
        {
          "output_type": "execute_result",
          "data": {
            "text/html": [
              "<div>\n",
              "<style scoped>\n",
              "    .dataframe tbody tr th:only-of-type {\n",
              "        vertical-align: middle;\n",
              "    }\n",
              "\n",
              "    .dataframe tbody tr th {\n",
              "        vertical-align: top;\n",
              "    }\n",
              "\n",
              "    .dataframe thead th {\n",
              "        text-align: right;\n",
              "    }\n",
              "</style>\n",
              "<table border=\"1\" class=\"dataframe\">\n",
              "  <thead>\n",
              "    <tr style=\"text-align: right;\">\n",
              "      <th></th>\n",
              "      <th>salary</th>\n",
              "      <th>sales</th>\n",
              "      <th>roe</th>\n",
              "      <th>industry</th>\n",
              "      <th>missing</th>\n",
              "    </tr>\n",
              "  </thead>\n",
              "  <tbody>\n",
              "    <tr>\n",
              "      <th>0</th>\n",
              "      <td>1095.0</td>\n",
              "      <td>27595.000000</td>\n",
              "      <td>14.100000</td>\n",
              "      <td>1</td>\n",
              "      <td>0</td>\n",
              "    </tr>\n",
              "    <tr>\n",
              "      <th>1</th>\n",
              "      <td>1053.5</td>\n",
              "      <td>9958.000000</td>\n",
              "      <td>10.900000</td>\n",
              "      <td>1</td>\n",
              "      <td>1</td>\n",
              "    </tr>\n",
              "    <tr>\n",
              "      <th>2</th>\n",
              "      <td>1053.5</td>\n",
              "      <td>6125.899902</td>\n",
              "      <td>23.500000</td>\n",
              "      <td>1</td>\n",
              "      <td>1</td>\n",
              "    </tr>\n",
              "    <tr>\n",
              "      <th>3</th>\n",
              "      <td>578.0</td>\n",
              "      <td>16246.000000</td>\n",
              "      <td>5.900000</td>\n",
              "      <td>1</td>\n",
              "      <td>0</td>\n",
              "    </tr>\n",
              "    <tr>\n",
              "      <th>4</th>\n",
              "      <td>1368.0</td>\n",
              "      <td>9069.825012</td>\n",
              "      <td>13.800000</td>\n",
              "      <td>1</td>\n",
              "      <td>1</td>\n",
              "    </tr>\n",
              "    <tr>\n",
              "      <th>5</th>\n",
              "      <td>1145.0</td>\n",
              "      <td>9069.825012</td>\n",
              "      <td>20.000000</td>\n",
              "      <td>2</td>\n",
              "      <td>1</td>\n",
              "    </tr>\n",
              "    <tr>\n",
              "      <th>6</th>\n",
              "      <td>1078.0</td>\n",
              "      <td>2266.699951</td>\n",
              "      <td>16.400000</td>\n",
              "      <td>2</td>\n",
              "      <td>0</td>\n",
              "    </tr>\n",
              "    <tr>\n",
              "      <th>7</th>\n",
              "      <td>1094.0</td>\n",
              "      <td>2966.800049</td>\n",
              "      <td>16.299999</td>\n",
              "      <td>2</td>\n",
              "      <td>0</td>\n",
              "    </tr>\n",
              "    <tr>\n",
              "      <th>8</th>\n",
              "      <td>1237.0</td>\n",
              "      <td>4570.200195</td>\n",
              "      <td>10.500000</td>\n",
              "      <td>2</td>\n",
              "      <td>0</td>\n",
              "    </tr>\n",
              "    <tr>\n",
              "      <th>9</th>\n",
              "      <td>833.0</td>\n",
              "      <td>2830.000000</td>\n",
              "      <td>14.600000</td>\n",
              "      <td>2</td>\n",
              "      <td>1</td>\n",
              "    </tr>\n",
              "  </tbody>\n",
              "</table>\n",
              "</div>"
            ],
            "text/plain": [
              "   salary         sales        roe  industry  missing\n",
              "0  1095.0  27595.000000  14.100000         1        0\n",
              "1  1053.5   9958.000000  10.900000         1        1\n",
              "2  1053.5   6125.899902  23.500000         1        1\n",
              "3   578.0  16246.000000   5.900000         1        0\n",
              "4  1368.0   9069.825012  13.800000         1        1\n",
              "5  1145.0   9069.825012  20.000000         2        1\n",
              "6  1078.0   2266.699951  16.400000         2        0\n",
              "7  1094.0   2966.800049  16.299999         2        0\n",
              "8  1237.0   4570.200195  10.500000         2        0\n",
              "9   833.0   2830.000000  14.600000         2        1"
            ]
          },
          "metadata": {},
          "execution_count": 142
        }
      ]
    },
    {
      "cell_type": "code",
      "metadata": {
        "colab": {
          "base_uri": "https://localhost:8080/",
          "height": 143
        },
        "id": "6LJ-CeYC6W8L",
        "outputId": "408c066b-6142-48ea-d1c6-e5c0c0f17c94"
      },
      "source": [
        "data.groupby('industry').mean()"
      ],
      "execution_count": null,
      "outputs": [
        {
          "output_type": "execute_result",
          "data": {
            "text/html": [
              "<div>\n",
              "<style scoped>\n",
              "    .dataframe tbody tr th:only-of-type {\n",
              "        vertical-align: middle;\n",
              "    }\n",
              "\n",
              "    .dataframe tbody tr th {\n",
              "        vertical-align: top;\n",
              "    }\n",
              "\n",
              "    .dataframe thead th {\n",
              "        text-align: right;\n",
              "    }\n",
              "</style>\n",
              "<table border=\"1\" class=\"dataframe\">\n",
              "  <thead>\n",
              "    <tr style=\"text-align: right;\">\n",
              "      <th></th>\n",
              "      <th>salary</th>\n",
              "      <th>sales</th>\n",
              "      <th>roe</th>\n",
              "      <th>missing</th>\n",
              "    </tr>\n",
              "    <tr>\n",
              "      <th>industry</th>\n",
              "      <th></th>\n",
              "      <th></th>\n",
              "      <th></th>\n",
              "      <th></th>\n",
              "    </tr>\n",
              "  </thead>\n",
              "  <tbody>\n",
              "    <tr>\n",
              "      <th>1</th>\n",
              "      <td>1013.666667</td>\n",
              "      <td>14981.224975</td>\n",
              "      <td>13.64</td>\n",
              "      <td>0.6</td>\n",
              "    </tr>\n",
              "    <tr>\n",
              "      <th>2</th>\n",
              "      <td>1077.400000</td>\n",
              "      <td>3158.425049</td>\n",
              "      <td>15.80</td>\n",
              "      <td>0.4</td>\n",
              "    </tr>\n",
              "  </tbody>\n",
              "</table>\n",
              "</div>"
            ],
            "text/plain": [
              "               salary         sales    roe  missing\n",
              "industry                                           \n",
              "1         1013.666667  14981.224975  13.64      0.6\n",
              "2         1077.400000   3158.425049  15.80      0.4"
            ]
          },
          "metadata": {},
          "execution_count": 144
        }
      ]
    },
    {
      "cell_type": "code",
      "metadata": {
        "id": "Ux7j_9vO6g4T"
      },
      "source": [
        "fill_mean_func = lambda g: g.fillna(g.mean())"
      ],
      "execution_count": null,
      "outputs": []
    },
    {
      "cell_type": "code",
      "metadata": {
        "colab": {
          "base_uri": "https://localhost:8080/",
          "height": 393
        },
        "id": "dHYwNcSf1a-M",
        "outputId": "ab1863a7-8cde-44d1-f930-f048b34a852b"
      },
      "source": [
        "data.groupby('industry').apply(fill_mean_func)"
      ],
      "execution_count": null,
      "outputs": [
        {
          "output_type": "execute_result",
          "data": {
            "text/html": [
              "<div>\n",
              "<style scoped>\n",
              "    .dataframe tbody tr th:only-of-type {\n",
              "        vertical-align: middle;\n",
              "    }\n",
              "\n",
              "    .dataframe tbody tr th {\n",
              "        vertical-align: top;\n",
              "    }\n",
              "\n",
              "    .dataframe thead th {\n",
              "        text-align: right;\n",
              "    }\n",
              "</style>\n",
              "<table border=\"1\" class=\"dataframe\">\n",
              "  <thead>\n",
              "    <tr style=\"text-align: right;\">\n",
              "      <th></th>\n",
              "      <th></th>\n",
              "      <th>salary</th>\n",
              "      <th>sales</th>\n",
              "      <th>roe</th>\n",
              "      <th>industry</th>\n",
              "      <th>missing</th>\n",
              "    </tr>\n",
              "    <tr>\n",
              "      <th>industry</th>\n",
              "      <th></th>\n",
              "      <th></th>\n",
              "      <th></th>\n",
              "      <th></th>\n",
              "      <th></th>\n",
              "      <th></th>\n",
              "    </tr>\n",
              "  </thead>\n",
              "  <tbody>\n",
              "    <tr>\n",
              "      <th rowspan=\"5\" valign=\"top\">1</th>\n",
              "      <th>0</th>\n",
              "      <td>1095.000000</td>\n",
              "      <td>27595.000000</td>\n",
              "      <td>14.100000</td>\n",
              "      <td>1</td>\n",
              "      <td>0</td>\n",
              "    </tr>\n",
              "    <tr>\n",
              "      <th>1</th>\n",
              "      <td>1013.666667</td>\n",
              "      <td>9958.000000</td>\n",
              "      <td>10.900000</td>\n",
              "      <td>1</td>\n",
              "      <td>1</td>\n",
              "    </tr>\n",
              "    <tr>\n",
              "      <th>2</th>\n",
              "      <td>1013.666667</td>\n",
              "      <td>6125.899902</td>\n",
              "      <td>23.500000</td>\n",
              "      <td>1</td>\n",
              "      <td>1</td>\n",
              "    </tr>\n",
              "    <tr>\n",
              "      <th>3</th>\n",
              "      <td>578.000000</td>\n",
              "      <td>16246.000000</td>\n",
              "      <td>5.900000</td>\n",
              "      <td>1</td>\n",
              "      <td>0</td>\n",
              "    </tr>\n",
              "    <tr>\n",
              "      <th>4</th>\n",
              "      <td>1368.000000</td>\n",
              "      <td>14981.224975</td>\n",
              "      <td>13.800000</td>\n",
              "      <td>1</td>\n",
              "      <td>1</td>\n",
              "    </tr>\n",
              "    <tr>\n",
              "      <th rowspan=\"5\" valign=\"top\">2</th>\n",
              "      <th>5</th>\n",
              "      <td>1145.000000</td>\n",
              "      <td>3158.425049</td>\n",
              "      <td>20.000000</td>\n",
              "      <td>2</td>\n",
              "      <td>1</td>\n",
              "    </tr>\n",
              "    <tr>\n",
              "      <th>6</th>\n",
              "      <td>1078.000000</td>\n",
              "      <td>2266.699951</td>\n",
              "      <td>16.400000</td>\n",
              "      <td>2</td>\n",
              "      <td>0</td>\n",
              "    </tr>\n",
              "    <tr>\n",
              "      <th>7</th>\n",
              "      <td>1094.000000</td>\n",
              "      <td>2966.800049</td>\n",
              "      <td>16.299999</td>\n",
              "      <td>2</td>\n",
              "      <td>0</td>\n",
              "    </tr>\n",
              "    <tr>\n",
              "      <th>8</th>\n",
              "      <td>1237.000000</td>\n",
              "      <td>4570.200195</td>\n",
              "      <td>10.500000</td>\n",
              "      <td>2</td>\n",
              "      <td>0</td>\n",
              "    </tr>\n",
              "    <tr>\n",
              "      <th>9</th>\n",
              "      <td>833.000000</td>\n",
              "      <td>2830.000000</td>\n",
              "      <td>15.800000</td>\n",
              "      <td>2</td>\n",
              "      <td>1</td>\n",
              "    </tr>\n",
              "  </tbody>\n",
              "</table>\n",
              "</div>"
            ],
            "text/plain": [
              "                 salary         sales        roe  industry  missing\n",
              "industry                                                           \n",
              "1        0  1095.000000  27595.000000  14.100000         1        0\n",
              "         1  1013.666667   9958.000000  10.900000         1        1\n",
              "         2  1013.666667   6125.899902  23.500000         1        1\n",
              "         3   578.000000  16246.000000   5.900000         1        0\n",
              "         4  1368.000000  14981.224975  13.800000         1        1\n",
              "2        5  1145.000000   3158.425049  20.000000         2        1\n",
              "         6  1078.000000   2266.699951  16.400000         2        0\n",
              "         7  1094.000000   2966.800049  16.299999         2        0\n",
              "         8  1237.000000   4570.200195  10.500000         2        0\n",
              "         9   833.000000   2830.000000  15.800000         2        1"
            ]
          },
          "metadata": {},
          "execution_count": 146
        }
      ]
    },
    {
      "cell_type": "code",
      "metadata": {
        "id": "55UDcqfr6z6A"
      },
      "source": [
        "fill_values ={ 1:1000, 2:2000}"
      ],
      "execution_count": null,
      "outputs": []
    },
    {
      "cell_type": "code",
      "metadata": {
        "id": "zuYfwx3-7B7X"
      },
      "source": [
        "fill_func = lambda d: d.fillna(fill_values[d.name])"
      ],
      "execution_count": null,
      "outputs": []
    },
    {
      "cell_type": "markdown",
      "metadata": {
        "id": "fjzKqr6u8ET6"
      },
      "source": [
        "#데이터 정제 실전"
      ]
    },
    {
      "cell_type": "code",
      "metadata": {
        "id": "IpntH12k7Lvb"
      },
      "source": [
        "import pandas as pd\n",
        "import numpy as np\n",
        "data = pd.read_csv('house_raw.csv')"
      ],
      "execution_count": null,
      "outputs": []
    },
    {
      "cell_type": "code",
      "metadata": {
        "colab": {
          "base_uri": "https://localhost:8080/"
        },
        "id": "YknzEOU-8Q2o",
        "outputId": "6fa2ffdd-dfe4-4383-b8f5-8dcd38b986ac"
      },
      "source": [
        "data.info()"
      ],
      "execution_count": null,
      "outputs": [
        {
          "output_type": "stream",
          "name": "stdout",
          "text": [
            "<class 'pandas.core.frame.DataFrame'>\n",
            "RangeIndex: 17914 entries, 0 to 17913\n",
            "Data columns (total 6 columns):\n",
            " #   Column       Non-Null Count  Dtype  \n",
            "---  ------       --------------  -----  \n",
            " 0   housing_age  17914 non-null  int64  \n",
            " 1   income       17914 non-null  float64\n",
            " 2   bedrooms     17914 non-null  float64\n",
            " 3   households   17914 non-null  float64\n",
            " 4   rooms        17914 non-null  float64\n",
            " 5   house_value  17914 non-null  int64  \n",
            "dtypes: float64(4), int64(2)\n",
            "memory usage: 839.8 KB\n"
          ]
        }
      ]
    },
    {
      "cell_type": "code",
      "metadata": {
        "colab": {
          "base_uri": "https://localhost:8080/",
          "height": 299
        },
        "id": "9RehoroF8SKy",
        "outputId": "729d8c63-4bcf-4b3c-94bd-ff07b885d5eb"
      },
      "source": [
        "data.describe()"
      ],
      "execution_count": null,
      "outputs": [
        {
          "output_type": "execute_result",
          "data": {
            "text/html": [
              "<div>\n",
              "<style scoped>\n",
              "    .dataframe tbody tr th:only-of-type {\n",
              "        vertical-align: middle;\n",
              "    }\n",
              "\n",
              "    .dataframe tbody tr th {\n",
              "        vertical-align: top;\n",
              "    }\n",
              "\n",
              "    .dataframe thead th {\n",
              "        text-align: right;\n",
              "    }\n",
              "</style>\n",
              "<table border=\"1\" class=\"dataframe\">\n",
              "  <thead>\n",
              "    <tr style=\"text-align: right;\">\n",
              "      <th></th>\n",
              "      <th>housing_age</th>\n",
              "      <th>income</th>\n",
              "      <th>bedrooms</th>\n",
              "      <th>households</th>\n",
              "      <th>rooms</th>\n",
              "      <th>house_value</th>\n",
              "    </tr>\n",
              "  </thead>\n",
              "  <tbody>\n",
              "    <tr>\n",
              "      <th>count</th>\n",
              "      <td>17914.000000</td>\n",
              "      <td>17914.000000</td>\n",
              "      <td>17914.000000</td>\n",
              "      <td>17914.000000</td>\n",
              "      <td>17914.000000</td>\n",
              "      <td>17914.000000</td>\n",
              "    </tr>\n",
              "    <tr>\n",
              "      <th>mean</th>\n",
              "      <td>27.307022</td>\n",
              "      <td>3.664086</td>\n",
              "      <td>0.214309</td>\n",
              "      <td>3.007667</td>\n",
              "      <td>5.370672</td>\n",
              "      <td>188692.620130</td>\n",
              "    </tr>\n",
              "    <tr>\n",
              "      <th>std</th>\n",
              "      <td>11.297204</td>\n",
              "      <td>1.526694</td>\n",
              "      <td>0.055251</td>\n",
              "      <td>4.579534</td>\n",
              "      <td>2.332776</td>\n",
              "      <td>95318.621139</td>\n",
              "    </tr>\n",
              "    <tr>\n",
              "      <th>min</th>\n",
              "      <td>1.000000</td>\n",
              "      <td>0.499900</td>\n",
              "      <td>0.100000</td>\n",
              "      <td>0.692308</td>\n",
              "      <td>0.846154</td>\n",
              "      <td>14999.000000</td>\n",
              "    </tr>\n",
              "    <tr>\n",
              "      <th>25%</th>\n",
              "      <td>18.000000</td>\n",
              "      <td>2.526125</td>\n",
              "      <td>0.177544</td>\n",
              "      <td>2.467031</td>\n",
              "      <td>4.426115</td>\n",
              "      <td>114325.000000</td>\n",
              "    </tr>\n",
              "    <tr>\n",
              "      <th>50%</th>\n",
              "      <td>28.000000</td>\n",
              "      <td>3.447800</td>\n",
              "      <td>0.204256</td>\n",
              "      <td>2.853499</td>\n",
              "      <td>5.199222</td>\n",
              "      <td>170800.000000</td>\n",
              "    </tr>\n",
              "    <tr>\n",
              "      <th>75%</th>\n",
              "      <td>36.000000</td>\n",
              "      <td>4.583300</td>\n",
              "      <td>0.240476</td>\n",
              "      <td>3.318866</td>\n",
              "      <td>5.970848</td>\n",
              "      <td>242100.000000</td>\n",
              "    </tr>\n",
              "    <tr>\n",
              "      <th>max</th>\n",
              "      <td>51.000000</td>\n",
              "      <td>9.905500</td>\n",
              "      <td>1.000000</td>\n",
              "      <td>599.714286</td>\n",
              "      <td>132.533333</td>\n",
              "      <td>500000.000000</td>\n",
              "    </tr>\n",
              "  </tbody>\n",
              "</table>\n",
              "</div>"
            ],
            "text/plain": [
              "        housing_age        income  ...         rooms    house_value\n",
              "count  17914.000000  17914.000000  ...  17914.000000   17914.000000\n",
              "mean      27.307022      3.664086  ...      5.370672  188692.620130\n",
              "std       11.297204      1.526694  ...      2.332776   95318.621139\n",
              "min        1.000000      0.499900  ...      0.846154   14999.000000\n",
              "25%       18.000000      2.526125  ...      4.426115  114325.000000\n",
              "50%       28.000000      3.447800  ...      5.199222  170800.000000\n",
              "75%       36.000000      4.583300  ...      5.970848  242100.000000\n",
              "max       51.000000      9.905500  ...    132.533333  500000.000000\n",
              "\n",
              "[8 rows x 6 columns]"
            ]
          },
          "metadata": {},
          "execution_count": 3
        }
      ]
    },
    {
      "cell_type": "code",
      "metadata": {
        "colab": {
          "base_uri": "https://localhost:8080/",
          "height": 1000
        },
        "id": "GGJnXfTi8XXu",
        "outputId": "df15d3cc-e390-4a1b-dcd3-e4352eeb350d"
      },
      "source": [
        "data.hist(bins=50, figsize=(20 , 15))"
      ],
      "execution_count": null,
      "outputs": [
        {
          "output_type": "execute_result",
          "data": {
            "text/plain": [
              "array([[<matplotlib.axes._subplots.AxesSubplot object at 0x7f5f180183d0>,\n",
              "        <matplotlib.axes._subplots.AxesSubplot object at 0x7f5f1b22fcd0>],\n",
              "       [<matplotlib.axes._subplots.AxesSubplot object at 0x7f5f14c8bdd0>,\n",
              "        <matplotlib.axes._subplots.AxesSubplot object at 0x7f5f14c4d490>],\n",
              "       [<matplotlib.axes._subplots.AxesSubplot object at 0x7f5f14c017d0>,\n",
              "        <matplotlib.axes._subplots.AxesSubplot object at 0x7f5f14c35e50>]],\n",
              "      dtype=object)"
            ]
          },
          "metadata": {},
          "execution_count": 4
        },
        {
          "output_type": "display_data",
          "data": {
            "image/png": "[encoded data removed]",
            "text/plain": [
              "<Figure size 1440x1080 with 6 Axes>"
            ]
          },
          "metadata": {
            "needs_background": "light"
          }
        }
      ]
    },
    {
      "cell_type": "code",
      "metadata": {
        "id": "lJPaSi8J8fZk"
      },
      "source": [
        "X = data[data.columns[0:5]]\n",
        "y = data['house_value']"
      ],
      "execution_count": null,
      "outputs": []
    },
    {
      "cell_type": "code",
      "metadata": {
        "id": "ldU5Wfef9VaP"
      },
      "source": [
        "from sklearn.linear_model import LinearRegression\n",
        "from sklearn.model_selection import train_test_split\n",
        "\n",
        "X_train, X_test, y_train,  y_test = train_test_split( X, y, random_state=42)"
      ],
      "execution_count": null,
      "outputs": []
    },
    {
      "cell_type": "code",
      "metadata": {
        "id": "9r_S4jxP-SQR"
      },
      "source": [
        "from sklearn.preprocessing import MinMaxScaler\n",
        "scaler_minmax = MinMaxScaler()\n",
        "scaler_minmax.fit(X_train)\n",
        "X_scaled_minmax_train = scaler_minmax.transform(X_train)\n",
        "X_scaled_minmax_test = scaler_minmax.transform(X_test)"
      ],
      "execution_count": null,
      "outputs": []
    },
    {
      "cell_type": "code",
      "metadata": {
        "colab": {
          "base_uri": "https://localhost:8080/"
        },
        "id": "fflCLhjT-HZd",
        "outputId": "498a3289-0e44-4798-a585-930077e4cdd0"
      },
      "source": [
        "lr = LinearRegression()\n",
        "lr.fit(X_scaled_minmax_train, y_train)\n"
      ],
      "execution_count": null,
      "outputs": [
        {
          "output_type": "execute_result",
          "data": {
            "text/plain": [
              "LinearRegression(copy_X=True, fit_intercept=True, n_jobs=None, normalize=False)"
            ]
          },
          "metadata": {},
          "execution_count": 10
        }
      ]
    },
    {
      "cell_type": "code",
      "metadata": {
        "colab": {
          "base_uri": "https://localhost:8080/"
        },
        "id": "5jVZiMqy-3Pb",
        "outputId": "30913697-cdc0-4cf3-89cf-ccbf5a732977"
      },
      "source": [
        "pred_train = lr.predict(X_scaled_minmax_train)\n",
        "lr.score (X_scaled_minmax_train, y_train)"
      ],
      "execution_count": null,
      "outputs": [
        {
          "output_type": "execute_result",
          "data": {
            "text/plain": [
              "0.5463729131516732"
            ]
          },
          "metadata": {},
          "execution_count": 11
        }
      ]
    },
    {
      "cell_type": "code",
      "metadata": {
        "colab": {
          "base_uri": "https://localhost:8080/"
        },
        "id": "xviqr-DO_DH8",
        "outputId": "50375fbf-9e08-4902-bf64-f3cdd657a361"
      },
      "source": [
        "pred_train = lr.predict(X_scaled_minmax_test)\n",
        "lr.score (X_scaled_minmax_test, y_test)"
      ],
      "execution_count": null,
      "outputs": [
        {
          "output_type": "execute_result",
          "data": {
            "text/plain": [
              "-2.822064801016148"
            ]
          },
          "metadata": {},
          "execution_count": 12
        }
      ]
    },
    {
      "cell_type": "code",
      "metadata": {
        "id": "ejbf2E54_OoZ"
      },
      "source": [
        " data_bedroom= data[(data[\"bedrooms\"] < 0.6)]"
      ],
      "execution_count": null,
      "outputs": []
    },
    {
      "cell_type": "code",
      "metadata": {
        "id": "D4LWrXG_wBKu"
      },
      "source": [
        "data_housolds = data[(data['households']<10)]"
      ],
      "execution_count": null,
      "outputs": []
    },
    {
      "cell_type": "code",
      "metadata": {
        "id": "XG8nNgn_wDVz"
      },
      "source": [
        " data_bedroom= data[(data[\"rooms\"] < 0.6)]"
      ],
      "execution_count": null,
      "outputs": []
    },
    {
      "cell_type": "code",
      "metadata": {
        "id": "8wGmWUEDwRto"
      },
      "source": [
        "new_data = data [ (data[\"bedrooms\"] < 0.6) & (data['households']<7)  & (data[\"rooms\"] < 12)]"
      ],
      "execution_count": null,
      "outputs": []
    },
    {
      "cell_type": "code",
      "metadata": {
        "id": "ltSHGVMbx3TA"
      },
      "source": [
        "from sklearn.model_selection import train_test_split\n",
        "from sklearn.linear_model import LinearRegression\n",
        "from sklearn.preprocessing import MinMaxScaler"
      ],
      "execution_count": null,
      "outputs": []
    },
    {
      "cell_type": "code",
      "metadata": {
        "id": "eQ4Syl82ynth"
      },
      "source": [
        "X= new_data[new_data.columns[0:5]]\n",
        "y = new_data[new_data.columns[5:]]"
      ],
      "execution_count": null,
      "outputs": []
    },
    {
      "cell_type": "code",
      "metadata": {
        "colab": {
          "base_uri": "https://localhost:8080/"
        },
        "id": "S205d2nvzCDy",
        "outputId": "bdb51d5e-3454-4f18-907c-1808849b0865"
      },
      "source": [
        "X.shape"
      ],
      "execution_count": null,
      "outputs": [
        {
          "output_type": "execute_result",
          "data": {
            "text/plain": [
              "(17725, 5)"
            ]
          },
          "metadata": {},
          "execution_count": 45
        }
      ]
    },
    {
      "cell_type": "code",
      "metadata": {
        "id": "pCyYXPuryIL2"
      },
      "source": [
        "X_train, X_test, y_train, y_test = train_test_split(X, y, random_state=42)"
      ],
      "execution_count": null,
      "outputs": []
    },
    {
      "cell_type": "code",
      "metadata": {
        "colab": {
          "base_uri": "https://localhost:8080/",
          "height": 205
        },
        "id": "J0J42msMy-DV",
        "outputId": "16fffe5a-a416-4199-a9cc-9cd01a127529"
      },
      "source": [
        ""
      ],
      "execution_count": null,
      "outputs": [
        {
          "output_type": "execute_result",
          "data": {
            "text/html": [
              "<div>\n",
              "<style scoped>\n",
              "    .dataframe tbody tr th:only-of-type {\n",
              "        vertical-align: middle;\n",
              "    }\n",
              "\n",
              "    .dataframe tbody tr th {\n",
              "        vertical-align: top;\n",
              "    }\n",
              "\n",
              "    .dataframe thead th {\n",
              "        text-align: right;\n",
              "    }\n",
              "</style>\n",
              "<table border=\"1\" class=\"dataframe\">\n",
              "  <thead>\n",
              "    <tr style=\"text-align: right;\">\n",
              "      <th></th>\n",
              "      <th>housing_age</th>\n",
              "      <th>income</th>\n",
              "      <th>bedrooms</th>\n",
              "      <th>households</th>\n",
              "      <th>rooms</th>\n",
              "    </tr>\n",
              "  </thead>\n",
              "  <tbody>\n",
              "    <tr>\n",
              "      <th>0</th>\n",
              "      <td>23</td>\n",
              "      <td>6.7770</td>\n",
              "      <td>0.141112</td>\n",
              "      <td>2.442244</td>\n",
              "      <td>8.103960</td>\n",
              "    </tr>\n",
              "    <tr>\n",
              "      <th>1</th>\n",
              "      <td>49</td>\n",
              "      <td>6.0199</td>\n",
              "      <td>0.160984</td>\n",
              "      <td>2.726688</td>\n",
              "      <td>5.752412</td>\n",
              "    </tr>\n",
              "    <tr>\n",
              "      <th>2</th>\n",
              "      <td>35</td>\n",
              "      <td>5.1155</td>\n",
              "      <td>0.249061</td>\n",
              "      <td>1.902676</td>\n",
              "      <td>3.888078</td>\n",
              "    </tr>\n",
              "    <tr>\n",
              "      <th>3</th>\n",
              "      <td>32</td>\n",
              "      <td>4.7109</td>\n",
              "      <td>0.231383</td>\n",
              "      <td>1.913669</td>\n",
              "      <td>4.508393</td>\n",
              "    </tr>\n",
              "    <tr>\n",
              "      <th>4</th>\n",
              "      <td>21</td>\n",
              "      <td>4.5625</td>\n",
              "      <td>0.255583</td>\n",
              "      <td>3.092664</td>\n",
              "      <td>4.667954</td>\n",
              "    </tr>\n",
              "  </tbody>\n",
              "</table>\n",
              "</div>"
            ],
            "text/plain": [
              "   housing_age  income  bedrooms  households     rooms\n",
              "0           23  6.7770  0.141112    2.442244  8.103960\n",
              "1           49  6.0199  0.160984    2.726688  5.752412\n",
              "2           35  5.1155  0.249061    1.902676  3.888078\n",
              "3           32  4.7109  0.231383    1.913669  4.508393\n",
              "4           21  4.5625  0.255583    3.092664  4.667954"
            ]
          },
          "metadata": {},
          "execution_count": 47
        }
      ]
    },
    {
      "cell_type": "code",
      "metadata": {
        "id": "SYbJKZwQzX7X"
      },
      "source": [
        "scaler_minmax = MinMaxScaler()"
      ],
      "execution_count": null,
      "outputs": []
    },
    {
      "cell_type": "code",
      "metadata": {
        "colab": {
          "base_uri": "https://localhost:8080/"
        },
        "id": "XGv-Y23lzrSo",
        "outputId": "601e4a37-4826-474b-a505-0d8c8e1de947"
      },
      "source": [
        "scaler_minmax.fit(X_train)"
      ],
      "execution_count": null,
      "outputs": [
        {
          "output_type": "execute_result",
          "data": {
            "text/plain": [
              "MinMaxScaler(copy=True, feature_range=(0, 1))"
            ]
          },
          "metadata": {},
          "execution_count": 51
        }
      ]
    },
    {
      "cell_type": "code",
      "metadata": {
        "id": "vovrRFXBzuIs"
      },
      "source": [
        "scaled_X_train = scaler_minmax.transform(X_train)\n",
        "scaled_X_test = scaler_minmax.transform(X_test)"
      ],
      "execution_count": null,
      "outputs": []
    },
    {
      "cell_type": "code",
      "metadata": {
        "id": "lfHAbh_9z61O"
      },
      "source": [
        "model = LinearRegression()"
      ],
      "execution_count": null,
      "outputs": []
    },
    {
      "cell_type": "code",
      "metadata": {
        "colab": {
          "base_uri": "https://localhost:8080/"
        },
        "id": "9QTatv0Rz-KR",
        "outputId": "7b244b10-5862-42b3-f69d-54cd09c985aa"
      },
      "source": [
        "model.fit(scaled_X_train, y_train)"
      ],
      "execution_count": null,
      "outputs": [
        {
          "output_type": "execute_result",
          "data": {
            "text/plain": [
              "LinearRegression(copy_X=True, fit_intercept=True, n_jobs=None, normalize=False)"
            ]
          },
          "metadata": {},
          "execution_count": 54
        }
      ]
    },
    {
      "cell_type": "code",
      "metadata": {
        "colab": {
          "base_uri": "https://localhost:8080/"
        },
        "id": "Ayk6fXGt0G48",
        "outputId": "8e160fc5-1f4c-4843-d490-56361ad52041"
      },
      "source": [
        "pred_train = model.predict(scaled_X_train)\n",
        "print(model.score(scaled_X_train, y_train))"
      ],
      "execution_count": null,
      "outputs": [
        {
          "output_type": "stream",
          "name": "stdout",
          "text": [
            "0.5666187268424732\n"
          ]
        }
      ]
    },
    {
      "cell_type": "code",
      "metadata": {
        "id": "7210wVBR0YgJ"
      },
      "source": [
        "pred_test = model.predict(scaled_X_test)"
      ],
      "execution_count": null,
      "outputs": []
    },
    {
      "cell_type": "code",
      "metadata": {
        "colab": {
          "base_uri": "https://localhost:8080/"
        },
        "id": "I8TrV5eQ0oY9",
        "outputId": "433e6fa6-4af7-4b9f-f845-c0e079ef173e"
      },
      "source": [
        "print(model.score(scaled_X_test, y_test))"
      ],
      "execution_count": null,
      "outputs": [
        {
          "output_type": "stream",
          "name": "stdout",
          "text": [
            "0.5778417136170397\n"
          ]
        }
      ]
    },
    {
      "cell_type": "code",
      "metadata": {
        "id": "UAUqgX6n0rwY"
      },
      "source": [
        "new_data.to_csv('housing_price.csv',index=False)"
      ],
      "execution_count": null,
      "outputs": []
    },
    {
      "cell_type": "code",
      "metadata": {
        "id": "6s_yP3tE0zH5"
      },
      "source": [
        ""
      ],
      "execution_count": null,
      "outputs": []
    }
  ]
}