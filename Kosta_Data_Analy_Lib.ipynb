{
  "nbformat": 4,
  "nbformat_minor": 0,
  "metadata": {
    "colab": {
      "name": "Kosta_Data_Analy_Lib.ipynb",
      "provenance": [],
      "collapsed_sections": [],
      "authorship_tag": "ABX9TyM4Kf3ZKnT2TbxPPH+036i6",
      "include_colab_link": true
    },
    "kernelspec": {
      "name": "python3",
      "display_name": "Python 3"
    },
    "language_info": {
      "name": "python"
    },
    "accelerator": "GPU"
  },
  "cells": [
    {
      "cell_type": "markdown",
      "metadata": {
        "id": "view-in-github",
        "colab_type": "text"
      },
      "source": [
        "<a href=\"https://colab.research.google.com/github/holdenkim/codingT/blob/main/Kosta_Data_Analy_Lib.ipynb\" target=\"_parent\"><img src=\"https://colab.research.google.com/assets/colab-badge.svg\" alt=\"Open In Colab\"/></a>"
      ]
    },
    {
      "cell_type": "code",
      "metadata": {
        "id": "iNatjywZ-9GY"
      },
      "source": [
        "import numpy as np"
      ],
      "execution_count": 1,
      "outputs": []
    },
    {
      "cell_type": "code",
      "metadata": {
        "colab": {
          "base_uri": "https://localhost:8080/"
        },
        "id": "M6hQ62jkBP17",
        "outputId": "44b7e1c1-b0b6-4c36-eeb9-d8de0388eb18"
      },
      "source": [
        "print(\"Hello World\")"
      ],
      "execution_count": 1,
      "outputs": [
        {
          "output_type": "stream",
          "name": "stdout",
          "text": [
            "Hello World\n"
          ]
        }
      ]
    },
    {
      "cell_type": "code",
      "metadata": {
        "colab": {
          "base_uri": "https://localhost:8080/"
        },
        "id": "06Z0PIFqDyM1",
        "outputId": "72821a8d-7cc9-4221-b693-70739795d80f"
      },
      "source": [
        "\"\"\"\n",
        "주석처리가 된다\n",
        "\"\"\"\n",
        "print(\"hello\")"
      ],
      "execution_count": 4,
      "outputs": [
        {
          "output_type": "stream",
          "name": "stdout",
          "text": [
            "hello\n"
          ]
        }
      ]
    },
    {
      "cell_type": "code",
      "metadata": {
        "colab": {
          "base_uri": "https://localhost:8080/"
        },
        "id": "6CmosyLEEYlK",
        "outputId": "0067c8e5-bdf3-4daa-c41b-a72527d2fe91"
      },
      "source": [
        "i = int(30)\n",
        "f= float(32.333)\n",
        "b = bool(1)\n",
        "n= None\n",
        "\n",
        "print(i)\n",
        "print(f)\n",
        "print(b)\n",
        "print(n)"
      ],
      "execution_count": 14,
      "outputs": [
        {
          "output_type": "stream",
          "name": "stdout",
          "text": [
            "30\n",
            "32.333\n",
            "True\n",
            "None\n"
          ]
        }
      ]
    },
    {
      "cell_type": "code",
      "metadata": {
        "colab": {
          "base_uri": "https://localhost:8080/"
        },
        "id": "1zyoulqrdSZI",
        "outputId": "cc8a1e58-a3a1-4218-81db-8ff59a46907c"
      },
      "source": [
        "#num1 = int(input(\"첫번째 숫자 넣어주세요:  \"))\n",
        "#print(num1)"
      ],
      "execution_count": 143,
      "outputs": [
        {
          "name": "stdout",
          "output_type": "stream",
          "text": [
            "첫번째 숫자 넣어주세요:  22\n"
          ]
        }
      ]
    },
    {
      "cell_type": "code",
      "metadata": {
        "id": "ruhvtgfzLO6r"
      },
      "source": [
        "j = int(15)"
      ],
      "execution_count": 15,
      "outputs": []
    },
    {
      "cell_type": "code",
      "metadata": {
        "colab": {
          "base_uri": "https://localhost:8080/"
        },
        "id": "PHqPIdsdMbXc",
        "outputId": "958c1473-b7e4-4ba0-9544-a6ee43d91413"
      },
      "source": [
        "r = 2**4\n",
        "print (r)"
      ],
      "execution_count": 22,
      "outputs": [
        {
          "output_type": "stream",
          "name": "stdout",
          "text": [
            "16\n"
          ]
        }
      ]
    },
    {
      "cell_type": "code",
      "metadata": {
        "id": "4BuIKsE5Mfhs"
      },
      "source": [
        "s = \"string is the best method\"\n",
        "t = \"to do the final fantasy!\""
      ],
      "execution_count": 35,
      "outputs": []
    },
    {
      "cell_type": "code",
      "metadata": {
        "colab": {
          "base_uri": "https://localhost:8080/"
        },
        "id": "B5t7dKmyNA_G",
        "outputId": "d77dea72-c588-4b20-8e0b-54698610c237"
      },
      "source": [
        "r = s+t\n",
        "print(r)"
      ],
      "execution_count": 36,
      "outputs": [
        {
          "output_type": "stream",
          "name": "stdout",
          "text": [
            "string is the best methodto do the final fantasy!\n"
          ]
        }
      ]
    },
    {
      "cell_type": "code",
      "metadata": {
        "colab": {
          "base_uri": "https://localhost:8080/",
          "height": 35
        },
        "id": "AiZ_GKZ1NDeJ",
        "outputId": "723a26cb-3909-473a-e2ba-de2057d45edc"
      },
      "source": [
        "r[2:30:2]"
      ],
      "execution_count": 39,
      "outputs": [
        {
          "output_type": "execute_result",
          "data": {
            "application/vnd.google.colaboratory.intrinsic+json": {
              "type": "string"
            },
            "text/plain": [
              "'rn stebs ehdod'"
            ]
          },
          "metadata": {},
          "execution_count": 39
        }
      ]
    },
    {
      "cell_type": "code",
      "metadata": {
        "colab": {
          "base_uri": "https://localhost:8080/"
        },
        "id": "T4u8DQJFNMmW",
        "outputId": "de9e032e-41fd-4488-a604-f39b347f87ab"
      },
      "source": [
        "t= (1,2,3)\n",
        "print(t)"
      ],
      "execution_count": 44,
      "outputs": [
        {
          "output_type": "stream",
          "name": "stdout",
          "text": [
            "(1, 2, 3)\n"
          ]
        }
      ]
    },
    {
      "cell_type": "code",
      "metadata": {
        "colab": {
          "base_uri": "https://localhost:8080/"
        },
        "id": "d0ZmY8RYOyyE",
        "outputId": "319c29db-d7c4-4d2a-a84c-2ba89aa3fde3"
      },
      "source": [
        "l=[1,2,3]\n",
        "print(l)"
      ],
      "execution_count": 45,
      "outputs": [
        {
          "output_type": "stream",
          "name": "stdout",
          "text": [
            "[1, 2, 3]\n"
          ]
        }
      ]
    },
    {
      "cell_type": "code",
      "metadata": {
        "id": "ya_2uc9YPD5O"
      },
      "source": [
        "l[0]=4"
      ],
      "execution_count": 48,
      "outputs": []
    },
    {
      "cell_type": "code",
      "metadata": {
        "id": "qqTlKo7pPxR-"
      },
      "source": [
        "l.append(12)"
      ],
      "execution_count": 51,
      "outputs": []
    },
    {
      "cell_type": "code",
      "metadata": {
        "colab": {
          "base_uri": "https://localhost:8080/"
        },
        "id": "DiDj2iwQP1e5",
        "outputId": "a674ce9a-eb73-478c-d2cc-049c979afd5e"
      },
      "source": [
        "l"
      ],
      "execution_count": 56,
      "outputs": [
        {
          "output_type": "execute_result",
          "data": {
            "text/plain": [
              "[2, 3, 12]"
            ]
          },
          "metadata": {},
          "execution_count": 56
        }
      ]
    },
    {
      "cell_type": "code",
      "metadata": {
        "id": "w6wpD6c9QA1e"
      },
      "source": [
        "l.remove(4)"
      ],
      "execution_count": 55,
      "outputs": []
    },
    {
      "cell_type": "code",
      "metadata": {
        "id": "U8sAy0i4QHmN"
      },
      "source": [
        "a= ['하나','둘','셋','넷']"
      ],
      "execution_count": 57,
      "outputs": []
    },
    {
      "cell_type": "code",
      "metadata": {
        "id": "HbHSoKQKQcfR"
      },
      "source": [
        "a.remove(\"셋\")"
      ],
      "execution_count": 62,
      "outputs": []
    },
    {
      "cell_type": "code",
      "metadata": {
        "colab": {
          "base_uri": "https://localhost:8080/"
        },
        "id": "bjFEwrDzQfuO",
        "outputId": "90208fa2-d8dd-43d0-e2c6-bc1e54c45600"
      },
      "source": [
        "print(a.index('하나'))"
      ],
      "execution_count": 65,
      "outputs": [
        {
          "output_type": "stream",
          "name": "stdout",
          "text": [
            "0\n"
          ]
        }
      ]
    },
    {
      "cell_type": "code",
      "metadata": {
        "id": "NASVKuoQQgtF"
      },
      "source": [
        "b =[1,12,5,8,9]"
      ],
      "execution_count": 77,
      "outputs": []
    },
    {
      "cell_type": "code",
      "metadata": {
        "id": "32Tmi99yQ9w8"
      },
      "source": [
        "b.sort(reverse=True)"
      ],
      "execution_count": 81,
      "outputs": []
    },
    {
      "cell_type": "code",
      "metadata": {
        "colab": {
          "base_uri": "https://localhost:8080/"
        },
        "id": "W1xb_pKzQ-VE",
        "outputId": "770ef113-2e35-48c4-9b34-1da74e14d328"
      },
      "source": [
        "print(b)"
      ],
      "execution_count": 82,
      "outputs": [
        {
          "output_type": "stream",
          "name": "stdout",
          "text": [
            "[12, 9, 8, 5, 1]\n"
          ]
        }
      ]
    },
    {
      "cell_type": "code",
      "metadata": {
        "id": "Xt4J1rshRAza"
      },
      "source": [
        "a = (0)\n",
        "b = (0,)\n",
        "c = 1,2,3"
      ],
      "execution_count": 83,
      "outputs": []
    },
    {
      "cell_type": "code",
      "metadata": {
        "colab": {
          "base_uri": "https://localhost:8080/"
        },
        "id": "yxSbPq2_SqQc",
        "outputId": "c36b8e22-33cd-4e29-d69d-62a6396a2193"
      },
      "source": [
        "print(a)\n",
        "print(b)\n",
        "print(c)"
      ],
      "execution_count": 84,
      "outputs": [
        {
          "output_type": "stream",
          "name": "stdout",
          "text": [
            "0\n",
            "(0,)\n",
            "(1, 2, 3)\n"
          ]
        }
      ]
    },
    {
      "cell_type": "code",
      "metadata": {
        "colab": {
          "base_uri": "https://localhost:8080/"
        },
        "id": "Lt1xRS8YStfH",
        "outputId": "68a78bd8-6bc5-42b7-d979-2014c9b85495"
      },
      "source": [
        "print(type(a))\n",
        "print(type(b))\n",
        "print(type(c))"
      ],
      "execution_count": 85,
      "outputs": [
        {
          "output_type": "stream",
          "name": "stdout",
          "text": [
            "<class 'int'>\n",
            "<class 'tuple'>\n",
            "<class 'tuple'>\n"
          ]
        }
      ]
    },
    {
      "cell_type": "code",
      "metadata": {
        "id": "YksOLKGrS3Vf"
      },
      "source": [
        "dic1 = {\"a\":\"1\", \"b\":\"2\"}"
      ],
      "execution_count": 86,
      "outputs": []
    },
    {
      "cell_type": "code",
      "metadata": {
        "colab": {
          "base_uri": "https://localhost:8080/",
          "height": 35
        },
        "id": "xd7q7f8uTPBp",
        "outputId": "40d29672-4e56-4f13-b607-44cce6b6fbda"
      },
      "source": [
        "dic1[\"a\"]"
      ],
      "execution_count": 88,
      "outputs": [
        {
          "output_type": "execute_result",
          "data": {
            "application/vnd.google.colaboratory.intrinsic+json": {
              "type": "string"
            },
            "text/plain": [
              "'1'"
            ]
          },
          "metadata": {},
          "execution_count": 88
        }
      ]
    },
    {
      "cell_type": "code",
      "metadata": {
        "colab": {
          "base_uri": "https://localhost:8080/"
        },
        "id": "z79KiAsnTQ_3",
        "outputId": "6dc538c7-3a0b-40c0-d389-eb5e806d2d37"
      },
      "source": [
        "a = -1\n",
        "\n",
        "if a>3:\n",
        "  print(\"A가 3보다 커요\")\n",
        "elif a>0:\n",
        "  print(\"A가 양수예요\")\n",
        "else:\n",
        "  print(\"A가 음수네요\")"
      ],
      "execution_count": 97,
      "outputs": [
        {
          "output_type": "stream",
          "name": "stdout",
          "text": [
            "A가 음수네요\n"
          ]
        }
      ]
    },
    {
      "cell_type": "code",
      "metadata": {
        "colab": {
          "base_uri": "https://localhost:8080/"
        },
        "id": "JdKDMSCVVRxF",
        "outputId": "aa1c2e23-42a6-450c-fa8b-8296abcc65d5"
      },
      "source": [
        "list1 = [1,2,3,4]\n",
        "\n",
        "for i in (list1):\n",
        "  print(i)"
      ],
      "execution_count": 99,
      "outputs": [
        {
          "output_type": "stream",
          "name": "stdout",
          "text": [
            "1\n",
            "2\n",
            "3\n",
            "4\n"
          ]
        }
      ]
    },
    {
      "cell_type": "code",
      "metadata": {
        "id": "slgwEPQIiTY_"
      },
      "source": [
        "a =[[\"apple\", \"banna\", \"cherry\"],1,2,3]"
      ],
      "execution_count": 146,
      "outputs": []
    },
    {
      "cell_type": "code",
      "metadata": {
        "colab": {
          "base_uri": "https://localhost:8080/",
          "height": 35
        },
        "id": "aZKR7giUibGn",
        "outputId": "6fb2f948-503e-4e2c-a90a-6734be31c43f"
      },
      "source": [
        "a[0][1][0]"
      ],
      "execution_count": 152,
      "outputs": [
        {
          "output_type": "execute_result",
          "data": {
            "application/vnd.google.colaboratory.intrinsic+json": {
              "type": "string"
            },
            "text/plain": [
              "'b'"
            ]
          },
          "metadata": {},
          "execution_count": 152
        }
      ]
    },
    {
      "cell_type": "code",
      "metadata": {
        "colab": {
          "base_uri": "https://localhost:8080/"
        },
        "id": "DE0OENV0Wjz_",
        "outputId": "a1b520e8-682b-4e99-ba3d-87f6c77ac323"
      },
      "source": [
        "for i in range(12):\n",
        "  print(\"프린트\",i)"
      ],
      "execution_count": 105,
      "outputs": [
        {
          "output_type": "stream",
          "name": "stdout",
          "text": [
            "프린트 0\n",
            "프린트 1\n",
            "프린트 2\n",
            "프린트 3\n",
            "프린트 4\n",
            "프린트 5\n",
            "프린트 6\n",
            "프린트 7\n",
            "프린트 8\n",
            "프린트 9\n",
            "프린트 10\n",
            "프린트 11\n"
          ]
        }
      ]
    },
    {
      "cell_type": "code",
      "metadata": {
        "colab": {
          "base_uri": "https://localhost:8080/"
        },
        "id": "hjEkCCm5WueX",
        "outputId": "6ba37746-3867-4e98-91cb-8120fec6611d"
      },
      "source": [
        "a = \"Kaggle\"\n",
        "\n",
        "for x in a:\n",
        "    print(x)\n",
        "\n",
        "    if x == 'g':\n",
        "        break"
      ],
      "execution_count": 106,
      "outputs": [
        {
          "output_type": "stream",
          "name": "stdout",
          "text": [
            "K\n",
            "a\n",
            "g\n"
          ]
        }
      ]
    },
    {
      "cell_type": "code",
      "metadata": {
        "colab": {
          "base_uri": "https://localhost:8080/"
        },
        "id": "SWYJHvPxXumT",
        "outputId": "2ee9106e-245e-4dc8-aa8e-e033ab0f397e"
      },
      "source": [
        "alphabets = ['A', 'B', 'C']\n",
        "for index, value in enumerate(alphabets):\n",
        "    print(index, value)"
      ],
      "execution_count": 107,
      "outputs": [
        {
          "output_type": "stream",
          "name": "stdout",
          "text": [
            "0 A\n",
            "1 B\n",
            "2 C\n"
          ]
        }
      ]
    },
    {
      "cell_type": "code",
      "metadata": {
        "id": "XDKAbtRRX0Ah"
      },
      "source": [
        "list1 = [1,2,3]\n",
        "list2 = [4,5,6]\n",
        "list3 = list1+list2"
      ],
      "execution_count": 108,
      "outputs": []
    },
    {
      "cell_type": "code",
      "metadata": {
        "colab": {
          "base_uri": "https://localhost:8080/"
        },
        "id": "CxqQf6fiaO_D",
        "outputId": "dc685ce2-165e-4552-e236-b9e978ba7c76"
      },
      "source": [
        "print(list3)"
      ],
      "execution_count": 109,
      "outputs": [
        {
          "output_type": "stream",
          "name": "stdout",
          "text": [
            "[1, 2, 3, 4, 5, 6]\n"
          ]
        }
      ]
    },
    {
      "cell_type": "code",
      "metadata": {
        "id": "1m_U-LKgaQp9"
      },
      "source": [
        "import numpy as np"
      ],
      "execution_count": 110,
      "outputs": []
    },
    {
      "cell_type": "code",
      "metadata": {
        "id": "VHSvAPGMaVX-"
      },
      "source": [
        "a = [1,2,3]\n",
        "b = [4,5,6]\n",
        "c= np.array(a)+np.array(b)"
      ],
      "execution_count": 111,
      "outputs": []
    },
    {
      "cell_type": "code",
      "metadata": {
        "colab": {
          "base_uri": "https://localhost:8080/"
        },
        "id": "zv4u7TEOahnU",
        "outputId": "b527d414-8de1-4b6e-e39d-74940d4c2b3a"
      },
      "source": [
        "print(c)"
      ],
      "execution_count": 112,
      "outputs": [
        {
          "output_type": "stream",
          "name": "stdout",
          "text": [
            "[5 7 9]\n"
          ]
        }
      ]
    },
    {
      "cell_type": "code",
      "metadata": {
        "id": "WQ_KoAieailO"
      },
      "source": [
        "new_array = np.array([1,2,3,4,5,6,7,8,9,10,11,12,13,14,15,16])"
      ],
      "execution_count": 131,
      "outputs": []
    },
    {
      "cell_type": "code",
      "metadata": {
        "colab": {
          "base_uri": "https://localhost:8080/"
        },
        "id": "opukmJYIaztt",
        "outputId": "390dcd9d-eee6-4cb6-bf2d-b28e9bc8b00d"
      },
      "source": [
        "new_array"
      ],
      "execution_count": 132,
      "outputs": [
        {
          "output_type": "execute_result",
          "data": {
            "text/plain": [
              "array([ 1,  2,  3,  4,  5,  6,  7,  8,  9, 10, 11, 12, 13, 14, 15, 16])"
            ]
          },
          "metadata": {},
          "execution_count": 132
        }
      ]
    },
    {
      "cell_type": "code",
      "metadata": {
        "colab": {
          "base_uri": "https://localhost:8080/",
          "height": 35
        },
        "id": "yUrQBo9pa3ES",
        "outputId": "0937802c-2c0f-475d-d27a-78bd6333e2c1"
      },
      "source": [
        "\"\"\"\n",
        "리스트 []\n",
        "튜플 (,)\n",
        "딕셔너리{\"\":\"\", \"\":\", \"\":\"\"}\n",
        "\"\"\""
      ],
      "execution_count": 116,
      "outputs": [
        {
          "output_type": "execute_result",
          "data": {
            "application/vnd.google.colaboratory.intrinsic+json": {
              "type": "string"
            },
            "text/plain": [
              "'\\n리스트 []\\n튜플 (,)\\n딕셔너리{\"\":\"\", \"\":\", \"\":\"\"}\\n'"
            ]
          },
          "metadata": {},
          "execution_count": 116
        }
      ]
    },
    {
      "cell_type": "code",
      "metadata": {
        "id": "aw0M6afdbEed"
      },
      "source": [
        "new = new_array.reshape(2,-1)"
      ],
      "execution_count": 133,
      "outputs": []
    },
    {
      "cell_type": "code",
      "metadata": {
        "colab": {
          "base_uri": "https://localhost:8080/"
        },
        "id": "HeENiImFbiZq",
        "outputId": "e6704a7f-6f7c-4171-84e4-df0b16ec99b2"
      },
      "source": [
        "new"
      ],
      "execution_count": 134,
      "outputs": [
        {
          "output_type": "execute_result",
          "data": {
            "text/plain": [
              "array([[ 1,  2,  3,  4,  5,  6,  7,  8],\n",
              "       [ 9, 10, 11, 12, 13, 14, 15, 16]])"
            ]
          },
          "metadata": {},
          "execution_count": 134
        }
      ]
    },
    {
      "cell_type": "code",
      "metadata": {
        "colab": {
          "base_uri": "https://localhost:8080/"
        },
        "id": "BibglvLnb-j8",
        "outputId": "c1f3e2b5-16f6-436e-ce94-d8fbe69a36c5"
      },
      "source": [
        "new.reshape(8,-1)"
      ],
      "execution_count": 140,
      "outputs": [
        {
          "output_type": "execute_result",
          "data": {
            "text/plain": [
              "array([[ 1,  2],\n",
              "       [ 3,  4],\n",
              "       [ 5,  6],\n",
              "       [ 7,  8],\n",
              "       [ 9, 10],\n",
              "       [11, 12],\n",
              "       [13, 14],\n",
              "       [15, 16]])"
            ]
          },
          "metadata": {},
          "execution_count": 140
        }
      ]
    },
    {
      "cell_type": "code",
      "metadata": {
        "id": "F_B1t7_OciJI"
      },
      "source": [
        ""
      ],
      "execution_count": null,
      "outputs": []
    }
  ]
}