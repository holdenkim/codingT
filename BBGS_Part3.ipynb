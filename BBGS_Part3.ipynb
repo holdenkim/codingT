{
  "nbformat": 4,
  "nbformat_minor": 0,
  "metadata": {
    "colab": {
      "name": "BBGS_Part3.ipynb",
      "provenance": [],
      "collapsed_sections": [
        "UcF6Muyy9-Rm",
        "Y4Vhrm-_-TTf",
        "KIWjQ-UJjOqN",
        "FHP2w0zpgDEK"
      ],
      "authorship_tag": "ABX9TyP3m9fmC9WReEGfGpNjBgei",
      "include_colab_link": true
    },
    "kernelspec": {
      "name": "python3",
      "display_name": "Python 3"
    },
    "language_info": {
      "name": "python"
    }
  },
  "cells": [
    {
      "cell_type": "markdown",
      "metadata": {
        "id": "view-in-github",
        "colab_type": "text"
      },
      "source": [
        "<a href=\"https://colab.research.google.com/github/holdenkim/codingT/blob/main/BBGS_Part3.ipynb\" target=\"_parent\"><img src=\"https://colab.research.google.com/assets/colab-badge.svg\" alt=\"Open In Colab\"/></a>"
      ]
    },
    {
      "cell_type": "markdown",
      "metadata": {
        "id": "2zdIl65s95eG"
      },
      "source": [
        "#맛보기1 분류문제"
      ]
    },
    {
      "cell_type": "markdown",
      "metadata": {
        "id": "UcF6Muyy9-Rm"
      },
      "source": [
        "#분석 데이터 검토"
      ]
    },
    {
      "cell_type": "code",
      "metadata": {
        "id": "OgauB5wG95E4"
      },
      "source": [
        "import pandas as pd\n",
        "import numpy as np"
      ],
      "execution_count": null,
      "outputs": []
    },
    {
      "cell_type": "code",
      "metadata": {
        "id": "mblcM2WE-lsc"
      },
      "source": [
        "data = pd.read_csv(\"breast-cancer-wisconsin.csv\")"
      ],
      "execution_count": null,
      "outputs": []
    },
    {
      "cell_type": "code",
      "metadata": {
        "colab": {
          "base_uri": "https://localhost:8080/"
        },
        "id": "KVGxZ8ze-szy",
        "outputId": "a1a65766-55dc-4bde-9867-972766f679e6"
      },
      "source": [
        "data.head()"
      ],
      "execution_count": null,
      "outputs": [
        {
          "output_type": "execute_result",
          "data": {
            "text/html": [
              "<div>\n",
              "<style scoped>\n",
              "    .dataframe tbody tr th:only-of-type {\n",
              "        vertical-align: middle;\n",
              "    }\n",
              "\n",
              "    .dataframe tbody tr th {\n",
              "        vertical-align: top;\n",
              "    }\n",
              "\n",
              "    .dataframe thead th {\n",
              "        text-align: right;\n",
              "    }\n",
              "</style>\n",
              "<table border=\"1\" class=\"dataframe\">\n",
              "  <thead>\n",
              "    <tr style=\"text-align: right;\">\n",
              "      <th></th>\n",
              "      <th>code</th>\n",
              "      <th>Clump_Thickness</th>\n",
              "      <th>Cell_Size</th>\n",
              "      <th>Cell_Shape</th>\n",
              "      <th>Marginal_Adhesion</th>\n",
              "      <th>Single_Epithelial_Cell_Size</th>\n",
              "      <th>Bare_Nuclei</th>\n",
              "      <th>Bland_Chromatin</th>\n",
              "      <th>Normal_Nucleoli</th>\n",
              "      <th>Mitoses</th>\n",
              "      <th>Class</th>\n",
              "    </tr>\n",
              "  </thead>\n",
              "  <tbody>\n",
              "    <tr>\n",
              "      <th>0</th>\n",
              "      <td>1000025</td>\n",
              "      <td>5</td>\n",
              "      <td>1</td>\n",
              "      <td>1</td>\n",
              "      <td>1</td>\n",
              "      <td>2</td>\n",
              "      <td>1</td>\n",
              "      <td>3</td>\n",
              "      <td>1</td>\n",
              "      <td>1</td>\n",
              "      <td>0</td>\n",
              "    </tr>\n",
              "    <tr>\n",
              "      <th>1</th>\n",
              "      <td>1002945</td>\n",
              "      <td>5</td>\n",
              "      <td>4</td>\n",
              "      <td>4</td>\n",
              "      <td>5</td>\n",
              "      <td>7</td>\n",
              "      <td>10</td>\n",
              "      <td>3</td>\n",
              "      <td>2</td>\n",
              "      <td>1</td>\n",
              "      <td>0</td>\n",
              "    </tr>\n",
              "    <tr>\n",
              "      <th>2</th>\n",
              "      <td>1015425</td>\n",
              "      <td>3</td>\n",
              "      <td>1</td>\n",
              "      <td>1</td>\n",
              "      <td>1</td>\n",
              "      <td>2</td>\n",
              "      <td>2</td>\n",
              "      <td>3</td>\n",
              "      <td>1</td>\n",
              "      <td>1</td>\n",
              "      <td>0</td>\n",
              "    </tr>\n",
              "    <tr>\n",
              "      <th>3</th>\n",
              "      <td>1016277</td>\n",
              "      <td>6</td>\n",
              "      <td>8</td>\n",
              "      <td>8</td>\n",
              "      <td>1</td>\n",
              "      <td>3</td>\n",
              "      <td>4</td>\n",
              "      <td>3</td>\n",
              "      <td>7</td>\n",
              "      <td>1</td>\n",
              "      <td>0</td>\n",
              "    </tr>\n",
              "    <tr>\n",
              "      <th>4</th>\n",
              "      <td>1017023</td>\n",
              "      <td>4</td>\n",
              "      <td>1</td>\n",
              "      <td>1</td>\n",
              "      <td>3</td>\n",
              "      <td>2</td>\n",
              "      <td>1</td>\n",
              "      <td>3</td>\n",
              "      <td>1</td>\n",
              "      <td>1</td>\n",
              "      <td>0</td>\n",
              "    </tr>\n",
              "  </tbody>\n",
              "</table>\n",
              "</div>"
            ],
            "text/plain": [
              "      code  Clump_Thickness  Cell_Size  ...  Normal_Nucleoli  Mitoses  Class\n",
              "0  1000025                5          1  ...                1        1      0\n",
              "1  1002945                5          4  ...                2        1      0\n",
              "2  1015425                3          1  ...                1        1      0\n",
              "3  1016277                6          8  ...                7        1      0\n",
              "4  1017023                4          1  ...                1        1      0\n",
              "\n",
              "[5 rows x 11 columns]"
            ]
          },
          "metadata": {},
          "execution_count": 3
        }
      ]
    },
    {
      "cell_type": "code",
      "metadata": {
        "colab": {
          "base_uri": "https://localhost:8080/"
        },
        "id": "tGR39Czi-uiw",
        "outputId": "ff124150-cf29-408f-99e5-d21baa74efa9"
      },
      "source": [
        "data.info()"
      ],
      "execution_count": null,
      "outputs": [
        {
          "output_type": "stream",
          "name": "stdout",
          "text": [
            "<class 'pandas.core.frame.DataFrame'>\n",
            "RangeIndex: 683 entries, 0 to 682\n",
            "Data columns (total 11 columns):\n",
            " #   Column                       Non-Null Count  Dtype\n",
            "---  ------                       --------------  -----\n",
            " 0   code                         683 non-null    int64\n",
            " 1   Clump_Thickness              683 non-null    int64\n",
            " 2   Cell_Size                    683 non-null    int64\n",
            " 3   Cell_Shape                   683 non-null    int64\n",
            " 4   Marginal_Adhesion            683 non-null    int64\n",
            " 5   Single_Epithelial_Cell_Size  683 non-null    int64\n",
            " 6   Bare_Nuclei                  683 non-null    int64\n",
            " 7   Bland_Chromatin              683 non-null    int64\n",
            " 8   Normal_Nucleoli              683 non-null    int64\n",
            " 9   Mitoses                      683 non-null    int64\n",
            " 10  Class                        683 non-null    int64\n",
            "dtypes: int64(11)\n",
            "memory usage: 58.8 KB\n"
          ]
        }
      ]
    },
    {
      "cell_type": "code",
      "metadata": {
        "colab": {
          "base_uri": "https://localhost:8080/"
        },
        "id": "sGADtrVG-yaZ",
        "outputId": "7d6a7207-d4b5-45b0-9ac8-6616aa3b6bc6"
      },
      "source": [
        "data.describe()"
      ],
      "execution_count": null,
      "outputs": [
        {
          "output_type": "execute_result",
          "data": {
            "text/html": [
              "<div>\n",
              "<style scoped>\n",
              "    .dataframe tbody tr th:only-of-type {\n",
              "        vertical-align: middle;\n",
              "    }\n",
              "\n",
              "    .dataframe tbody tr th {\n",
              "        vertical-align: top;\n",
              "    }\n",
              "\n",
              "    .dataframe thead th {\n",
              "        text-align: right;\n",
              "    }\n",
              "</style>\n",
              "<table border=\"1\" class=\"dataframe\">\n",
              "  <thead>\n",
              "    <tr style=\"text-align: right;\">\n",
              "      <th></th>\n",
              "      <th>code</th>\n",
              "      <th>Clump_Thickness</th>\n",
              "      <th>Cell_Size</th>\n",
              "      <th>Cell_Shape</th>\n",
              "      <th>Marginal_Adhesion</th>\n",
              "      <th>Single_Epithelial_Cell_Size</th>\n",
              "      <th>Bare_Nuclei</th>\n",
              "      <th>Bland_Chromatin</th>\n",
              "      <th>Normal_Nucleoli</th>\n",
              "      <th>Mitoses</th>\n",
              "      <th>Class</th>\n",
              "    </tr>\n",
              "  </thead>\n",
              "  <tbody>\n",
              "    <tr>\n",
              "      <th>count</th>\n",
              "      <td>6.830000e+02</td>\n",
              "      <td>683.000000</td>\n",
              "      <td>683.000000</td>\n",
              "      <td>683.000000</td>\n",
              "      <td>683.000000</td>\n",
              "      <td>683.000000</td>\n",
              "      <td>683.000000</td>\n",
              "      <td>683.000000</td>\n",
              "      <td>683.000000</td>\n",
              "      <td>683.000000</td>\n",
              "      <td>683.000000</td>\n",
              "    </tr>\n",
              "    <tr>\n",
              "      <th>mean</th>\n",
              "      <td>1.076720e+06</td>\n",
              "      <td>4.442167</td>\n",
              "      <td>3.150805</td>\n",
              "      <td>3.215227</td>\n",
              "      <td>2.830161</td>\n",
              "      <td>3.234261</td>\n",
              "      <td>3.544656</td>\n",
              "      <td>3.445095</td>\n",
              "      <td>2.869693</td>\n",
              "      <td>1.603221</td>\n",
              "      <td>0.349927</td>\n",
              "    </tr>\n",
              "    <tr>\n",
              "      <th>std</th>\n",
              "      <td>6.206440e+05</td>\n",
              "      <td>2.820761</td>\n",
              "      <td>3.065145</td>\n",
              "      <td>2.988581</td>\n",
              "      <td>2.864562</td>\n",
              "      <td>2.223085</td>\n",
              "      <td>3.643857</td>\n",
              "      <td>2.449697</td>\n",
              "      <td>3.052666</td>\n",
              "      <td>1.732674</td>\n",
              "      <td>0.477296</td>\n",
              "    </tr>\n",
              "    <tr>\n",
              "      <th>min</th>\n",
              "      <td>6.337500e+04</td>\n",
              "      <td>1.000000</td>\n",
              "      <td>1.000000</td>\n",
              "      <td>1.000000</td>\n",
              "      <td>1.000000</td>\n",
              "      <td>1.000000</td>\n",
              "      <td>1.000000</td>\n",
              "      <td>1.000000</td>\n",
              "      <td>1.000000</td>\n",
              "      <td>1.000000</td>\n",
              "      <td>0.000000</td>\n",
              "    </tr>\n",
              "    <tr>\n",
              "      <th>25%</th>\n",
              "      <td>8.776170e+05</td>\n",
              "      <td>2.000000</td>\n",
              "      <td>1.000000</td>\n",
              "      <td>1.000000</td>\n",
              "      <td>1.000000</td>\n",
              "      <td>2.000000</td>\n",
              "      <td>1.000000</td>\n",
              "      <td>2.000000</td>\n",
              "      <td>1.000000</td>\n",
              "      <td>1.000000</td>\n",
              "      <td>0.000000</td>\n",
              "    </tr>\n",
              "    <tr>\n",
              "      <th>50%</th>\n",
              "      <td>1.171795e+06</td>\n",
              "      <td>4.000000</td>\n",
              "      <td>1.000000</td>\n",
              "      <td>1.000000</td>\n",
              "      <td>1.000000</td>\n",
              "      <td>2.000000</td>\n",
              "      <td>1.000000</td>\n",
              "      <td>3.000000</td>\n",
              "      <td>1.000000</td>\n",
              "      <td>1.000000</td>\n",
              "      <td>0.000000</td>\n",
              "    </tr>\n",
              "    <tr>\n",
              "      <th>75%</th>\n",
              "      <td>1.238705e+06</td>\n",
              "      <td>6.000000</td>\n",
              "      <td>5.000000</td>\n",
              "      <td>5.000000</td>\n",
              "      <td>4.000000</td>\n",
              "      <td>4.000000</td>\n",
              "      <td>6.000000</td>\n",
              "      <td>5.000000</td>\n",
              "      <td>4.000000</td>\n",
              "      <td>1.000000</td>\n",
              "      <td>1.000000</td>\n",
              "    </tr>\n",
              "    <tr>\n",
              "      <th>max</th>\n",
              "      <td>1.345435e+07</td>\n",
              "      <td>10.000000</td>\n",
              "      <td>10.000000</td>\n",
              "      <td>10.000000</td>\n",
              "      <td>10.000000</td>\n",
              "      <td>10.000000</td>\n",
              "      <td>10.000000</td>\n",
              "      <td>10.000000</td>\n",
              "      <td>10.000000</td>\n",
              "      <td>10.000000</td>\n",
              "      <td>1.000000</td>\n",
              "    </tr>\n",
              "  </tbody>\n",
              "</table>\n",
              "</div>"
            ],
            "text/plain": [
              "               code  Clump_Thickness  ...     Mitoses       Class\n",
              "count  6.830000e+02       683.000000  ...  683.000000  683.000000\n",
              "mean   1.076720e+06         4.442167  ...    1.603221    0.349927\n",
              "std    6.206440e+05         2.820761  ...    1.732674    0.477296\n",
              "min    6.337500e+04         1.000000  ...    1.000000    0.000000\n",
              "25%    8.776170e+05         2.000000  ...    1.000000    0.000000\n",
              "50%    1.171795e+06         4.000000  ...    1.000000    0.000000\n",
              "75%    1.238705e+06         6.000000  ...    1.000000    1.000000\n",
              "max    1.345435e+07        10.000000  ...   10.000000    1.000000\n",
              "\n",
              "[8 rows x 11 columns]"
            ]
          },
          "metadata": {},
          "execution_count": 5
        }
      ]
    },
    {
      "cell_type": "markdown",
      "metadata": {
        "id": "_JzlglKR-ARW"
      },
      "source": [
        "특성 나누기"
      ]
    },
    {
      "cell_type": "code",
      "metadata": {
        "id": "qp0w44Qw9zdQ"
      },
      "source": [
        "from sklearn.model_selection import train_test_split"
      ],
      "execution_count": null,
      "outputs": []
    },
    {
      "cell_type": "code",
      "metadata": {
        "id": "XqYEBJwZ_I_Q"
      },
      "source": [
        "X = data[data.columns[1:10]]\n",
        "y= data[data.columns[10:]]"
      ],
      "execution_count": null,
      "outputs": []
    },
    {
      "cell_type": "code",
      "metadata": {
        "colab": {
          "base_uri": "https://localhost:8080/"
        },
        "id": "8DBq7s6flwuS",
        "outputId": "7e21e9a6-0527-468f-c27c-2de76c17a3bb"
      },
      "source": [
        "print(X.shape)\n",
        "print(y.shape)"
      ],
      "execution_count": null,
      "outputs": [
        {
          "output_type": "stream",
          "name": "stdout",
          "text": [
            "(683, 9)\n",
            "(683, 1)\n"
          ]
        }
      ]
    },
    {
      "cell_type": "markdown",
      "metadata": {
        "id": "qFuYRKTI-D1G"
      },
      "source": [
        "train test 나누기\n"
      ]
    },
    {
      "cell_type": "code",
      "metadata": {
        "id": "nm307opX-IZp"
      },
      "source": [
        "X_train, X_test, y_train, y_test = train_test_split(X,y, random_state=42, stratify=y)"
      ],
      "execution_count": null,
      "outputs": []
    },
    {
      "cell_type": "code",
      "metadata": {
        "colab": {
          "base_uri": "https://localhost:8080/"
        },
        "id": "hFUvh3xWl4DC",
        "outputId": "2ae598fc-6d5b-4de2-f1b8-8ee59e57bcc3"
      },
      "source": [
        "print(y_train.mean())\n",
        "print(y_test.mean())"
      ],
      "execution_count": null,
      "outputs": [
        {
          "output_type": "stream",
          "name": "stdout",
          "text": [
            "Class    0.349609\n",
            "dtype: float64\n",
            "Class    0.350877\n",
            "dtype: float64\n"
          ]
        }
      ]
    },
    {
      "cell_type": "markdown",
      "metadata": {
        "id": "OPP0aeFg-JzJ"
      },
      "source": [
        "정규화"
      ]
    },
    {
      "cell_type": "code",
      "metadata": {
        "id": "3uDz9HO2-L-a"
      },
      "source": [
        "from sklearn.preprocessing import MinMaxScaler\n",
        "from sklearn.preprocessing import StandardScaler"
      ],
      "execution_count": null,
      "outputs": []
    },
    {
      "cell_type": "code",
      "metadata": {
        "colab": {
          "base_uri": "https://localhost:8080/"
        },
        "id": "SAhoRTQp_uVm",
        "outputId": "bc85e09e-2390-4d29-bfe9-0a0d886f3cfd"
      },
      "source": [
        "mms= MinMaxScaler()\n",
        "mms.fit(X_train)"
      ],
      "execution_count": null,
      "outputs": [
        {
          "output_type": "execute_result",
          "data": {
            "text/plain": [
              "MinMaxScaler(copy=True, feature_range=(0, 1))"
            ]
          },
          "metadata": {},
          "execution_count": 12
        }
      ]
    },
    {
      "cell_type": "code",
      "metadata": {
        "id": "9iDhok1h_5rG"
      },
      "source": [
        "X_scaled_minmax_train = mms.transform(X_train)\n",
        "X_scaled_minmax_test = mms.transform(X_test)"
      ],
      "execution_count": null,
      "outputs": []
    },
    {
      "cell_type": "code",
      "metadata": {
        "colab": {
          "base_uri": "https://localhost:8080/"
        },
        "id": "skbMYZL6mUvi",
        "outputId": "eeb47794-59fc-4739-8bf9-d874bba5936e"
      },
      "source": [
        "pd.DataFrame(X_scaled_minmax_train).describe()"
      ],
      "execution_count": null,
      "outputs": [
        {
          "output_type": "execute_result",
          "data": {
            "text/html": [
              "<div>\n",
              "<style scoped>\n",
              "    .dataframe tbody tr th:only-of-type {\n",
              "        vertical-align: middle;\n",
              "    }\n",
              "\n",
              "    .dataframe tbody tr th {\n",
              "        vertical-align: top;\n",
              "    }\n",
              "\n",
              "    .dataframe thead th {\n",
              "        text-align: right;\n",
              "    }\n",
              "</style>\n",
              "<table border=\"1\" class=\"dataframe\">\n",
              "  <thead>\n",
              "    <tr style=\"text-align: right;\">\n",
              "      <th></th>\n",
              "      <th>0</th>\n",
              "      <th>1</th>\n",
              "      <th>2</th>\n",
              "      <th>3</th>\n",
              "      <th>4</th>\n",
              "      <th>5</th>\n",
              "      <th>6</th>\n",
              "      <th>7</th>\n",
              "      <th>8</th>\n",
              "    </tr>\n",
              "  </thead>\n",
              "  <tbody>\n",
              "    <tr>\n",
              "      <th>count</th>\n",
              "      <td>512.000000</td>\n",
              "      <td>512.000000</td>\n",
              "      <td>512.000000</td>\n",
              "      <td>512.000000</td>\n",
              "      <td>512.000000</td>\n",
              "      <td>512.000000</td>\n",
              "      <td>512.000000</td>\n",
              "      <td>512.000000</td>\n",
              "      <td>512.000000</td>\n",
              "    </tr>\n",
              "    <tr>\n",
              "      <th>mean</th>\n",
              "      <td>0.372830</td>\n",
              "      <td>0.231988</td>\n",
              "      <td>0.242839</td>\n",
              "      <td>0.205078</td>\n",
              "      <td>0.241319</td>\n",
              "      <td>0.285590</td>\n",
              "      <td>0.269314</td>\n",
              "      <td>0.199002</td>\n",
              "      <td>0.067491</td>\n",
              "    </tr>\n",
              "    <tr>\n",
              "      <th>std</th>\n",
              "      <td>0.317836</td>\n",
              "      <td>0.334781</td>\n",
              "      <td>0.332112</td>\n",
              "      <td>0.319561</td>\n",
              "      <td>0.242541</td>\n",
              "      <td>0.404890</td>\n",
              "      <td>0.265289</td>\n",
              "      <td>0.331503</td>\n",
              "      <td>0.190373</td>\n",
              "    </tr>\n",
              "    <tr>\n",
              "      <th>min</th>\n",
              "      <td>0.000000</td>\n",
              "      <td>0.000000</td>\n",
              "      <td>0.000000</td>\n",
              "      <td>0.000000</td>\n",
              "      <td>0.000000</td>\n",
              "      <td>0.000000</td>\n",
              "      <td>0.000000</td>\n",
              "      <td>0.000000</td>\n",
              "      <td>0.000000</td>\n",
              "    </tr>\n",
              "    <tr>\n",
              "      <th>25%</th>\n",
              "      <td>0.111111</td>\n",
              "      <td>0.000000</td>\n",
              "      <td>0.000000</td>\n",
              "      <td>0.000000</td>\n",
              "      <td>0.111111</td>\n",
              "      <td>0.000000</td>\n",
              "      <td>0.111111</td>\n",
              "      <td>0.000000</td>\n",
              "      <td>0.000000</td>\n",
              "    </tr>\n",
              "    <tr>\n",
              "      <th>50%</th>\n",
              "      <td>0.333333</td>\n",
              "      <td>0.000000</td>\n",
              "      <td>0.000000</td>\n",
              "      <td>0.000000</td>\n",
              "      <td>0.111111</td>\n",
              "      <td>0.000000</td>\n",
              "      <td>0.222222</td>\n",
              "      <td>0.000000</td>\n",
              "      <td>0.000000</td>\n",
              "    </tr>\n",
              "    <tr>\n",
              "      <th>75%</th>\n",
              "      <td>0.555556</td>\n",
              "      <td>0.361111</td>\n",
              "      <td>0.444444</td>\n",
              "      <td>0.333333</td>\n",
              "      <td>0.333333</td>\n",
              "      <td>0.583333</td>\n",
              "      <td>0.444444</td>\n",
              "      <td>0.222222</td>\n",
              "      <td>0.000000</td>\n",
              "    </tr>\n",
              "    <tr>\n",
              "      <th>max</th>\n",
              "      <td>1.000000</td>\n",
              "      <td>1.000000</td>\n",
              "      <td>1.000000</td>\n",
              "      <td>1.000000</td>\n",
              "      <td>1.000000</td>\n",
              "      <td>1.000000</td>\n",
              "      <td>1.000000</td>\n",
              "      <td>1.000000</td>\n",
              "      <td>1.000000</td>\n",
              "    </tr>\n",
              "  </tbody>\n",
              "</table>\n",
              "</div>"
            ],
            "text/plain": [
              "                0           1           2  ...           6           7           8\n",
              "count  512.000000  512.000000  512.000000  ...  512.000000  512.000000  512.000000\n",
              "mean     0.372830    0.231988    0.242839  ...    0.269314    0.199002    0.067491\n",
              "std      0.317836    0.334781    0.332112  ...    0.265289    0.331503    0.190373\n",
              "min      0.000000    0.000000    0.000000  ...    0.000000    0.000000    0.000000\n",
              "25%      0.111111    0.000000    0.000000  ...    0.111111    0.000000    0.000000\n",
              "50%      0.333333    0.000000    0.000000  ...    0.222222    0.000000    0.000000\n",
              "75%      0.555556    0.361111    0.444444  ...    0.444444    0.222222    0.000000\n",
              "max      1.000000    1.000000    1.000000  ...    1.000000    1.000000    1.000000\n",
              "\n",
              "[8 rows x 9 columns]"
            ]
          },
          "metadata": {},
          "execution_count": 14
        }
      ]
    },
    {
      "cell_type": "code",
      "metadata": {
        "colab": {
          "base_uri": "https://localhost:8080/"
        },
        "id": "ZANp5oqImpvu",
        "outputId": "c5008679-1636-4b41-f219-fff9b06dbf50"
      },
      "source": [
        "pd.DataFrame(X_scaled_minmax_test).describe()"
      ],
      "execution_count": null,
      "outputs": [
        {
          "output_type": "execute_result",
          "data": {
            "text/html": [
              "<div>\n",
              "<style scoped>\n",
              "    .dataframe tbody tr th:only-of-type {\n",
              "        vertical-align: middle;\n",
              "    }\n",
              "\n",
              "    .dataframe tbody tr th {\n",
              "        vertical-align: top;\n",
              "    }\n",
              "\n",
              "    .dataframe thead th {\n",
              "        text-align: right;\n",
              "    }\n",
              "</style>\n",
              "<table border=\"1\" class=\"dataframe\">\n",
              "  <thead>\n",
              "    <tr style=\"text-align: right;\">\n",
              "      <th></th>\n",
              "      <th>0</th>\n",
              "      <th>1</th>\n",
              "      <th>2</th>\n",
              "      <th>3</th>\n",
              "      <th>4</th>\n",
              "      <th>5</th>\n",
              "      <th>6</th>\n",
              "      <th>7</th>\n",
              "      <th>8</th>\n",
              "    </tr>\n",
              "  </thead>\n",
              "  <tbody>\n",
              "    <tr>\n",
              "      <th>count</th>\n",
              "      <td>171.000000</td>\n",
              "      <td>171.000000</td>\n",
              "      <td>171.000000</td>\n",
              "      <td>171.000000</td>\n",
              "      <td>171.000000</td>\n",
              "      <td>171.000000</td>\n",
              "      <td>171.000000</td>\n",
              "      <td>171.000000</td>\n",
              "      <td>171.000000</td>\n",
              "    </tr>\n",
              "    <tr>\n",
              "      <th>mean</th>\n",
              "      <td>0.411306</td>\n",
              "      <td>0.259909</td>\n",
              "      <td>0.256010</td>\n",
              "      <td>0.198181</td>\n",
              "      <td>0.269006</td>\n",
              "      <td>0.274204</td>\n",
              "      <td>0.278752</td>\n",
              "      <td>0.233918</td>\n",
              "      <td>0.065627</td>\n",
              "    </tr>\n",
              "    <tr>\n",
              "      <th>std</th>\n",
              "      <td>0.298847</td>\n",
              "      <td>0.357544</td>\n",
              "      <td>0.332700</td>\n",
              "      <td>0.315307</td>\n",
              "      <td>0.259557</td>\n",
              "      <td>0.405891</td>\n",
              "      <td>0.292578</td>\n",
              "      <td>0.360958</td>\n",
              "      <td>0.199372</td>\n",
              "    </tr>\n",
              "    <tr>\n",
              "      <th>min</th>\n",
              "      <td>0.000000</td>\n",
              "      <td>0.000000</td>\n",
              "      <td>0.000000</td>\n",
              "      <td>0.000000</td>\n",
              "      <td>0.000000</td>\n",
              "      <td>0.000000</td>\n",
              "      <td>0.000000</td>\n",
              "      <td>0.000000</td>\n",
              "      <td>0.000000</td>\n",
              "    </tr>\n",
              "    <tr>\n",
              "      <th>25%</th>\n",
              "      <td>0.222222</td>\n",
              "      <td>0.000000</td>\n",
              "      <td>0.000000</td>\n",
              "      <td>0.000000</td>\n",
              "      <td>0.111111</td>\n",
              "      <td>0.000000</td>\n",
              "      <td>0.000000</td>\n",
              "      <td>0.000000</td>\n",
              "      <td>0.000000</td>\n",
              "    </tr>\n",
              "    <tr>\n",
              "      <th>50%</th>\n",
              "      <td>0.444444</td>\n",
              "      <td>0.000000</td>\n",
              "      <td>0.111111</td>\n",
              "      <td>0.000000</td>\n",
              "      <td>0.111111</td>\n",
              "      <td>0.000000</td>\n",
              "      <td>0.222222</td>\n",
              "      <td>0.000000</td>\n",
              "      <td>0.000000</td>\n",
              "    </tr>\n",
              "    <tr>\n",
              "      <th>75%</th>\n",
              "      <td>0.555556</td>\n",
              "      <td>0.444444</td>\n",
              "      <td>0.444444</td>\n",
              "      <td>0.222222</td>\n",
              "      <td>0.388889</td>\n",
              "      <td>0.444444</td>\n",
              "      <td>0.444444</td>\n",
              "      <td>0.388889</td>\n",
              "      <td>0.000000</td>\n",
              "    </tr>\n",
              "    <tr>\n",
              "      <th>max</th>\n",
              "      <td>1.000000</td>\n",
              "      <td>1.000000</td>\n",
              "      <td>1.000000</td>\n",
              "      <td>1.000000</td>\n",
              "      <td>1.000000</td>\n",
              "      <td>1.000000</td>\n",
              "      <td>1.000000</td>\n",
              "      <td>1.000000</td>\n",
              "      <td>1.000000</td>\n",
              "    </tr>\n",
              "  </tbody>\n",
              "</table>\n",
              "</div>"
            ],
            "text/plain": [
              "                0           1           2  ...           6           7           8\n",
              "count  171.000000  171.000000  171.000000  ...  171.000000  171.000000  171.000000\n",
              "mean     0.411306    0.259909    0.256010  ...    0.278752    0.233918    0.065627\n",
              "std      0.298847    0.357544    0.332700  ...    0.292578    0.360958    0.199372\n",
              "min      0.000000    0.000000    0.000000  ...    0.000000    0.000000    0.000000\n",
              "25%      0.222222    0.000000    0.000000  ...    0.000000    0.000000    0.000000\n",
              "50%      0.444444    0.000000    0.111111  ...    0.222222    0.000000    0.000000\n",
              "75%      0.555556    0.444444    0.444444  ...    0.444444    0.388889    0.000000\n",
              "max      1.000000    1.000000    1.000000  ...    1.000000    1.000000    1.000000\n",
              "\n",
              "[8 rows x 9 columns]"
            ]
          },
          "metadata": {},
          "execution_count": 15
        }
      ]
    },
    {
      "cell_type": "markdown",
      "metadata": {
        "id": "II3zj8uV-PSp"
      },
      "source": [
        "모델 학습 로지스틱 리스레션"
      ]
    },
    {
      "cell_type": "code",
      "metadata": {
        "colab": {
          "base_uri": "https://localhost:8080/"
        },
        "id": "04lARE56-Oy4",
        "outputId": "d0227bd9-1ca9-4995-e0be-924220f7ed74"
      },
      "source": [
        "from sklearn.linear_model import LogisticRegression\n",
        "model = LogisticRegression()\n",
        "model.fit(X_scaled_minmax_train, y_train)"
      ],
      "execution_count": null,
      "outputs": [
        {
          "output_type": "stream",
          "name": "stderr",
          "text": [
            "/usr/local/lib/python3.7/dist-packages/sklearn/utils/validation.py:760: DataConversionWarning: A column-vector y was passed when a 1d array was expected. Please change the shape of y to (n_samples, ), for example using ravel().\n",
            "  y = column_or_1d(y, warn=True)\n"
          ]
        },
        {
          "output_type": "execute_result",
          "data": {
            "text/plain": [
              "LogisticRegression(C=1.0, class_weight=None, dual=False, fit_intercept=True,\n",
              "                   intercept_scaling=1, l1_ratio=None, max_iter=100,\n",
              "                   multi_class='auto', n_jobs=None, penalty='l2',\n",
              "                   random_state=None, solver='lbfgs', tol=0.0001, verbose=0,\n",
              "                   warm_start=False)"
            ]
          },
          "metadata": {},
          "execution_count": 16
        }
      ]
    },
    {
      "cell_type": "code",
      "metadata": {
        "id": "F49kBIX8AnR9"
      },
      "source": [
        "pred_train = model.predict(X_scaled_minmax_train)\n",
        "pred_test = model.predict(X_scaled_minmax_test)"
      ],
      "execution_count": null,
      "outputs": []
    },
    {
      "cell_type": "code",
      "metadata": {
        "colab": {
          "base_uri": "https://localhost:8080/"
        },
        "id": "OABr0aVFA0Q5",
        "outputId": "a035ed61-1615-46d5-8017-35791b0d1d1f"
      },
      "source": [
        "print(model.score(X_scaled_minmax_train, y_train))\n",
        "print(model.score(X_scaled_minmax_test, y_test))"
      ],
      "execution_count": null,
      "outputs": [
        {
          "output_type": "stream",
          "name": "stdout",
          "text": [
            "0.97265625\n",
            "0.9590643274853801\n"
          ]
        }
      ]
    },
    {
      "cell_type": "markdown",
      "metadata": {
        "id": "eGABB9P4nyLz"
      },
      "source": [
        "모델평가"
      ]
    },
    {
      "cell_type": "code",
      "metadata": {
        "id": "1cUQYQzGlAZh"
      },
      "source": [
        "from sklearn.metrics import confusion_matrix"
      ],
      "execution_count": null,
      "outputs": []
    },
    {
      "cell_type": "code",
      "metadata": {
        "id": "6PanHJc1lD2c"
      },
      "source": [
        "cm = confusion_matrix(y_test,pred_test )"
      ],
      "execution_count": null,
      "outputs": []
    },
    {
      "cell_type": "code",
      "metadata": {
        "colab": {
          "base_uri": "https://localhost:8080/"
        },
        "id": "ke3ijv78m-r4",
        "outputId": "0aa087c1-9f20-43d8-c30e-2dce87307fe6"
      },
      "source": [
        "print(cm)"
      ],
      "execution_count": null,
      "outputs": [
        {
          "output_type": "stream",
          "name": "stdout",
          "text": [
            "[[106   5]\n",
            " [  2  58]]\n"
          ]
        }
      ]
    },
    {
      "cell_type": "code",
      "metadata": {
        "id": "HrThNG7xnA99"
      },
      "source": [
        "from sklearn.metrics import classification_report"
      ],
      "execution_count": null,
      "outputs": []
    },
    {
      "cell_type": "code",
      "metadata": {
        "colab": {
          "base_uri": "https://localhost:8080/"
        },
        "id": "ngKLx15SnGlU",
        "outputId": "b22b3f06-c802-4c9a-c66b-959b8e0acb41"
      },
      "source": [
        "cr = classification_report(y_test,pred_test)\n",
        "print(cr)"
      ],
      "execution_count": null,
      "outputs": [
        {
          "output_type": "stream",
          "name": "stdout",
          "text": [
            "              precision    recall  f1-score   support\n",
            "\n",
            "           0       0.98      0.95      0.97       111\n",
            "           1       0.92      0.97      0.94        60\n",
            "\n",
            "    accuracy                           0.96       171\n",
            "   macro avg       0.95      0.96      0.96       171\n",
            "weighted avg       0.96      0.96      0.96       171\n",
            "\n"
          ]
        }
      ]
    },
    {
      "cell_type": "code",
      "metadata": {
        "id": "Bm_1QkUR0MGq"
      },
      "source": [
        "from sklearn.metrics import auc, roc_curve\n",
        "from sklearn import metrics\n",
        "false_positive_rate, true_positive_rate, threshold = roc_curve(\n",
        "    y_test, model.decision_function(X_scaled_minmax_test)\n",
        ")\n",
        "roc_auc = metrics.roc_auc_score(\n",
        "    y_test, model.decision_function(X_scaled_minmax_test)\n",
        ")"
      ],
      "execution_count": null,
      "outputs": []
    },
    {
      "cell_type": "code",
      "metadata": {
        "colab": {
          "base_uri": "https://localhost:8080/"
        },
        "id": "7Ltwbob102EK",
        "outputId": "4eae76e1-bcd2-405e-cc2b-fcc6ac74f33d"
      },
      "source": [
        "roc_auc"
      ],
      "execution_count": null,
      "outputs": [
        {
          "output_type": "execute_result",
          "data": {
            "text/plain": [
              "0.9923423423423423"
            ]
          },
          "metadata": {},
          "execution_count": 26
        }
      ]
    },
    {
      "cell_type": "code",
      "metadata": {
        "colab": {
          "base_uri": "https://localhost:8080/"
        },
        "id": "SlESjHh107XQ",
        "outputId": "ecc059f5-3b35-40b0-d5e3-9bd41218cd4f"
      },
      "source": [
        "import matplotlib.pyplot as plt\n",
        "plt.plot(false_positive_rate, true_positive_rate)\n",
        "plt.plot([0,1],[1,1],'y--')\n",
        "plt.plot([0,1],[0,1],'r--')"
      ],
      "execution_count": null,
      "outputs": [
        {
          "output_type": "execute_result",
          "data": {
            "text/plain": [
              "[<matplotlib.lines.Line2D at 0x7ff8f6c82e10>]"
            ]
          },
          "metadata": {},
          "execution_count": 38
        },
        {
          "output_type": "display_data",
          "data": {
            "image/png": "[encoded data removed]",
            "text/plain": [
              "<Figure size 432x288 with 1 Axes>"
            ]
          },
          "metadata": {
            "needs_background": "light"
          }
        }
      ]
    },
    {
      "cell_type": "markdown",
      "metadata": {
        "id": "xnw-LbvUn0h4"
      },
      "source": [
        "예측값 병합 및 저장"
      ]
    },
    {
      "cell_type": "code",
      "metadata": {
        "colab": {
          "base_uri": "https://localhost:8080/"
        },
        "id": "u30wpRa6241J",
        "outputId": "e9c4d31d-1e9d-4602-9ffa-256c5c580f11"
      },
      "source": [
        "print(y_train.shape)\n",
        "print(pred_train.shape)"
      ],
      "execution_count": null,
      "outputs": [
        {
          "output_type": "stream",
          "name": "stdout",
          "text": [
            "(512, 4)\n",
            "(512,)\n"
          ]
        }
      ]
    },
    {
      "cell_type": "code",
      "metadata": {
        "id": "OHP_vs3kn4fO",
        "colab": {
          "base_uri": "https://localhost:8080/"
        },
        "outputId": "f8602481-8177-4878-a8b4-82d8d7768712"
      },
      "source": [
        "proba_train = model.predict_proba(X_scaled_minmax_train)\n",
        "proba_test = model.predict_proba(X_scaled_minmax_test)\n",
        "\n",
        "y_train[[\"y_pred\"]]= pred_train\n",
        "y_train[[\"y_proba0\",\"y_proba1\"]]= proba_train\n",
        "\n",
        "#y_test[[\"y_pred\"]]= pred_test\n",
        "y_test[[\"y_proba0\",\"y_proba1\"]]= proba_test"
      ],
      "execution_count": null,
      "outputs": [
        {
          "output_type": "stream",
          "name": "stderr",
          "text": [
            "/usr/local/lib/python3.7/dist-packages/ipykernel_launcher.py:4: SettingWithCopyWarning: \n",
            "A value is trying to be set on a copy of a slice from a DataFrame.\n",
            "Try using .loc[row_indexer,col_indexer] = value instead\n",
            "\n",
            "See the caveats in the documentation: https://pandas.pydata.org/pandas-docs/stable/user_guide/indexing.html#returning-a-view-versus-a-copy\n",
            "  after removing the cwd from sys.path.\n",
            "/usr/local/lib/python3.7/dist-packages/pandas/core/indexing.py:1743: SettingWithCopyWarning: \n",
            "A value is trying to be set on a copy of a slice from a DataFrame.\n",
            "Try using .loc[row_indexer,col_indexer] = value instead\n",
            "\n",
            "See the caveats in the documentation: https://pandas.pydata.org/pandas-docs/stable/user_guide/indexing.html#returning-a-view-versus-a-copy\n",
            "  isetter(ilocs[0], value)\n",
            "/usr/local/lib/python3.7/dist-packages/ipykernel_launcher.py:5: SettingWithCopyWarning: \n",
            "A value is trying to be set on a copy of a slice from a DataFrame.\n",
            "Try using .loc[row_indexer,col_indexer] = value instead\n",
            "\n",
            "See the caveats in the documentation: https://pandas.pydata.org/pandas-docs/stable/user_guide/indexing.html#returning-a-view-versus-a-copy\n",
            "  \"\"\"\n",
            "/usr/local/lib/python3.7/dist-packages/pandas/core/indexing.py:1734: SettingWithCopyWarning: \n",
            "A value is trying to be set on a copy of a slice from a DataFrame.\n",
            "Try using .loc[row_indexer,col_indexer] = value instead\n",
            "\n",
            "See the caveats in the documentation: https://pandas.pydata.org/pandas-docs/stable/user_guide/indexing.html#returning-a-view-versus-a-copy\n",
            "  isetter(loc, value[:, i].tolist())\n",
            "/usr/local/lib/python3.7/dist-packages/pandas/core/indexing.py:659: SettingWithCopyWarning: \n",
            "A value is trying to be set on a copy of a slice from a DataFrame.\n",
            "Try using .loc[row_indexer,col_indexer] = value instead\n",
            "\n",
            "See the caveats in the documentation: https://pandas.pydata.org/pandas-docs/stable/user_guide/indexing.html#returning-a-view-versus-a-copy\n",
            "  self.obj[k] = np.nan\n",
            "/usr/local/lib/python3.7/dist-packages/ipykernel_launcher.py:8: SettingWithCopyWarning: \n",
            "A value is trying to be set on a copy of a slice from a DataFrame.\n",
            "Try using .loc[row_indexer,col_indexer] = value instead\n",
            "\n",
            "See the caveats in the documentation: https://pandas.pydata.org/pandas-docs/stable/user_guide/indexing.html#returning-a-view-versus-a-copy\n",
            "  \n"
          ]
        }
      ]
    },
    {
      "cell_type": "markdown",
      "metadata": {
        "id": "ov7e7Zjln5Ls"
      },
      "source": [
        ""
      ]
    },
    {
      "cell_type": "markdown",
      "metadata": {
        "id": "Y4Vhrm-_-TTf"
      },
      "source": [
        "# 맛보기 2 회귀문제"
      ]
    },
    {
      "cell_type": "code",
      "metadata": {
        "id": "gdU5bKdQBTlM"
      },
      "source": [
        "import pandas as pd"
      ],
      "execution_count": null,
      "outputs": []
    },
    {
      "cell_type": "code",
      "metadata": {
        "id": "dQ6pkGxT5VZi"
      },
      "source": [
        "data = pd.read_csv('house_price.csv')"
      ],
      "execution_count": null,
      "outputs": []
    },
    {
      "cell_type": "code",
      "metadata": {
        "colab": {
          "base_uri": "https://localhost:8080/",
          "height": 108
        },
        "id": "xdQBJNoh5aMG",
        "outputId": "37034cf0-322b-4217-90dd-0b4cad5a6861"
      },
      "source": [
        "data.head(2)"
      ],
      "execution_count": null,
      "outputs": [
        {
          "output_type": "execute_result",
          "data": {
            "text/html": [
              "<div>\n",
              "<style scoped>\n",
              "    .dataframe tbody tr th:only-of-type {\n",
              "        vertical-align: middle;\n",
              "    }\n",
              "\n",
              "    .dataframe tbody tr th {\n",
              "        vertical-align: top;\n",
              "    }\n",
              "\n",
              "    .dataframe thead th {\n",
              "        text-align: right;\n",
              "    }\n",
              "</style>\n",
              "<table border=\"1\" class=\"dataframe\">\n",
              "  <thead>\n",
              "    <tr style=\"text-align: right;\">\n",
              "      <th></th>\n",
              "      <th>housing_age</th>\n",
              "      <th>income</th>\n",
              "      <th>bedrooms</th>\n",
              "      <th>households</th>\n",
              "      <th>rooms</th>\n",
              "      <th>house_value</th>\n",
              "    </tr>\n",
              "  </thead>\n",
              "  <tbody>\n",
              "    <tr>\n",
              "      <th>0</th>\n",
              "      <td>23</td>\n",
              "      <td>6.7770</td>\n",
              "      <td>0.141112</td>\n",
              "      <td>2.442244</td>\n",
              "      <td>8.103960</td>\n",
              "      <td>500000</td>\n",
              "    </tr>\n",
              "    <tr>\n",
              "      <th>1</th>\n",
              "      <td>49</td>\n",
              "      <td>6.0199</td>\n",
              "      <td>0.160984</td>\n",
              "      <td>2.726688</td>\n",
              "      <td>5.752412</td>\n",
              "      <td>500000</td>\n",
              "    </tr>\n",
              "  </tbody>\n",
              "</table>\n",
              "</div>"
            ],
            "text/plain": [
              "   housing_age  income  bedrooms  households     rooms  house_value\n",
              "0           23  6.7770  0.141112    2.442244  8.103960       500000\n",
              "1           49  6.0199  0.160984    2.726688  5.752412       500000"
            ]
          },
          "metadata": {},
          "execution_count": 3
        }
      ]
    },
    {
      "cell_type": "code",
      "metadata": {
        "colab": {
          "base_uri": "https://localhost:8080/"
        },
        "id": "FNGYO0r75dbh",
        "outputId": "47e774f8-7bd7-4b89-af75-e4365761eab5"
      },
      "source": [
        "data.info()"
      ],
      "execution_count": null,
      "outputs": [
        {
          "output_type": "stream",
          "name": "stdout",
          "text": [
            "<class 'pandas.core.frame.DataFrame'>\n",
            "RangeIndex: 17689 entries, 0 to 17688\n",
            "Data columns (total 6 columns):\n",
            " #   Column       Non-Null Count  Dtype  \n",
            "---  ------       --------------  -----  \n",
            " 0   housing_age  17689 non-null  int64  \n",
            " 1   income       17689 non-null  float64\n",
            " 2   bedrooms     17689 non-null  float64\n",
            " 3   households   17689 non-null  float64\n",
            " 4   rooms        17689 non-null  float64\n",
            " 5   house_value  17689 non-null  int64  \n",
            "dtypes: float64(4), int64(2)\n",
            "memory usage: 829.3 KB\n"
          ]
        }
      ]
    },
    {
      "cell_type": "code",
      "metadata": {
        "colab": {
          "base_uri": "https://localhost:8080/",
          "height": 290
        },
        "id": "gHkNxXWq5hV5",
        "outputId": "a2be0a5c-a181-405a-8089-5fbf84dbfd74"
      },
      "source": [
        "data.describe()"
      ],
      "execution_count": null,
      "outputs": [
        {
          "output_type": "execute_result",
          "data": {
            "text/html": [
              "<div>\n",
              "<style scoped>\n",
              "    .dataframe tbody tr th:only-of-type {\n",
              "        vertical-align: middle;\n",
              "    }\n",
              "\n",
              "    .dataframe tbody tr th {\n",
              "        vertical-align: top;\n",
              "    }\n",
              "\n",
              "    .dataframe thead th {\n",
              "        text-align: right;\n",
              "    }\n",
              "</style>\n",
              "<table border=\"1\" class=\"dataframe\">\n",
              "  <thead>\n",
              "    <tr style=\"text-align: right;\">\n",
              "      <th></th>\n",
              "      <th>housing_age</th>\n",
              "      <th>income</th>\n",
              "      <th>bedrooms</th>\n",
              "      <th>households</th>\n",
              "      <th>rooms</th>\n",
              "      <th>house_value</th>\n",
              "    </tr>\n",
              "  </thead>\n",
              "  <tbody>\n",
              "    <tr>\n",
              "      <th>count</th>\n",
              "      <td>17689.000000</td>\n",
              "      <td>17689.000000</td>\n",
              "      <td>17689.000000</td>\n",
              "      <td>17689.000000</td>\n",
              "      <td>17689.000000</td>\n",
              "      <td>17689.000000</td>\n",
              "    </tr>\n",
              "    <tr>\n",
              "      <th>mean</th>\n",
              "      <td>27.378823</td>\n",
              "      <td>3.671141</td>\n",
              "      <td>0.213278</td>\n",
              "      <td>2.952117</td>\n",
              "      <td>5.244001</td>\n",
              "      <td>189043.439313</td>\n",
              "    </tr>\n",
              "    <tr>\n",
              "      <th>std</th>\n",
              "      <td>11.280230</td>\n",
              "      <td>1.525937</td>\n",
              "      <td>0.051167</td>\n",
              "      <td>0.731573</td>\n",
              "      <td>1.184922</td>\n",
              "      <td>95487.122628</td>\n",
              "    </tr>\n",
              "    <tr>\n",
              "      <th>min</th>\n",
              "      <td>1.000000</td>\n",
              "      <td>0.499900</td>\n",
              "      <td>0.100000</td>\n",
              "      <td>0.750000</td>\n",
              "      <td>1.640000</td>\n",
              "      <td>14999.000000</td>\n",
              "    </tr>\n",
              "    <tr>\n",
              "      <th>25%</th>\n",
              "      <td>18.000000</td>\n",
              "      <td>2.532900</td>\n",
              "      <td>0.177464</td>\n",
              "      <td>2.470270</td>\n",
              "      <td>4.426829</td>\n",
              "      <td>114400.000000</td>\n",
              "    </tr>\n",
              "    <tr>\n",
              "      <th>50%</th>\n",
              "      <td>28.000000</td>\n",
              "      <td>3.453900</td>\n",
              "      <td>0.204104</td>\n",
              "      <td>2.854962</td>\n",
              "      <td>5.190779</td>\n",
              "      <td>171100.000000</td>\n",
              "    </tr>\n",
              "    <tr>\n",
              "      <th>75%</th>\n",
              "      <td>36.000000</td>\n",
              "      <td>4.591800</td>\n",
              "      <td>0.240157</td>\n",
              "      <td>3.316092</td>\n",
              "      <td>5.953728</td>\n",
              "      <td>242700.000000</td>\n",
              "    </tr>\n",
              "    <tr>\n",
              "      <th>max</th>\n",
              "      <td>51.000000</td>\n",
              "      <td>9.905500</td>\n",
              "      <td>0.498127</td>\n",
              "      <td>6.954023</td>\n",
              "      <td>11.901869</td>\n",
              "      <td>500000.000000</td>\n",
              "    </tr>\n",
              "  </tbody>\n",
              "</table>\n",
              "</div>"
            ],
            "text/plain": [
              "        housing_age        income  ...         rooms    house_value\n",
              "count  17689.000000  17689.000000  ...  17689.000000   17689.000000\n",
              "mean      27.378823      3.671141  ...      5.244001  189043.439313\n",
              "std       11.280230      1.525937  ...      1.184922   95487.122628\n",
              "min        1.000000      0.499900  ...      1.640000   14999.000000\n",
              "25%       18.000000      2.532900  ...      4.426829  114400.000000\n",
              "50%       28.000000      3.453900  ...      5.190779  171100.000000\n",
              "75%       36.000000      4.591800  ...      5.953728  242700.000000\n",
              "max       51.000000      9.905500  ...     11.901869  500000.000000\n",
              "\n",
              "[8 rows x 6 columns]"
            ]
          },
          "metadata": {},
          "execution_count": 5
        }
      ]
    },
    {
      "cell_type": "code",
      "metadata": {
        "colab": {
          "base_uri": "https://localhost:8080/"
        },
        "id": "gA2fGiLEg4bQ",
        "outputId": "14e9bffb-401b-4097-c05e-f2b95c65e3c4"
      },
      "source": [
        "temp= data.columns[0:5]\n",
        "type(temp)"
      ],
      "execution_count": null,
      "outputs": [
        {
          "output_type": "execute_result",
          "data": {
            "text/plain": [
              "pandas.core.indexes.base.Index"
            ]
          },
          "metadata": {},
          "execution_count": 16
        }
      ]
    },
    {
      "cell_type": "code",
      "metadata": {
        "id": "4RL8a7OB6AhB"
      },
      "source": [
        "X = data[temp]\n",
        "X1 = data[[\"housing_age\",\"income\",\"bedrooms\",\"households\",\"rooms\"]]\n",
        "y = data[[\"house_value\"]]"
      ],
      "execution_count": null,
      "outputs": []
    },
    {
      "cell_type": "code",
      "metadata": {
        "id": "2atYnaGb56ZZ"
      },
      "source": [
        "from sklearn.model_selection import train_test_split\n",
        "X_train, X_test, y_train, y_test = train_test_split(X,y,random_state=42)"
      ],
      "execution_count": null,
      "outputs": []
    },
    {
      "cell_type": "code",
      "metadata": {
        "colab": {
          "base_uri": "https://localhost:8080/"
        },
        "id": "PuiLAU4l5jmr",
        "outputId": "fd319e46-f237-4064-f450-4a294b2295e7"
      },
      "source": [
        "from sklearn.linear_model import LinearRegression\n",
        "model = LinearRegression()\n",
        "model.fit(X_train, y_train)"
      ],
      "execution_count": null,
      "outputs": [
        {
          "output_type": "execute_result",
          "data": {
            "text/plain": [
              "LinearRegression(copy_X=True, fit_intercept=True, n_jobs=None, normalize=False)"
            ]
          },
          "metadata": {},
          "execution_count": 22
        }
      ]
    },
    {
      "cell_type": "code",
      "metadata": {
        "colab": {
          "base_uri": "https://localhost:8080/"
        },
        "id": "_2Gw5UZo7L05",
        "outputId": "31dadc59-b94f-420e-bacc-ebd49623b571"
      },
      "source": [
        "print(model.score(X_train, y_train))\n",
        "print(model.score(X_test, y_test))"
      ],
      "execution_count": null,
      "outputs": [
        {
          "output_type": "stream",
          "name": "stdout",
          "text": [
            "0.5706921210926263\n",
            "0.5826083517811866\n"
          ]
        }
      ]
    },
    {
      "cell_type": "code",
      "metadata": {
        "id": "kVaUHWE8h6Z2"
      },
      "source": [
        "y_test_pred = model.predict(X_test)"
      ],
      "execution_count": null,
      "outputs": []
    },
    {
      "cell_type": "code",
      "metadata": {
        "id": "sz9ZR7A07WvA"
      },
      "source": [
        "import numpy as np\n",
        "from sklearn.metrics import mean_squared_error\n"
      ],
      "execution_count": null,
      "outputs": []
    },
    {
      "cell_type": "code",
      "metadata": {
        "id": "FII8-uxfh0Ld"
      },
      "source": [
        "MSE = mean_squared_error (y_test, y_test_pred)"
      ],
      "execution_count": null,
      "outputs": []
    },
    {
      "cell_type": "code",
      "metadata": {
        "colab": {
          "base_uri": "https://localhost:8080/"
        },
        "id": "0V3bOXGziKC9",
        "outputId": "b92bf425-f20d-4e09-8348-2291c3c530f3"
      },
      "source": [
        "np.sqrt(MSE)"
      ],
      "execution_count": null,
      "outputs": [
        {
          "output_type": "execute_result",
          "data": {
            "text/plain": [
              "61763.84882543206"
            ]
          },
          "metadata": {},
          "execution_count": 29
        }
      ]
    },
    {
      "cell_type": "code",
      "metadata": {
        "colab": {
          "base_uri": "https://localhost:8080/"
        },
        "id": "rxbQ3iJqiK_W",
        "outputId": "70c69f60-bb5a-44a6-b00d-0b100555d6ab"
      },
      "source": [
        "X_test['pred'] = y_test_pred"
      ],
      "execution_count": null,
      "outputs": [
        {
          "output_type": "stream",
          "name": "stderr",
          "text": [
            "/usr/local/lib/python3.7/dist-packages/ipykernel_launcher.py:1: SettingWithCopyWarning: \n",
            "A value is trying to be set on a copy of a slice from a DataFrame.\n",
            "Try using .loc[row_indexer,col_indexer] = value instead\n",
            "\n",
            "See the caveats in the documentation: https://pandas.pydata.org/pandas-docs/stable/user_guide/indexing.html#returning-a-view-versus-a-copy\n",
            "  \"\"\"Entry point for launching an IPython kernel.\n"
          ]
        }
      ]
    },
    {
      "cell_type": "code",
      "metadata": {
        "colab": {
          "base_uri": "https://localhost:8080/"
        },
        "id": "bEVZFY2iiX1B",
        "outputId": "eb5d9bd4-db16-4f15-af2a-78a27ffd5bb4"
      },
      "source": [
        "X_test['house_price'] = y_test"
      ],
      "execution_count": null,
      "outputs": [
        {
          "output_type": "stream",
          "name": "stderr",
          "text": [
            "/usr/local/lib/python3.7/dist-packages/ipykernel_launcher.py:1: SettingWithCopyWarning: \n",
            "A value is trying to be set on a copy of a slice from a DataFrame.\n",
            "Try using .loc[row_indexer,col_indexer] = value instead\n",
            "\n",
            "See the caveats in the documentation: https://pandas.pydata.org/pandas-docs/stable/user_guide/indexing.html#returning-a-view-versus-a-copy\n",
            "  \"\"\"Entry point for launching an IPython kernel.\n"
          ]
        }
      ]
    },
    {
      "cell_type": "code",
      "metadata": {
        "colab": {
          "base_uri": "https://localhost:8080/",
          "height": 408
        },
        "id": "NGtmXbTZi2GM",
        "outputId": "fb2960c8-1ead-4a2d-9e5e-39bdad31a5df"
      },
      "source": [
        "X_test"
      ],
      "execution_count": null,
      "outputs": [
        {
          "output_type": "execute_result",
          "data": {
            "text/html": [
              "<div>\n",
              "<style scoped>\n",
              "    .dataframe tbody tr th:only-of-type {\n",
              "        vertical-align: middle;\n",
              "    }\n",
              "\n",
              "    .dataframe tbody tr th {\n",
              "        vertical-align: top;\n",
              "    }\n",
              "\n",
              "    .dataframe thead th {\n",
              "        text-align: right;\n",
              "    }\n",
              "</style>\n",
              "<table border=\"1\" class=\"dataframe\">\n",
              "  <thead>\n",
              "    <tr style=\"text-align: right;\">\n",
              "      <th></th>\n",
              "      <th>housing_age</th>\n",
              "      <th>income</th>\n",
              "      <th>bedrooms</th>\n",
              "      <th>households</th>\n",
              "      <th>rooms</th>\n",
              "      <th>pred</th>\n",
              "      <th>house_price</th>\n",
              "    </tr>\n",
              "  </thead>\n",
              "  <tbody>\n",
              "    <tr>\n",
              "      <th>17552</th>\n",
              "      <td>19</td>\n",
              "      <td>1.0481</td>\n",
              "      <td>0.251874</td>\n",
              "      <td>3.670846</td>\n",
              "      <td>4.181818</td>\n",
              "      <td>33552.694027</td>\n",
              "      <td>48500</td>\n",
              "    </tr>\n",
              "    <tr>\n",
              "      <th>5659</th>\n",
              "      <td>26</td>\n",
              "      <td>5.8683</td>\n",
              "      <td>0.132936</td>\n",
              "      <td>2.730483</td>\n",
              "      <td>7.172862</td>\n",
              "      <td>266109.596465</td>\n",
              "      <td>220500</td>\n",
              "    </tr>\n",
              "    <tr>\n",
              "      <th>5954</th>\n",
              "      <td>37</td>\n",
              "      <td>4.1094</td>\n",
              "      <td>0.177939</td>\n",
              "      <td>2.652582</td>\n",
              "      <td>5.830986</td>\n",
              "      <td>212922.500307</td>\n",
              "      <td>215800</td>\n",
              "    </tr>\n",
              "    <tr>\n",
              "      <th>733</th>\n",
              "      <td>16</td>\n",
              "      <td>6.3258</td>\n",
              "      <td>0.169569</td>\n",
              "      <td>3.155340</td>\n",
              "      <td>6.412621</td>\n",
              "      <td>290337.891760</td>\n",
              "      <td>390000</td>\n",
              "    </tr>\n",
              "    <tr>\n",
              "      <th>10290</th>\n",
              "      <td>32</td>\n",
              "      <td>2.2950</td>\n",
              "      <td>0.293907</td>\n",
              "      <td>4.188742</td>\n",
              "      <td>3.695364</td>\n",
              "      <td>135785.644577</td>\n",
              "      <td>155200</td>\n",
              "    </tr>\n",
              "    <tr>\n",
              "      <th>...</th>\n",
              "      <td>...</td>\n",
              "      <td>...</td>\n",
              "      <td>...</td>\n",
              "      <td>...</td>\n",
              "      <td>...</td>\n",
              "      <td>...</td>\n",
              "      <td>...</td>\n",
              "    </tr>\n",
              "    <tr>\n",
              "      <th>7770</th>\n",
              "      <td>34</td>\n",
              "      <td>5.5238</td>\n",
              "      <td>0.169824</td>\n",
              "      <td>3.451264</td>\n",
              "      <td>5.335740</td>\n",
              "      <td>262949.818829</td>\n",
              "      <td>185300</td>\n",
              "    </tr>\n",
              "    <tr>\n",
              "      <th>1822</th>\n",
              "      <td>19</td>\n",
              "      <td>3.8819</td>\n",
              "      <td>0.226279</td>\n",
              "      <td>1.897600</td>\n",
              "      <td>4.755200</td>\n",
              "      <td>226451.743868</td>\n",
              "      <td>328900</td>\n",
              "    </tr>\n",
              "    <tr>\n",
              "      <th>811</th>\n",
              "      <td>40</td>\n",
              "      <td>5.7143</td>\n",
              "      <td>0.148075</td>\n",
              "      <td>2.704819</td>\n",
              "      <td>6.102410</td>\n",
              "      <td>288121.570093</td>\n",
              "      <td>382400</td>\n",
              "    </tr>\n",
              "    <tr>\n",
              "      <th>868</th>\n",
              "      <td>16</td>\n",
              "      <td>2.6250</td>\n",
              "      <td>0.229714</td>\n",
              "      <td>1.910828</td>\n",
              "      <td>5.573248</td>\n",
              "      <td>151766.958670</td>\n",
              "      <td>377300</td>\n",
              "    </tr>\n",
              "    <tr>\n",
              "      <th>11661</th>\n",
              "      <td>4</td>\n",
              "      <td>3.2131</td>\n",
              "      <td>0.263085</td>\n",
              "      <td>1.882530</td>\n",
              "      <td>4.373494</td>\n",
              "      <td>191185.781639</td>\n",
              "      <td>137500</td>\n",
              "    </tr>\n",
              "  </tbody>\n",
              "</table>\n",
              "<p>4423 rows × 7 columns</p>\n",
              "</div>"
            ],
            "text/plain": [
              "       housing_age  income  bedrooms  ...     rooms           pred  house_price\n",
              "17552           19  1.0481  0.251874  ...  4.181818   33552.694027        48500\n",
              "5659            26  5.8683  0.132936  ...  7.172862  266109.596465       220500\n",
              "5954            37  4.1094  0.177939  ...  5.830986  212922.500307       215800\n",
              "733             16  6.3258  0.169569  ...  6.412621  290337.891760       390000\n",
              "10290           32  2.2950  0.293907  ...  3.695364  135785.644577       155200\n",
              "...            ...     ...       ...  ...       ...            ...          ...\n",
              "7770            34  5.5238  0.169824  ...  5.335740  262949.818829       185300\n",
              "1822            19  3.8819  0.226279  ...  4.755200  226451.743868       328900\n",
              "811             40  5.7143  0.148075  ...  6.102410  288121.570093       382400\n",
              "868             16  2.6250  0.229714  ...  5.573248  151766.958670       377300\n",
              "11661            4  3.2131  0.263085  ...  4.373494  191185.781639       137500\n",
              "\n",
              "[4423 rows x 7 columns]"
            ]
          },
          "metadata": {},
          "execution_count": 34
        }
      ]
    },
    {
      "cell_type": "markdown",
      "metadata": {
        "id": "KIWjQ-UJjOqN"
      },
      "source": [
        "#범주 변수 변환"
      ]
    },
    {
      "cell_type": "code",
      "metadata": {
        "id": "Tpz6rvwbjCET"
      },
      "source": [
        "import pandas as pd"
      ],
      "execution_count": null,
      "outputs": []
    },
    {
      "cell_type": "code",
      "metadata": {
        "id": "XLOZsWwDaVkt"
      },
      "source": [
        "data = pd.read_csv('vote.csv')"
      ],
      "execution_count": null,
      "outputs": []
    },
    {
      "cell_type": "code",
      "metadata": {
        "colab": {
          "base_uri": "https://localhost:8080/",
          "height": 204
        },
        "id": "B3XL__UoaZdl",
        "outputId": "c1365cd6-1452-4682-df44-e4c2030449c1"
      },
      "source": [
        "data.head()"
      ],
      "execution_count": null,
      "outputs": [
        {
          "output_type": "execute_result",
          "data": {
            "text/html": [
              "<div>\n",
              "<style scoped>\n",
              "    .dataframe tbody tr th:only-of-type {\n",
              "        vertical-align: middle;\n",
              "    }\n",
              "\n",
              "    .dataframe tbody tr th {\n",
              "        vertical-align: top;\n",
              "    }\n",
              "\n",
              "    .dataframe thead th {\n",
              "        text-align: right;\n",
              "    }\n",
              "</style>\n",
              "<table border=\"1\" class=\"dataframe\">\n",
              "  <thead>\n",
              "    <tr style=\"text-align: right;\">\n",
              "      <th></th>\n",
              "      <th>gender</th>\n",
              "      <th>region</th>\n",
              "      <th>edu</th>\n",
              "      <th>income</th>\n",
              "      <th>age</th>\n",
              "      <th>score_gov</th>\n",
              "      <th>score_progress</th>\n",
              "      <th>score_intention</th>\n",
              "      <th>vote</th>\n",
              "      <th>parties</th>\n",
              "    </tr>\n",
              "  </thead>\n",
              "  <tbody>\n",
              "    <tr>\n",
              "      <th>0</th>\n",
              "      <td>1</td>\n",
              "      <td>4</td>\n",
              "      <td>3</td>\n",
              "      <td>3</td>\n",
              "      <td>3</td>\n",
              "      <td>2</td>\n",
              "      <td>2</td>\n",
              "      <td>4.0</td>\n",
              "      <td>1</td>\n",
              "      <td>2</td>\n",
              "    </tr>\n",
              "    <tr>\n",
              "      <th>1</th>\n",
              "      <td>1</td>\n",
              "      <td>5</td>\n",
              "      <td>2</td>\n",
              "      <td>3</td>\n",
              "      <td>3</td>\n",
              "      <td>2</td>\n",
              "      <td>4</td>\n",
              "      <td>3.0</td>\n",
              "      <td>0</td>\n",
              "      <td>3</td>\n",
              "    </tr>\n",
              "    <tr>\n",
              "      <th>2</th>\n",
              "      <td>1</td>\n",
              "      <td>3</td>\n",
              "      <td>1</td>\n",
              "      <td>2</td>\n",
              "      <td>4</td>\n",
              "      <td>1</td>\n",
              "      <td>3</td>\n",
              "      <td>2.8</td>\n",
              "      <td>1</td>\n",
              "      <td>4</td>\n",
              "    </tr>\n",
              "    <tr>\n",
              "      <th>3</th>\n",
              "      <td>2</td>\n",
              "      <td>1</td>\n",
              "      <td>2</td>\n",
              "      <td>1</td>\n",
              "      <td>3</td>\n",
              "      <td>5</td>\n",
              "      <td>4</td>\n",
              "      <td>2.6</td>\n",
              "      <td>1</td>\n",
              "      <td>1</td>\n",
              "    </tr>\n",
              "    <tr>\n",
              "      <th>4</th>\n",
              "      <td>1</td>\n",
              "      <td>1</td>\n",
              "      <td>1</td>\n",
              "      <td>2</td>\n",
              "      <td>4</td>\n",
              "      <td>4</td>\n",
              "      <td>3</td>\n",
              "      <td>2.4</td>\n",
              "      <td>1</td>\n",
              "      <td>1</td>\n",
              "    </tr>\n",
              "  </tbody>\n",
              "</table>\n",
              "</div>"
            ],
            "text/plain": [
              "   gender  region  edu  income  ...  score_progress  score_intention  vote  parties\n",
              "0       1       4    3       3  ...               2              4.0     1        2\n",
              "1       1       5    2       3  ...               4              3.0     0        3\n",
              "2       1       3    1       2  ...               3              2.8     1        4\n",
              "3       2       1    2       1  ...               4              2.6     1        1\n",
              "4       1       1    1       2  ...               3              2.4     1        1\n",
              "\n",
              "[5 rows x 10 columns]"
            ]
          },
          "metadata": {},
          "execution_count": 4
        }
      ]
    },
    {
      "cell_type": "code",
      "metadata": {
        "colab": {
          "base_uri": "https://localhost:8080/"
        },
        "id": "Tu3MlX_lafDD",
        "outputId": "170674c7-9783-4b8f-8a42-b3c4cf7037b4"
      },
      "source": [
        "data.info()"
      ],
      "execution_count": null,
      "outputs": [
        {
          "output_type": "stream",
          "name": "stdout",
          "text": [
            "<class 'pandas.core.frame.DataFrame'>\n",
            "RangeIndex: 211 entries, 0 to 210\n",
            "Data columns (total 10 columns):\n",
            " #   Column           Non-Null Count  Dtype  \n",
            "---  ------           --------------  -----  \n",
            " 0   gender           211 non-null    int64  \n",
            " 1   region           211 non-null    int64  \n",
            " 2   edu              211 non-null    int64  \n",
            " 3   income           211 non-null    int64  \n",
            " 4   age              211 non-null    int64  \n",
            " 5   score_gov        211 non-null    int64  \n",
            " 6   score_progress   211 non-null    int64  \n",
            " 7   score_intention  211 non-null    float64\n",
            " 8   vote             211 non-null    int64  \n",
            " 9   parties          211 non-null    int64  \n",
            "dtypes: float64(1), int64(9)\n",
            "memory usage: 16.6 KB\n"
          ]
        }
      ]
    },
    {
      "cell_type": "code",
      "metadata": {
        "colab": {
          "base_uri": "https://localhost:8080/",
          "height": 297
        },
        "id": "luQIC0axaph9",
        "outputId": "9b769440-101c-4ff6-c683-75bb43f8c96a"
      },
      "source": [
        "data.describe()"
      ],
      "execution_count": null,
      "outputs": [
        {
          "output_type": "execute_result",
          "data": {
            "text/html": [
              "<div>\n",
              "<style scoped>\n",
              "    .dataframe tbody tr th:only-of-type {\n",
              "        vertical-align: middle;\n",
              "    }\n",
              "\n",
              "    .dataframe tbody tr th {\n",
              "        vertical-align: top;\n",
              "    }\n",
              "\n",
              "    .dataframe thead th {\n",
              "        text-align: right;\n",
              "    }\n",
              "</style>\n",
              "<table border=\"1\" class=\"dataframe\">\n",
              "  <thead>\n",
              "    <tr style=\"text-align: right;\">\n",
              "      <th></th>\n",
              "      <th>gender</th>\n",
              "      <th>region</th>\n",
              "      <th>edu</th>\n",
              "      <th>income</th>\n",
              "      <th>age</th>\n",
              "      <th>score_gov</th>\n",
              "      <th>score_progress</th>\n",
              "      <th>score_intention</th>\n",
              "      <th>vote</th>\n",
              "      <th>parties</th>\n",
              "    </tr>\n",
              "  </thead>\n",
              "  <tbody>\n",
              "    <tr>\n",
              "      <th>count</th>\n",
              "      <td>211.000000</td>\n",
              "      <td>211.000000</td>\n",
              "      <td>211.000000</td>\n",
              "      <td>211.000000</td>\n",
              "      <td>211.000000</td>\n",
              "      <td>211.000000</td>\n",
              "      <td>211.000000</td>\n",
              "      <td>211.000000</td>\n",
              "      <td>211.000000</td>\n",
              "      <td>211.000000</td>\n",
              "    </tr>\n",
              "    <tr>\n",
              "      <th>mean</th>\n",
              "      <td>1.341232</td>\n",
              "      <td>2.052133</td>\n",
              "      <td>1.867299</td>\n",
              "      <td>2.208531</td>\n",
              "      <td>2.654028</td>\n",
              "      <td>3.056872</td>\n",
              "      <td>3.094787</td>\n",
              "      <td>2.910900</td>\n",
              "      <td>0.710900</td>\n",
              "      <td>2.668246</td>\n",
              "    </tr>\n",
              "    <tr>\n",
              "      <th>std</th>\n",
              "      <td>0.475251</td>\n",
              "      <td>1.448195</td>\n",
              "      <td>0.625963</td>\n",
              "      <td>1.066424</td>\n",
              "      <td>0.872173</td>\n",
              "      <td>0.944451</td>\n",
              "      <td>0.961408</td>\n",
              "      <td>0.725078</td>\n",
              "      <td>0.454422</td>\n",
              "      <td>1.220416</td>\n",
              "    </tr>\n",
              "    <tr>\n",
              "      <th>min</th>\n",
              "      <td>1.000000</td>\n",
              "      <td>1.000000</td>\n",
              "      <td>1.000000</td>\n",
              "      <td>1.000000</td>\n",
              "      <td>1.000000</td>\n",
              "      <td>1.000000</td>\n",
              "      <td>1.000000</td>\n",
              "      <td>1.000000</td>\n",
              "      <td>0.000000</td>\n",
              "      <td>1.000000</td>\n",
              "    </tr>\n",
              "    <tr>\n",
              "      <th>25%</th>\n",
              "      <td>1.000000</td>\n",
              "      <td>1.000000</td>\n",
              "      <td>1.000000</td>\n",
              "      <td>1.000000</td>\n",
              "      <td>2.000000</td>\n",
              "      <td>3.000000</td>\n",
              "      <td>2.000000</td>\n",
              "      <td>2.400000</td>\n",
              "      <td>0.000000</td>\n",
              "      <td>2.000000</td>\n",
              "    </tr>\n",
              "    <tr>\n",
              "      <th>50%</th>\n",
              "      <td>1.000000</td>\n",
              "      <td>1.000000</td>\n",
              "      <td>2.000000</td>\n",
              "      <td>2.000000</td>\n",
              "      <td>3.000000</td>\n",
              "      <td>3.000000</td>\n",
              "      <td>3.000000</td>\n",
              "      <td>3.000000</td>\n",
              "      <td>1.000000</td>\n",
              "      <td>3.000000</td>\n",
              "    </tr>\n",
              "    <tr>\n",
              "      <th>75%</th>\n",
              "      <td>2.000000</td>\n",
              "      <td>3.000000</td>\n",
              "      <td>2.000000</td>\n",
              "      <td>3.000000</td>\n",
              "      <td>3.000000</td>\n",
              "      <td>4.000000</td>\n",
              "      <td>4.000000</td>\n",
              "      <td>3.400000</td>\n",
              "      <td>1.000000</td>\n",
              "      <td>4.000000</td>\n",
              "    </tr>\n",
              "    <tr>\n",
              "      <th>max</th>\n",
              "      <td>2.000000</td>\n",
              "      <td>5.000000</td>\n",
              "      <td>3.000000</td>\n",
              "      <td>4.000000</td>\n",
              "      <td>4.000000</td>\n",
              "      <td>5.000000</td>\n",
              "      <td>5.000000</td>\n",
              "      <td>5.000000</td>\n",
              "      <td>1.000000</td>\n",
              "      <td>4.000000</td>\n",
              "    </tr>\n",
              "  </tbody>\n",
              "</table>\n",
              "</div>"
            ],
            "text/plain": [
              "           gender      region  ...        vote     parties\n",
              "count  211.000000  211.000000  ...  211.000000  211.000000\n",
              "mean     1.341232    2.052133  ...    0.710900    2.668246\n",
              "std      0.475251    1.448195  ...    0.454422    1.220416\n",
              "min      1.000000    1.000000  ...    0.000000    1.000000\n",
              "25%      1.000000    1.000000  ...    0.000000    2.000000\n",
              "50%      1.000000    1.000000  ...    1.000000    3.000000\n",
              "75%      2.000000    3.000000  ...    1.000000    4.000000\n",
              "max      2.000000    5.000000  ...    1.000000    4.000000\n",
              "\n",
              "[8 rows x 10 columns]"
            ]
          },
          "metadata": {},
          "execution_count": 6
        }
      ]
    },
    {
      "cell_type": "code",
      "metadata": {
        "colab": {
          "base_uri": "https://localhost:8080/"
        },
        "id": "FTn1PAiKas2r",
        "outputId": "65e99efc-210a-494a-b6d7-337172b124a1"
      },
      "source": [
        "data.columns[2:10]"
      ],
      "execution_count": null,
      "outputs": [
        {
          "output_type": "execute_result",
          "data": {
            "text/plain": [
              "Index(['edu', 'income', 'age', 'score_gov', 'score_progress',\n",
              "       'score_intention', 'vote', 'parties'],\n",
              "      dtype='object')"
            ]
          },
          "metadata": {},
          "execution_count": 17
        }
      ]
    },
    {
      "cell_type": "code",
      "metadata": {
        "id": "XkxvyLcWa7Q6"
      },
      "source": [
        "X1 = data[[\"gender\",\"region\"]]\n",
        "X2 = data[data.columns[0: 2]]\n",
        "XY = data[data.columns[2:10]]"
      ],
      "execution_count": null,
      "outputs": []
    },
    {
      "cell_type": "code",
      "metadata": {
        "colab": {
          "base_uri": "https://localhost:8080/"
        },
        "id": "BKSdDK6VbTKG",
        "outputId": "1fe109b9-5676-4ed6-b6a7-27578e653fed"
      },
      "source": [
        "X1['gender'] = X1['gender'].replace([1,2],['Male', 'Female'])\n",
        "X1['region'] = X1['region'].replace([1,2,3,4,5],['S', 'C', 'H', 'Y','O'])"
      ],
      "execution_count": null,
      "outputs": [
        {
          "output_type": "stream",
          "name": "stderr",
          "text": [
            "/usr/local/lib/python3.7/dist-packages/ipykernel_launcher.py:1: SettingWithCopyWarning: \n",
            "A value is trying to be set on a copy of a slice from a DataFrame.\n",
            "Try using .loc[row_indexer,col_indexer] = value instead\n",
            "\n",
            "See the caveats in the documentation: https://pandas.pydata.org/pandas-docs/stable/user_guide/indexing.html#returning-a-view-versus-a-copy\n",
            "  \"\"\"Entry point for launching an IPython kernel.\n",
            "/usr/local/lib/python3.7/dist-packages/ipykernel_launcher.py:2: SettingWithCopyWarning: \n",
            "A value is trying to be set on a copy of a slice from a DataFrame.\n",
            "Try using .loc[row_indexer,col_indexer] = value instead\n",
            "\n",
            "See the caveats in the documentation: https://pandas.pydata.org/pandas-docs/stable/user_guide/indexing.html#returning-a-view-versus-a-copy\n",
            "  \n"
          ]
        }
      ]
    },
    {
      "cell_type": "code",
      "metadata": {
        "colab": {
          "base_uri": "https://localhost:8080/",
          "height": 204
        },
        "id": "n-W4ldPccCbM",
        "outputId": "21bd89ae-2f27-404f-af5f-0b5380fabd97"
      },
      "source": [
        "X1.head()"
      ],
      "execution_count": null,
      "outputs": [
        {
          "output_type": "execute_result",
          "data": {
            "text/html": [
              "<div>\n",
              "<style scoped>\n",
              "    .dataframe tbody tr th:only-of-type {\n",
              "        vertical-align: middle;\n",
              "    }\n",
              "\n",
              "    .dataframe tbody tr th {\n",
              "        vertical-align: top;\n",
              "    }\n",
              "\n",
              "    .dataframe thead th {\n",
              "        text-align: right;\n",
              "    }\n",
              "</style>\n",
              "<table border=\"1\" class=\"dataframe\">\n",
              "  <thead>\n",
              "    <tr style=\"text-align: right;\">\n",
              "      <th></th>\n",
              "      <th>gender</th>\n",
              "      <th>region</th>\n",
              "    </tr>\n",
              "  </thead>\n",
              "  <tbody>\n",
              "    <tr>\n",
              "      <th>0</th>\n",
              "      <td>Male</td>\n",
              "      <td>Y</td>\n",
              "    </tr>\n",
              "    <tr>\n",
              "      <th>1</th>\n",
              "      <td>Male</td>\n",
              "      <td>O</td>\n",
              "    </tr>\n",
              "    <tr>\n",
              "      <th>2</th>\n",
              "      <td>Male</td>\n",
              "      <td>H</td>\n",
              "    </tr>\n",
              "    <tr>\n",
              "      <th>3</th>\n",
              "      <td>Female</td>\n",
              "      <td>S</td>\n",
              "    </tr>\n",
              "    <tr>\n",
              "      <th>4</th>\n",
              "      <td>Male</td>\n",
              "      <td>S</td>\n",
              "    </tr>\n",
              "  </tbody>\n",
              "</table>\n",
              "</div>"
            ],
            "text/plain": [
              "   gender region\n",
              "0    Male      Y\n",
              "1    Male      O\n",
              "2    Male      H\n",
              "3  Female      S\n",
              "4    Male      S"
            ]
          },
          "metadata": {},
          "execution_count": 28
        }
      ]
    },
    {
      "cell_type": "code",
      "metadata": {
        "id": "v6iQDE3_cpFk"
      },
      "source": [
        "X1_dum = pd.get_dummies(X1)"
      ],
      "execution_count": null,
      "outputs": []
    },
    {
      "cell_type": "code",
      "metadata": {
        "colab": {
          "base_uri": "https://localhost:8080/",
          "height": 419
        },
        "id": "wRG72dzZc0oi",
        "outputId": "04b42857-2ac9-47be-eb0d-b7e1c8394d01"
      },
      "source": [
        "X1_dum"
      ],
      "execution_count": null,
      "outputs": [
        {
          "output_type": "execute_result",
          "data": {
            "text/html": [
              "<div>\n",
              "<style scoped>\n",
              "    .dataframe tbody tr th:only-of-type {\n",
              "        vertical-align: middle;\n",
              "    }\n",
              "\n",
              "    .dataframe tbody tr th {\n",
              "        vertical-align: top;\n",
              "    }\n",
              "\n",
              "    .dataframe thead th {\n",
              "        text-align: right;\n",
              "    }\n",
              "</style>\n",
              "<table border=\"1\" class=\"dataframe\">\n",
              "  <thead>\n",
              "    <tr style=\"text-align: right;\">\n",
              "      <th></th>\n",
              "      <th>gender_Female</th>\n",
              "      <th>gender_Male</th>\n",
              "      <th>region_C</th>\n",
              "      <th>region_H</th>\n",
              "      <th>region_O</th>\n",
              "      <th>region_S</th>\n",
              "      <th>region_Y</th>\n",
              "    </tr>\n",
              "  </thead>\n",
              "  <tbody>\n",
              "    <tr>\n",
              "      <th>0</th>\n",
              "      <td>0</td>\n",
              "      <td>1</td>\n",
              "      <td>0</td>\n",
              "      <td>0</td>\n",
              "      <td>0</td>\n",
              "      <td>0</td>\n",
              "      <td>1</td>\n",
              "    </tr>\n",
              "    <tr>\n",
              "      <th>1</th>\n",
              "      <td>0</td>\n",
              "      <td>1</td>\n",
              "      <td>0</td>\n",
              "      <td>0</td>\n",
              "      <td>1</td>\n",
              "      <td>0</td>\n",
              "      <td>0</td>\n",
              "    </tr>\n",
              "    <tr>\n",
              "      <th>2</th>\n",
              "      <td>0</td>\n",
              "      <td>1</td>\n",
              "      <td>0</td>\n",
              "      <td>1</td>\n",
              "      <td>0</td>\n",
              "      <td>0</td>\n",
              "      <td>0</td>\n",
              "    </tr>\n",
              "    <tr>\n",
              "      <th>3</th>\n",
              "      <td>1</td>\n",
              "      <td>0</td>\n",
              "      <td>0</td>\n",
              "      <td>0</td>\n",
              "      <td>0</td>\n",
              "      <td>1</td>\n",
              "      <td>0</td>\n",
              "    </tr>\n",
              "    <tr>\n",
              "      <th>4</th>\n",
              "      <td>0</td>\n",
              "      <td>1</td>\n",
              "      <td>0</td>\n",
              "      <td>0</td>\n",
              "      <td>0</td>\n",
              "      <td>1</td>\n",
              "      <td>0</td>\n",
              "    </tr>\n",
              "    <tr>\n",
              "      <th>...</th>\n",
              "      <td>...</td>\n",
              "      <td>...</td>\n",
              "      <td>...</td>\n",
              "      <td>...</td>\n",
              "      <td>...</td>\n",
              "      <td>...</td>\n",
              "      <td>...</td>\n",
              "    </tr>\n",
              "    <tr>\n",
              "      <th>206</th>\n",
              "      <td>0</td>\n",
              "      <td>1</td>\n",
              "      <td>0</td>\n",
              "      <td>0</td>\n",
              "      <td>0</td>\n",
              "      <td>0</td>\n",
              "      <td>1</td>\n",
              "    </tr>\n",
              "    <tr>\n",
              "      <th>207</th>\n",
              "      <td>0</td>\n",
              "      <td>1</td>\n",
              "      <td>0</td>\n",
              "      <td>0</td>\n",
              "      <td>0</td>\n",
              "      <td>1</td>\n",
              "      <td>0</td>\n",
              "    </tr>\n",
              "    <tr>\n",
              "      <th>208</th>\n",
              "      <td>0</td>\n",
              "      <td>1</td>\n",
              "      <td>1</td>\n",
              "      <td>0</td>\n",
              "      <td>0</td>\n",
              "      <td>0</td>\n",
              "      <td>0</td>\n",
              "    </tr>\n",
              "    <tr>\n",
              "      <th>209</th>\n",
              "      <td>0</td>\n",
              "      <td>1</td>\n",
              "      <td>0</td>\n",
              "      <td>0</td>\n",
              "      <td>0</td>\n",
              "      <td>1</td>\n",
              "      <td>0</td>\n",
              "    </tr>\n",
              "    <tr>\n",
              "      <th>210</th>\n",
              "      <td>1</td>\n",
              "      <td>0</td>\n",
              "      <td>0</td>\n",
              "      <td>0</td>\n",
              "      <td>0</td>\n",
              "      <td>1</td>\n",
              "      <td>0</td>\n",
              "    </tr>\n",
              "  </tbody>\n",
              "</table>\n",
              "<p>211 rows × 7 columns</p>\n",
              "</div>"
            ],
            "text/plain": [
              "     gender_Female  gender_Male  region_C  ...  region_O  region_S  region_Y\n",
              "0                0            1         0  ...         0         0         1\n",
              "1                0            1         0  ...         1         0         0\n",
              "2                0            1         0  ...         0         0         0\n",
              "3                1            0         0  ...         0         1         0\n",
              "4                0            1         0  ...         0         1         0\n",
              "..             ...          ...       ...  ...       ...       ...       ...\n",
              "206              0            1         0  ...         0         0         1\n",
              "207              0            1         0  ...         0         1         0\n",
              "208              0            1         1  ...         0         0         0\n",
              "209              0            1         0  ...         0         1         0\n",
              "210              1            0         0  ...         0         1         0\n",
              "\n",
              "[211 rows x 7 columns]"
            ]
          },
          "metadata": {},
          "execution_count": 30
        }
      ]
    },
    {
      "cell_type": "code",
      "metadata": {
        "id": "u4lr2rvSc1qd"
      },
      "source": [
        "Fvote = pd.concat([X1_dum, XY], axis=1)"
      ],
      "execution_count": null,
      "outputs": []
    },
    {
      "cell_type": "code",
      "metadata": {
        "colab": {
          "base_uri": "https://localhost:8080/",
          "height": 224
        },
        "id": "Aor0c2HKdDeR",
        "outputId": "12417ec7-6b54-40b3-aeef-246fe9d33bf8"
      },
      "source": [
        "Fvote.head()"
      ],
      "execution_count": null,
      "outputs": [
        {
          "output_type": "execute_result",
          "data": {
            "text/html": [
              "<div>\n",
              "<style scoped>\n",
              "    .dataframe tbody tr th:only-of-type {\n",
              "        vertical-align: middle;\n",
              "    }\n",
              "\n",
              "    .dataframe tbody tr th {\n",
              "        vertical-align: top;\n",
              "    }\n",
              "\n",
              "    .dataframe thead th {\n",
              "        text-align: right;\n",
              "    }\n",
              "</style>\n",
              "<table border=\"1\" class=\"dataframe\">\n",
              "  <thead>\n",
              "    <tr style=\"text-align: right;\">\n",
              "      <th></th>\n",
              "      <th>gender_Female</th>\n",
              "      <th>gender_Male</th>\n",
              "      <th>region_C</th>\n",
              "      <th>region_H</th>\n",
              "      <th>region_O</th>\n",
              "      <th>region_S</th>\n",
              "      <th>region_Y</th>\n",
              "      <th>edu</th>\n",
              "      <th>income</th>\n",
              "      <th>age</th>\n",
              "      <th>score_gov</th>\n",
              "      <th>score_progress</th>\n",
              "      <th>score_intention</th>\n",
              "      <th>vote</th>\n",
              "      <th>parties</th>\n",
              "    </tr>\n",
              "  </thead>\n",
              "  <tbody>\n",
              "    <tr>\n",
              "      <th>0</th>\n",
              "      <td>0</td>\n",
              "      <td>1</td>\n",
              "      <td>0</td>\n",
              "      <td>0</td>\n",
              "      <td>0</td>\n",
              "      <td>0</td>\n",
              "      <td>1</td>\n",
              "      <td>3</td>\n",
              "      <td>3</td>\n",
              "      <td>3</td>\n",
              "      <td>2</td>\n",
              "      <td>2</td>\n",
              "      <td>4.0</td>\n",
              "      <td>1</td>\n",
              "      <td>2</td>\n",
              "    </tr>\n",
              "    <tr>\n",
              "      <th>1</th>\n",
              "      <td>0</td>\n",
              "      <td>1</td>\n",
              "      <td>0</td>\n",
              "      <td>0</td>\n",
              "      <td>1</td>\n",
              "      <td>0</td>\n",
              "      <td>0</td>\n",
              "      <td>2</td>\n",
              "      <td>3</td>\n",
              "      <td>3</td>\n",
              "      <td>2</td>\n",
              "      <td>4</td>\n",
              "      <td>3.0</td>\n",
              "      <td>0</td>\n",
              "      <td>3</td>\n",
              "    </tr>\n",
              "    <tr>\n",
              "      <th>2</th>\n",
              "      <td>0</td>\n",
              "      <td>1</td>\n",
              "      <td>0</td>\n",
              "      <td>1</td>\n",
              "      <td>0</td>\n",
              "      <td>0</td>\n",
              "      <td>0</td>\n",
              "      <td>1</td>\n",
              "      <td>2</td>\n",
              "      <td>4</td>\n",
              "      <td>1</td>\n",
              "      <td>3</td>\n",
              "      <td>2.8</td>\n",
              "      <td>1</td>\n",
              "      <td>4</td>\n",
              "    </tr>\n",
              "    <tr>\n",
              "      <th>3</th>\n",
              "      <td>1</td>\n",
              "      <td>0</td>\n",
              "      <td>0</td>\n",
              "      <td>0</td>\n",
              "      <td>0</td>\n",
              "      <td>1</td>\n",
              "      <td>0</td>\n",
              "      <td>2</td>\n",
              "      <td>1</td>\n",
              "      <td>3</td>\n",
              "      <td>5</td>\n",
              "      <td>4</td>\n",
              "      <td>2.6</td>\n",
              "      <td>1</td>\n",
              "      <td>1</td>\n",
              "    </tr>\n",
              "    <tr>\n",
              "      <th>4</th>\n",
              "      <td>0</td>\n",
              "      <td>1</td>\n",
              "      <td>0</td>\n",
              "      <td>0</td>\n",
              "      <td>0</td>\n",
              "      <td>1</td>\n",
              "      <td>0</td>\n",
              "      <td>1</td>\n",
              "      <td>2</td>\n",
              "      <td>4</td>\n",
              "      <td>4</td>\n",
              "      <td>3</td>\n",
              "      <td>2.4</td>\n",
              "      <td>1</td>\n",
              "      <td>1</td>\n",
              "    </tr>\n",
              "  </tbody>\n",
              "</table>\n",
              "</div>"
            ],
            "text/plain": [
              "   gender_Female  gender_Male  region_C  ...  score_intention  vote  parties\n",
              "0              0            1         0  ...              4.0     1        2\n",
              "1              0            1         0  ...              3.0     0        3\n",
              "2              0            1         0  ...              2.8     1        4\n",
              "3              1            0         0  ...              2.6     1        1\n",
              "4              0            1         0  ...              2.4     1        1\n",
              "\n",
              "[5 rows x 15 columns]"
            ]
          },
          "metadata": {},
          "execution_count": 32
        }
      ]
    },
    {
      "cell_type": "markdown",
      "metadata": {
        "id": "U5ubHcO2dL2L"
      },
      "source": [
        "#데이터셋 분할과 모델검증"
      ]
    },
    {
      "cell_type": "code",
      "metadata": {
        "id": "n_RUs9FrdFxC"
      },
      "source": [
        ""
      ],
      "execution_count": null,
      "outputs": []
    },
    {
      "cell_type": "markdown",
      "metadata": {
        "id": "FHP2w0zpgDEK"
      },
      "source": [
        "#7단원"
      ]
    },
    {
      "cell_type": "code",
      "metadata": {
        "id": "yHBjkt5PgFjQ"
      },
      "source": [
        "import warnings\n",
        "import pandas as pd\n",
        "data = pd.read_csv('Fvote.csv')\n",
        "warnings.filterwarnings(\"ignore\")"
      ],
      "execution_count": 76,
      "outputs": []
    },
    {
      "cell_type": "code",
      "metadata": {
        "id": "BkRUB_Nkg0ih"
      },
      "source": [
        "X = data[data.columns[0:13]]\n",
        "y= data['vote']"
      ],
      "execution_count": 77,
      "outputs": []
    },
    {
      "cell_type": "code",
      "metadata": {
        "id": "tQU18UrZg9Ww"
      },
      "source": [
        "from sklearn.model_selection import train_test_split\n",
        "X_train, X_test, y_train, y_test = train_test_split(X,y, stratify=y, random_state=42)"
      ],
      "execution_count": 78,
      "outputs": []
    },
    {
      "cell_type": "code",
      "metadata": {
        "id": "UoKvppEBg-Zj"
      },
      "source": [
        "from sklearn.model_selection import GridSearchCV\n",
        "param_grid ={'C':[0.001,0.01,0.1,1,10,100]}"
      ],
      "execution_count": 79,
      "outputs": []
    },
    {
      "cell_type": "code",
      "metadata": {
        "id": "-lfUBhM6hfvt"
      },
      "source": [
        "from sklearn.linear_model import LogisticRegression"
      ],
      "execution_count": 80,
      "outputs": []
    },
    {
      "cell_type": "code",
      "metadata": {
        "colab": {
          "base_uri": "https://localhost:8080/"
        },
        "id": "_kUxTWClh22Q",
        "outputId": "73f5cd43-238a-46db-a077-cc46b08b2429"
      },
      "source": [
        "grid_search = GridSearchCV(LogisticRegression(), param_grid, cv=5, return_train_score=True)\n",
        "grid_search.fit(X_train,y_train)"
      ],
      "execution_count": 81,
      "outputs": [
        {
          "output_type": "execute_result",
          "data": {
            "text/plain": [
              "GridSearchCV(cv=5, error_score=nan,\n",
              "             estimator=LogisticRegression(C=1.0, class_weight=None, dual=False,\n",
              "                                          fit_intercept=True,\n",
              "                                          intercept_scaling=1, l1_ratio=None,\n",
              "                                          max_iter=100, multi_class='auto',\n",
              "                                          n_jobs=None, penalty='l2',\n",
              "                                          random_state=None, solver='lbfgs',\n",
              "                                          tol=0.0001, verbose=0,\n",
              "                                          warm_start=False),\n",
              "             iid='deprecated', n_jobs=None,\n",
              "             param_grid={'C': [0.001, 0.01, 0.1, 1, 10, 100]},\n",
              "             pre_dispatch='2*n_jobs', refit=True, return_train_score=True,\n",
              "             scoring=None, verbose=0)"
            ]
          },
          "metadata": {},
          "execution_count": 81
        }
      ]
    },
    {
      "cell_type": "code",
      "metadata": {
        "colab": {
          "base_uri": "https://localhost:8080/"
        },
        "id": "Hkls-U8GiG9V",
        "outputId": "ba804778-83d4-47f2-ac83-e4dee12aed2b"
      },
      "source": [
        "print(grid_search.best_params_)\n",
        "print(grid_search.best_score_)\n",
        "print(grid_search.score(X_test, y_test))"
      ],
      "execution_count": 84,
      "outputs": [
        {
          "output_type": "stream",
          "name": "stdout",
          "text": [
            "{'C': 10}\n",
            "0.7274193548387096\n",
            "0.6792452830188679\n"
          ]
        }
      ]
    },
    {
      "cell_type": "code",
      "metadata": {
        "colab": {
          "base_uri": "https://localhost:8080/",
          "height": 302
        },
        "id": "fwj7h-p_ihDw",
        "outputId": "89f524cd-8973-4a29-e4ed-d2e1b4f1aa0b"
      },
      "source": [
        "result_grid = pd.DataFrame(grid_search.cv_results_)\n",
        "result_grid"
      ],
      "execution_count": 85,
      "outputs": [
        {
          "output_type": "execute_result",
          "data": {
            "text/html": [
              "<div>\n",
              "<style scoped>\n",
              "    .dataframe tbody tr th:only-of-type {\n",
              "        vertical-align: middle;\n",
              "    }\n",
              "\n",
              "    .dataframe tbody tr th {\n",
              "        vertical-align: top;\n",
              "    }\n",
              "\n",
              "    .dataframe thead th {\n",
              "        text-align: right;\n",
              "    }\n",
              "</style>\n",
              "<table border=\"1\" class=\"dataframe\">\n",
              "  <thead>\n",
              "    <tr style=\"text-align: right;\">\n",
              "      <th></th>\n",
              "      <th>mean_fit_time</th>\n",
              "      <th>std_fit_time</th>\n",
              "      <th>mean_score_time</th>\n",
              "      <th>std_score_time</th>\n",
              "      <th>param_C</th>\n",
              "      <th>params</th>\n",
              "      <th>split0_test_score</th>\n",
              "      <th>split1_test_score</th>\n",
              "      <th>split2_test_score</th>\n",
              "      <th>split3_test_score</th>\n",
              "      <th>split4_test_score</th>\n",
              "      <th>mean_test_score</th>\n",
              "      <th>std_test_score</th>\n",
              "      <th>rank_test_score</th>\n",
              "      <th>split0_train_score</th>\n",
              "      <th>split1_train_score</th>\n",
              "      <th>split2_train_score</th>\n",
              "      <th>split3_train_score</th>\n",
              "      <th>split4_train_score</th>\n",
              "      <th>mean_train_score</th>\n",
              "      <th>std_train_score</th>\n",
              "    </tr>\n",
              "  </thead>\n",
              "  <tbody>\n",
              "    <tr>\n",
              "      <th>0</th>\n",
              "      <td>0.005779</td>\n",
              "      <td>0.001666</td>\n",
              "      <td>0.001081</td>\n",
              "      <td>0.000103</td>\n",
              "      <td>0.001</td>\n",
              "      <td>{'C': 0.001}</td>\n",
              "      <td>0.68750</td>\n",
              "      <td>0.71875</td>\n",
              "      <td>0.71875</td>\n",
              "      <td>0.709677</td>\n",
              "      <td>0.709677</td>\n",
              "      <td>0.708871</td>\n",
              "      <td>0.011430</td>\n",
              "      <td>5</td>\n",
              "      <td>0.714286</td>\n",
              "      <td>0.706349</td>\n",
              "      <td>0.706349</td>\n",
              "      <td>0.708661</td>\n",
              "      <td>0.708661</td>\n",
              "      <td>0.708861</td>\n",
              "      <td>0.002903</td>\n",
              "    </tr>\n",
              "    <tr>\n",
              "      <th>1</th>\n",
              "      <td>0.005446</td>\n",
              "      <td>0.000244</td>\n",
              "      <td>0.001182</td>\n",
              "      <td>0.000113</td>\n",
              "      <td>0.01</td>\n",
              "      <td>{'C': 0.01}</td>\n",
              "      <td>0.68750</td>\n",
              "      <td>0.71875</td>\n",
              "      <td>0.71875</td>\n",
              "      <td>0.709677</td>\n",
              "      <td>0.709677</td>\n",
              "      <td>0.708871</td>\n",
              "      <td>0.011430</td>\n",
              "      <td>5</td>\n",
              "      <td>0.714286</td>\n",
              "      <td>0.706349</td>\n",
              "      <td>0.706349</td>\n",
              "      <td>0.708661</td>\n",
              "      <td>0.708661</td>\n",
              "      <td>0.708861</td>\n",
              "      <td>0.002903</td>\n",
              "    </tr>\n",
              "    <tr>\n",
              "      <th>2</th>\n",
              "      <td>0.010468</td>\n",
              "      <td>0.004322</td>\n",
              "      <td>0.001413</td>\n",
              "      <td>0.000171</td>\n",
              "      <td>0.1</td>\n",
              "      <td>{'C': 0.1}</td>\n",
              "      <td>0.71875</td>\n",
              "      <td>0.71875</td>\n",
              "      <td>0.71875</td>\n",
              "      <td>0.677419</td>\n",
              "      <td>0.774194</td>\n",
              "      <td>0.721573</td>\n",
              "      <td>0.030797</td>\n",
              "      <td>3</td>\n",
              "      <td>0.730159</td>\n",
              "      <td>0.738095</td>\n",
              "      <td>0.738095</td>\n",
              "      <td>0.740157</td>\n",
              "      <td>0.708661</td>\n",
              "      <td>0.731034</td>\n",
              "      <td>0.011698</td>\n",
              "    </tr>\n",
              "    <tr>\n",
              "      <th>3</th>\n",
              "      <td>0.019465</td>\n",
              "      <td>0.001170</td>\n",
              "      <td>0.001730</td>\n",
              "      <td>0.000250</td>\n",
              "      <td>1</td>\n",
              "      <td>{'C': 1}</td>\n",
              "      <td>0.71875</td>\n",
              "      <td>0.68750</td>\n",
              "      <td>0.81250</td>\n",
              "      <td>0.580645</td>\n",
              "      <td>0.806452</td>\n",
              "      <td>0.721169</td>\n",
              "      <td>0.085441</td>\n",
              "      <td>4</td>\n",
              "      <td>0.738095</td>\n",
              "      <td>0.785714</td>\n",
              "      <td>0.730159</td>\n",
              "      <td>0.763780</td>\n",
              "      <td>0.724409</td>\n",
              "      <td>0.748431</td>\n",
              "      <td>0.022993</td>\n",
              "    </tr>\n",
              "    <tr>\n",
              "      <th>4</th>\n",
              "      <td>0.017852</td>\n",
              "      <td>0.003461</td>\n",
              "      <td>0.001324</td>\n",
              "      <td>0.000174</td>\n",
              "      <td>10</td>\n",
              "      <td>{'C': 10}</td>\n",
              "      <td>0.75000</td>\n",
              "      <td>0.68750</td>\n",
              "      <td>0.81250</td>\n",
              "      <td>0.580645</td>\n",
              "      <td>0.806452</td>\n",
              "      <td>0.727419</td>\n",
              "      <td>0.086175</td>\n",
              "      <td>1</td>\n",
              "      <td>0.746032</td>\n",
              "      <td>0.769841</td>\n",
              "      <td>0.730159</td>\n",
              "      <td>0.779528</td>\n",
              "      <td>0.724409</td>\n",
              "      <td>0.749994</td>\n",
              "      <td>0.021586</td>\n",
              "    </tr>\n",
              "    <tr>\n",
              "      <th>5</th>\n",
              "      <td>0.021221</td>\n",
              "      <td>0.008474</td>\n",
              "      <td>0.001343</td>\n",
              "      <td>0.000149</td>\n",
              "      <td>100</td>\n",
              "      <td>{'C': 100}</td>\n",
              "      <td>0.75000</td>\n",
              "      <td>0.68750</td>\n",
              "      <td>0.81250</td>\n",
              "      <td>0.580645</td>\n",
              "      <td>0.806452</td>\n",
              "      <td>0.727419</td>\n",
              "      <td>0.086175</td>\n",
              "      <td>1</td>\n",
              "      <td>0.746032</td>\n",
              "      <td>0.769841</td>\n",
              "      <td>0.730159</td>\n",
              "      <td>0.771654</td>\n",
              "      <td>0.724409</td>\n",
              "      <td>0.748419</td>\n",
              "      <td>0.019567</td>\n",
              "    </tr>\n",
              "  </tbody>\n",
              "</table>\n",
              "</div>"
            ],
            "text/plain": [
              "   mean_fit_time  std_fit_time  ...  mean_train_score  std_train_score\n",
              "0       0.005779      0.001666  ...          0.708861         0.002903\n",
              "1       0.005446      0.000244  ...          0.708861         0.002903\n",
              "2       0.010468      0.004322  ...          0.731034         0.011698\n",
              "3       0.019465      0.001170  ...          0.748431         0.022993\n",
              "4       0.017852      0.003461  ...          0.749994         0.021586\n",
              "5       0.021221      0.008474  ...          0.748419         0.019567\n",
              "\n",
              "[6 rows x 21 columns]"
            ]
          },
          "metadata": {},
          "execution_count": 85
        }
      ]
    },
    {
      "cell_type": "code",
      "metadata": {
        "colab": {
          "base_uri": "https://localhost:8080/",
          "height": 282
        },
        "id": "hG0dgsBhizAs",
        "outputId": "7b2b506e-b41e-4687-e1ed-981c703dd1f5"
      },
      "source": [
        "import matplotlib.pyplot as plt\n",
        "plt.plot(result_grid['param_C'], result_grid['mean_train_score'], label='Train')\n",
        "plt.plot(result_grid['param_C'], result_grid['mean_test_score'], label='Test')\n",
        "plt.legend()"
      ],
      "execution_count": 86,
      "outputs": [
        {
          "output_type": "execute_result",
          "data": {
            "text/plain": [
              "<matplotlib.legend.Legend at 0x7f4704c2af90>"
            ]
          },
          "metadata": {},
          "execution_count": 86
        },
        {
          "output_type": "display_data",
          "data": {
            "image/png": "[encoded data removed]",
            "text/plain": [
              "<Figure size 432x288 with 1 Axes>"
            ]
          },
          "metadata": {
            "needs_background": "light"
          }
        }
      ]
    },
    {
      "cell_type": "code",
      "metadata": {
        "id": "SsWTvd1jjXgW"
      },
      "source": [
        "from sklearn.model_selection import RandomizedSearchCV\n",
        "from scipy.stats import randint\n",
        "param_distribs = {'C':randint(low=0.001, high=100)}"
      ],
      "execution_count": 87,
      "outputs": []
    },
    {
      "cell_type": "code",
      "metadata": {
        "colab": {
          "base_uri": "https://localhost:8080/"
        },
        "id": "dhAId1z3mM79",
        "outputId": "66f6d90b-30a6-4125-ccde-6fc3bef70f63"
      },
      "source": [
        "random_search = RandomizedSearchCV(LogisticRegression(), param_distribs, cv=5, n_iter=100, return_train_score=True)\n",
        "random_search.fit(X_train, y_train)"
      ],
      "execution_count": 88,
      "outputs": [
        {
          "output_type": "execute_result",
          "data": {
            "text/plain": [
              "RandomizedSearchCV(cv=5, error_score=nan,\n",
              "                   estimator=LogisticRegression(C=1.0, class_weight=None,\n",
              "                                                dual=False, fit_intercept=True,\n",
              "                                                intercept_scaling=1,\n",
              "                                                l1_ratio=None, max_iter=100,\n",
              "                                                multi_class='auto', n_jobs=None,\n",
              "                                                penalty='l2', random_state=None,\n",
              "                                                solver='lbfgs', tol=0.0001,\n",
              "                                                verbose=0, warm_start=False),\n",
              "                   iid='deprecated', n_iter=100, n_jobs=None,\n",
              "                   param_distributions={'C': <scipy.stats._distn_infrastructure.rv_frozen object at 0x7f4704c8e490>},\n",
              "                   pre_dispatch='2*n_jobs', random_state=None, refit=True,\n",
              "                   return_train_score=True, scoring=None, verbose=0)"
            ]
          },
          "metadata": {},
          "execution_count": 88
        }
      ]
    },
    {
      "cell_type": "code",
      "metadata": {
        "colab": {
          "base_uri": "https://localhost:8080/"
        },
        "id": "JouKlrKhnagK",
        "outputId": "42ac558b-f4c0-43d4-b378-6e93c27bdf2c"
      },
      "source": [
        "print(random_search.best_params_)\n",
        "print(random_search.best_score_)\n",
        "print(random_search.score(X_test, y_test))"
      ],
      "execution_count": 89,
      "outputs": [
        {
          "output_type": "stream",
          "name": "stdout",
          "text": [
            "{'C': 11}\n",
            "0.7274193548387096\n",
            "0.6792452830188679\n"
          ]
        }
      ]
    },
    {
      "cell_type": "code",
      "metadata": {
        "id": "twhrg21koaHy"
      },
      "source": [
        "result_random = random_search.cv_results_\n",
        "result_grid = pd.DataFrame(result_random)"
      ],
      "execution_count": 90,
      "outputs": []
    },
    {
      "cell_type": "code",
      "metadata": {
        "colab": {
          "base_uri": "https://localhost:8080/",
          "height": 282
        },
        "id": "PtDcWGXvojnT",
        "outputId": "1f3afdd8-a8a7-49e4-d791-95dc6e26120c"
      },
      "source": [
        "plt.plot(result_grid['param_C'],result_grid['mean_train_score'] ,label='train')\n",
        "plt.plot(result_grid['param_C'],result_grid['mean_test_score'] ,label='test')\n",
        "plt.legend()"
      ],
      "execution_count": 91,
      "outputs": [
        {
          "output_type": "execute_result",
          "data": {
            "text/plain": [
              "<matplotlib.legend.Legend at 0x7f4704bf99d0>"
            ]
          },
          "metadata": {},
          "execution_count": 91
        },
        {
          "output_type": "display_data",
          "data": {
            "image/png": "[encoded data removed]",
            "text/plain": [
              "<Figure size 432x288 with 1 Axes>"
            ]
          },
          "metadata": {
            "needs_background": "light"
          }
        }
      ]
    },
    {
      "cell_type": "markdown",
      "metadata": {
        "id": "7kMIZu_3p0NE"
      },
      "source": [
        "이거 뭔가 많이 이상하네!!!"
      ]
    },
    {
      "cell_type": "code",
      "metadata": {
        "id": "MHxtfb0npFrk",
        "colab": {
          "base_uri": "https://localhost:8080/"
        },
        "outputId": "31903028-d250-4aa4-c9c9-c8840657ad16"
      },
      "source": [
        "Final_model = LogisticRegression(C=10)\n",
        "Final_model.fit(X_train, y_train)"
      ],
      "execution_count": 92,
      "outputs": [
        {
          "output_type": "execute_result",
          "data": {
            "text/plain": [
              "LogisticRegression(C=10, class_weight=None, dual=False, fit_intercept=True,\n",
              "                   intercept_scaling=1, l1_ratio=None, max_iter=100,\n",
              "                   multi_class='auto', n_jobs=None, penalty='l2',\n",
              "                   random_state=None, solver='lbfgs', tol=0.0001, verbose=0,\n",
              "                   warm_start=False)"
            ]
          },
          "metadata": {},
          "execution_count": 92
        }
      ]
    },
    {
      "cell_type": "code",
      "metadata": {
        "colab": {
          "base_uri": "https://localhost:8080/"
        },
        "id": "gHzKOVgU4scQ",
        "outputId": "8fafa04d-144c-46cb-d8e6-cab6901ac678"
      },
      "source": [
        "pred_train = Final_model.predict(X_train)\n",
        "Final_model.score(X_train, y_train)"
      ],
      "execution_count": 93,
      "outputs": [
        {
          "output_type": "execute_result",
          "data": {
            "text/plain": [
              "0.740506329113924"
            ]
          },
          "metadata": {},
          "execution_count": 93
        }
      ]
    },
    {
      "cell_type": "code",
      "metadata": {
        "colab": {
          "base_uri": "https://localhost:8080/"
        },
        "id": "wTLZ2yw543hk",
        "outputId": "21ed9301-ec38-4c5b-e79b-10e9a5091a15"
      },
      "source": [
        "pred_test = Final_model.predict(X_test)\n",
        "Final_model.score(X_test, y_test)"
      ],
      "execution_count": 94,
      "outputs": [
        {
          "output_type": "execute_result",
          "data": {
            "text/plain": [
              "0.6792452830188679"
            ]
          },
          "metadata": {},
          "execution_count": 94
        }
      ]
    },
    {
      "cell_type": "code",
      "metadata": {
        "id": "JtJGLujv4-n1"
      },
      "source": [
        "from sklearn.metrics import confusion_matrix\n",
        "from sklearn.metrics import classification_report"
      ],
      "execution_count": 95,
      "outputs": []
    },
    {
      "cell_type": "code",
      "metadata": {
        "colab": {
          "base_uri": "https://localhost:8080/"
        },
        "id": "AZ0Yioj45VEk",
        "outputId": "e737843f-2ecb-4589-aff5-7a7bff8e6aa0"
      },
      "source": [
        "cm_train = confusion_matrix(y_train, pred_train)\n",
        "print(cm_train)\n",
        "cr_train = classification_report(y_train, pred_train)\n",
        "print(cr_train)"
      ],
      "execution_count": 96,
      "outputs": [
        {
          "output_type": "stream",
          "name": "stdout",
          "text": [
            "[[ 12  34]\n",
            " [  7 105]]\n",
            "              precision    recall  f1-score   support\n",
            "\n",
            "           0       0.63      0.26      0.37        46\n",
            "           1       0.76      0.94      0.84       112\n",
            "\n",
            "    accuracy                           0.74       158\n",
            "   macro avg       0.69      0.60      0.60       158\n",
            "weighted avg       0.72      0.74      0.70       158\n",
            "\n"
          ]
        }
      ]
    },
    {
      "cell_type": "code",
      "metadata": {
        "colab": {
          "base_uri": "https://localhost:8080/"
        },
        "id": "tuU8K9K05GIc",
        "outputId": "9f40a02c-aa42-4058-a695-aa16cd6b81d4"
      },
      "source": [
        "cm_test = confusion_matrix(y_test, pred_test)\n",
        "print(cm_test)\n",
        "cr_test = classification_report(y_test, pred_test)\n",
        "print(cr_test)"
      ],
      "execution_count": 97,
      "outputs": [
        {
          "output_type": "stream",
          "name": "stdout",
          "text": [
            "[[ 3 12]\n",
            " [ 5 33]]\n",
            "              precision    recall  f1-score   support\n",
            "\n",
            "           0       0.38      0.20      0.26        15\n",
            "           1       0.73      0.87      0.80        38\n",
            "\n",
            "    accuracy                           0.68        53\n",
            "   macro avg       0.55      0.53      0.53        53\n",
            "weighted avg       0.63      0.68      0.64        53\n",
            "\n"
          ]
        }
      ]
    },
    {
      "cell_type": "code",
      "metadata": {
        "colab": {
          "base_uri": "https://localhost:8080/"
        },
        "id": "W37osQqm5QJY",
        "outputId": "9a675094-05ee-4cb9-8863-33adbd419ece"
      },
      "source": [
        "from sklearn.metrics import auc, roc_curve\n",
        "from sklearn import metrics\n",
        "\n",
        "false_positive_rate, true_positive_rate, threshold = roc_curve(y_test, Final_model.decision_function(X_test))\n",
        "roc_auc = metrics.roc_auc_score(y_test,Final_model.decision_function(X_test))\n",
        "roc_auc"
      ],
      "execution_count": 98,
      "outputs": [
        {
          "output_type": "execute_result",
          "data": {
            "text/plain": [
              "0.6350877192982456"
            ]
          },
          "metadata": {},
          "execution_count": 98
        }
      ]
    },
    {
      "cell_type": "code",
      "metadata": {
        "colab": {
          "base_uri": "https://localhost:8080/",
          "height": 282
        },
        "id": "l0mnV3iD5_aJ",
        "outputId": "767bd076-a3b9-45e1-8833-8b21a2c6ce3d"
      },
      "source": [
        "plt.plot(false_positive_rate, true_positive_rate, 'b')\n",
        "plt.plot([0,1],[1,1], 'y--')\n",
        "plt.plot([0,1],[0,1], 'r--')"
      ],
      "execution_count": 99,
      "outputs": [
        {
          "output_type": "execute_result",
          "data": {
            "text/plain": [
              "[<matplotlib.lines.Line2D at 0x7f4704ae23d0>]"
            ]
          },
          "metadata": {},
          "execution_count": 99
        },
        {
          "output_type": "display_data",
          "data": {
            "image/png": "[encoded data removed]",
            "text/plain": [
              "<Figure size 432x288 with 1 Axes>"
            ]
          },
          "metadata": {
            "needs_background": "light"
          }
        }
      ]
    },
    {
      "cell_type": "markdown",
      "metadata": {
        "id": "01J-fyds7WJZ"
      },
      "source": [
        "#8단원"
      ]
    },
    {
      "cell_type": "markdown",
      "metadata": {
        "id": "zAkMfYcI8ND0"
      },
      "source": [
        "파일 불러오기\n",
        "특성치와 레이블 분류\n",
        "훈련/테스트 데이터 분류 / 층화\n",
        "로지스틱회귀 분선\n",
        "예측치 저장\n",
        "오차행렬 분석\n",
        "그리드 /랜덤 탐색 0.001 100\n",
        "\n"
      ]
    },
    {
      "cell_type": "code",
      "metadata": {
        "id": "MQzeKbTq7PuC"
      },
      "source": [
        ""
      ],
      "execution_count": null,
      "outputs": []
    }
  ]
}