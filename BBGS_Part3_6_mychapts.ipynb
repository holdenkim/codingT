{
  "nbformat": 4,
  "nbformat_minor": 0,
  "metadata": {
    "colab": {
      "name": "BBGS_Part3_6_mychapts.ipynb",
      "provenance": [],
      "collapsed_sections": [],
      "authorship_tag": "ABX9TyMgBFhe3FJQaRhu4gvty3Lb",
      "include_colab_link": true
    },
    "kernelspec": {
      "name": "python3",
      "display_name": "Python 3"
    },
    "language_info": {
      "name": "python"
    }
  },
  "cells": [
    {
      "cell_type": "markdown",
      "metadata": {
        "id": "view-in-github",
        "colab_type": "text"
      },
      "source": [
        "<a href=\"https://colab.research.google.com/github/holdenkim/codingT/blob/main/BBGS_Part3_6_mychapts.ipynb\" target=\"_parent\"><img src=\"https://colab.research.google.com/assets/colab-badge.svg\" alt=\"Open In Colab\"/></a>"
      ]
    },
    {
      "cell_type": "code",
      "metadata": {
        "id": "-wTE0vB7iFcZ"
      },
      "source": [
        "import warnings\n",
        "warnings.filterwarnings(\"ignore\")\n",
        "import pandas as pd\n",
        "data = pd.read_csv('Fvote.csv')"
      ],
      "execution_count": 27,
      "outputs": []
    },
    {
      "cell_type": "code",
      "metadata": {
        "id": "MxgF7dZNikHW",
        "colab": {
          "base_uri": "https://localhost:8080/",
          "height": 111
        },
        "outputId": "d7d0fe77-332d-41c4-b4ea-6d448ee332e2"
      },
      "source": [
        "data.head(2)"
      ],
      "execution_count": 28,
      "outputs": [
        {
          "output_type": "execute_result",
          "data": {
            "text/html": [
              "<div>\n",
              "<style scoped>\n",
              "    .dataframe tbody tr th:only-of-type {\n",
              "        vertical-align: middle;\n",
              "    }\n",
              "\n",
              "    .dataframe tbody tr th {\n",
              "        vertical-align: top;\n",
              "    }\n",
              "\n",
              "    .dataframe thead th {\n",
              "        text-align: right;\n",
              "    }\n",
              "</style>\n",
              "<table border=\"1\" class=\"dataframe\">\n",
              "  <thead>\n",
              "    <tr style=\"text-align: right;\">\n",
              "      <th></th>\n",
              "      <th>gender_female</th>\n",
              "      <th>gender_male</th>\n",
              "      <th>region_Chungcheung</th>\n",
              "      <th>region_Honam</th>\n",
              "      <th>region_Others</th>\n",
              "      <th>region_Sudo</th>\n",
              "      <th>region_Youngnam</th>\n",
              "      <th>edu</th>\n",
              "      <th>income</th>\n",
              "      <th>age</th>\n",
              "      <th>score_gov</th>\n",
              "      <th>score_progress</th>\n",
              "      <th>score_intention</th>\n",
              "      <th>vote</th>\n",
              "      <th>parties</th>\n",
              "    </tr>\n",
              "  </thead>\n",
              "  <tbody>\n",
              "    <tr>\n",
              "      <th>0</th>\n",
              "      <td>0</td>\n",
              "      <td>1</td>\n",
              "      <td>0</td>\n",
              "      <td>0</td>\n",
              "      <td>0</td>\n",
              "      <td>0</td>\n",
              "      <td>1</td>\n",
              "      <td>3</td>\n",
              "      <td>3</td>\n",
              "      <td>3</td>\n",
              "      <td>2</td>\n",
              "      <td>2</td>\n",
              "      <td>4.0</td>\n",
              "      <td>1</td>\n",
              "      <td>2</td>\n",
              "    </tr>\n",
              "    <tr>\n",
              "      <th>1</th>\n",
              "      <td>0</td>\n",
              "      <td>1</td>\n",
              "      <td>0</td>\n",
              "      <td>0</td>\n",
              "      <td>1</td>\n",
              "      <td>0</td>\n",
              "      <td>0</td>\n",
              "      <td>2</td>\n",
              "      <td>3</td>\n",
              "      <td>3</td>\n",
              "      <td>2</td>\n",
              "      <td>4</td>\n",
              "      <td>3.0</td>\n",
              "      <td>0</td>\n",
              "      <td>3</td>\n",
              "    </tr>\n",
              "  </tbody>\n",
              "</table>\n",
              "</div>"
            ],
            "text/plain": [
              "   gender_female  gender_male  ...  vote  parties\n",
              "0              0            1  ...     1        2\n",
              "1              0            1  ...     0        3\n",
              "\n",
              "[2 rows x 15 columns]"
            ]
          },
          "metadata": {},
          "execution_count": 28
        }
      ]
    },
    {
      "cell_type": "code",
      "metadata": {
        "colab": {
          "base_uri": "https://localhost:8080/",
          "height": 913
        },
        "id": "Sn3p66PBso7b",
        "outputId": "38991420-89d7-460d-8e24-5d37c1331b6e"
      },
      "source": [
        "data.hist(figsize=(20,10))"
      ],
      "execution_count": 29,
      "outputs": [
        {
          "output_type": "execute_result",
          "data": {
            "text/plain": [
              "array([[<matplotlib.axes._subplots.AxesSubplot object at 0x7f54a1cc8710>,\n",
              "        <matplotlib.axes._subplots.AxesSubplot object at 0x7f54a1cbad50>,\n",
              "        <matplotlib.axes._subplots.AxesSubplot object at 0x7f54a1c79890>,\n",
              "        <matplotlib.axes._subplots.AxesSubplot object at 0x7f54a1ca4e10>],\n",
              "       [<matplotlib.axes._subplots.AxesSubplot object at 0x7f54a1c653d0>,\n",
              "        <matplotlib.axes._subplots.AxesSubplot object at 0x7f54a1c1a950>,\n",
              "        <matplotlib.axes._subplots.AxesSubplot object at 0x7f54a1bcfed0>,\n",
              "        <matplotlib.axes._subplots.AxesSubplot object at 0x7f54a1b91490>],\n",
              "       [<matplotlib.axes._subplots.AxesSubplot object at 0x7f54a1b9c910>,\n",
              "        <matplotlib.axes._subplots.AxesSubplot object at 0x7f54a1b52f90>,\n",
              "        <matplotlib.axes._subplots.AxesSubplot object at 0x7f54a1ac0550>,\n",
              "        <matplotlib.axes._subplots.AxesSubplot object at 0x7f54a1a73ad0>],\n",
              "       [<matplotlib.axes._subplots.AxesSubplot object at 0x7f54a1a36090>,\n",
              "        <matplotlib.axes._subplots.AxesSubplot object at 0x7f54a1a6c610>,\n",
              "        <matplotlib.axes._subplots.AxesSubplot object at 0x7f54a1a22b90>,\n",
              "        <matplotlib.axes._subplots.AxesSubplot object at 0x7f54a19e4150>]],\n",
              "      dtype=object)"
            ]
          },
          "metadata": {},
          "execution_count": 29
        },
        {
          "output_type": "display_data",
          "data": {
            "image/png": "[encoded data removed]",
            "text/plain": [
              "<Figure size 1440x720 with 16 Axes>"
            ]
          },
          "metadata": {
            "needs_background": "light"
          }
        }
      ]
    },
    {
      "cell_type": "code",
      "metadata": {
        "colab": {
          "base_uri": "https://localhost:8080/",
          "height": 534
        },
        "id": "FMV6y16euxEn",
        "outputId": "fd6ffab4-1c4f-4190-aaef-2650f0a50690"
      },
      "source": [
        "data.corr()"
      ],
      "execution_count": 30,
      "outputs": [
        {
          "output_type": "execute_result",
          "data": {
            "text/html": [
              "<div>\n",
              "<style scoped>\n",
              "    .dataframe tbody tr th:only-of-type {\n",
              "        vertical-align: middle;\n",
              "    }\n",
              "\n",
              "    .dataframe tbody tr th {\n",
              "        vertical-align: top;\n",
              "    }\n",
              "\n",
              "    .dataframe thead th {\n",
              "        text-align: right;\n",
              "    }\n",
              "</style>\n",
              "<table border=\"1\" class=\"dataframe\">\n",
              "  <thead>\n",
              "    <tr style=\"text-align: right;\">\n",
              "      <th></th>\n",
              "      <th>gender_female</th>\n",
              "      <th>gender_male</th>\n",
              "      <th>region_Chungcheung</th>\n",
              "      <th>region_Honam</th>\n",
              "      <th>region_Others</th>\n",
              "      <th>region_Sudo</th>\n",
              "      <th>region_Youngnam</th>\n",
              "      <th>edu</th>\n",
              "      <th>income</th>\n",
              "      <th>age</th>\n",
              "      <th>score_gov</th>\n",
              "      <th>score_progress</th>\n",
              "      <th>score_intention</th>\n",
              "      <th>vote</th>\n",
              "      <th>parties</th>\n",
              "    </tr>\n",
              "  </thead>\n",
              "  <tbody>\n",
              "    <tr>\n",
              "      <th>gender_female</th>\n",
              "      <td>1.000000</td>\n",
              "      <td>-1.000000</td>\n",
              "      <td>-0.139597</td>\n",
              "      <td>0.087881</td>\n",
              "      <td>-0.130517</td>\n",
              "      <td>0.101999</td>\n",
              "      <td>0.003027</td>\n",
              "      <td>-0.071159</td>\n",
              "      <td>-0.159860</td>\n",
              "      <td>-0.173359</td>\n",
              "      <td>0.052040</td>\n",
              "      <td>-0.029438</td>\n",
              "      <td>-0.052302</td>\n",
              "      <td>-0.158422</td>\n",
              "      <td>0.130428</td>\n",
              "    </tr>\n",
              "    <tr>\n",
              "      <th>gender_male</th>\n",
              "      <td>-1.000000</td>\n",
              "      <td>1.000000</td>\n",
              "      <td>0.139597</td>\n",
              "      <td>-0.087881</td>\n",
              "      <td>0.130517</td>\n",
              "      <td>-0.101999</td>\n",
              "      <td>-0.003027</td>\n",
              "      <td>0.071159</td>\n",
              "      <td>0.159860</td>\n",
              "      <td>0.173359</td>\n",
              "      <td>-0.052040</td>\n",
              "      <td>0.029438</td>\n",
              "      <td>0.052302</td>\n",
              "      <td>0.158422</td>\n",
              "      <td>-0.130428</td>\n",
              "    </tr>\n",
              "    <tr>\n",
              "      <th>region_Chungcheung</th>\n",
              "      <td>-0.139597</td>\n",
              "      <td>0.139597</td>\n",
              "      <td>1.000000</td>\n",
              "      <td>-0.093121</td>\n",
              "      <td>-0.095790</td>\n",
              "      <td>-0.360412</td>\n",
              "      <td>-0.118164</td>\n",
              "      <td>0.035020</td>\n",
              "      <td>0.056549</td>\n",
              "      <td>0.057667</td>\n",
              "      <td>0.074537</td>\n",
              "      <td>0.025211</td>\n",
              "      <td>0.007575</td>\n",
              "      <td>-0.003277</td>\n",
              "      <td>0.009151</td>\n",
              "    </tr>\n",
              "    <tr>\n",
              "      <th>region_Honam</th>\n",
              "      <td>0.087881</td>\n",
              "      <td>-0.087881</td>\n",
              "      <td>-0.093121</td>\n",
              "      <td>1.000000</td>\n",
              "      <td>-0.101795</td>\n",
              "      <td>-0.383003</td>\n",
              "      <td>-0.125571</td>\n",
              "      <td>-0.092229</td>\n",
              "      <td>0.156213</td>\n",
              "      <td>0.125082</td>\n",
              "      <td>0.068873</td>\n",
              "      <td>-0.065613</td>\n",
              "      <td>-0.007029</td>\n",
              "      <td>-0.018520</td>\n",
              "      <td>0.072118</td>\n",
              "    </tr>\n",
              "    <tr>\n",
              "      <th>region_Others</th>\n",
              "      <td>-0.130517</td>\n",
              "      <td>0.130517</td>\n",
              "      <td>-0.095790</td>\n",
              "      <td>-0.101795</td>\n",
              "      <td>1.000000</td>\n",
              "      <td>-0.393980</td>\n",
              "      <td>-0.129170</td>\n",
              "      <td>0.068763</td>\n",
              "      <td>0.103861</td>\n",
              "      <td>0.091477</td>\n",
              "      <td>0.014812</td>\n",
              "      <td>0.035497</td>\n",
              "      <td>0.111434</td>\n",
              "      <td>-0.007781</td>\n",
              "      <td>-0.111161</td>\n",
              "    </tr>\n",
              "    <tr>\n",
              "      <th>region_Sudo</th>\n",
              "      <td>0.101999</td>\n",
              "      <td>-0.101999</td>\n",
              "      <td>-0.360412</td>\n",
              "      <td>-0.383003</td>\n",
              "      <td>-0.393980</td>\n",
              "      <td>1.000000</td>\n",
              "      <td>-0.486003</td>\n",
              "      <td>-0.112641</td>\n",
              "      <td>-0.211395</td>\n",
              "      <td>-0.148897</td>\n",
              "      <td>0.029065</td>\n",
              "      <td>0.081170</td>\n",
              "      <td>-0.026362</td>\n",
              "      <td>0.030406</td>\n",
              "      <td>0.022230</td>\n",
              "    </tr>\n",
              "    <tr>\n",
              "      <th>region_Youngnam</th>\n",
              "      <td>0.003027</td>\n",
              "      <td>-0.003027</td>\n",
              "      <td>-0.118164</td>\n",
              "      <td>-0.125571</td>\n",
              "      <td>-0.129170</td>\n",
              "      <td>-0.486003</td>\n",
              "      <td>1.000000</td>\n",
              "      <td>0.150950</td>\n",
              "      <td>0.038201</td>\n",
              "      <td>-0.015295</td>\n",
              "      <td>-0.170183</td>\n",
              "      <td>-0.111205</td>\n",
              "      <td>-0.057393</td>\n",
              "      <td>-0.018707</td>\n",
              "      <td>-0.004286</td>\n",
              "    </tr>\n",
              "    <tr>\n",
              "      <th>edu</th>\n",
              "      <td>-0.071159</td>\n",
              "      <td>0.071159</td>\n",
              "      <td>0.035020</td>\n",
              "      <td>-0.092229</td>\n",
              "      <td>0.068763</td>\n",
              "      <td>-0.112641</td>\n",
              "      <td>0.150950</td>\n",
              "      <td>1.000000</td>\n",
              "      <td>0.384059</td>\n",
              "      <td>0.124840</td>\n",
              "      <td>0.133648</td>\n",
              "      <td>0.147603</td>\n",
              "      <td>0.122808</td>\n",
              "      <td>0.132338</td>\n",
              "      <td>-0.045436</td>\n",
              "    </tr>\n",
              "    <tr>\n",
              "      <th>income</th>\n",
              "      <td>-0.159860</td>\n",
              "      <td>0.159860</td>\n",
              "      <td>0.056549</td>\n",
              "      <td>0.156213</td>\n",
              "      <td>0.103861</td>\n",
              "      <td>-0.211395</td>\n",
              "      <td>0.038201</td>\n",
              "      <td>0.384059</td>\n",
              "      <td>1.000000</td>\n",
              "      <td>0.548953</td>\n",
              "      <td>0.002353</td>\n",
              "      <td>0.064231</td>\n",
              "      <td>-0.049757</td>\n",
              "      <td>0.154474</td>\n",
              "      <td>-0.041721</td>\n",
              "    </tr>\n",
              "    <tr>\n",
              "      <th>age</th>\n",
              "      <td>-0.173359</td>\n",
              "      <td>0.173359</td>\n",
              "      <td>0.057667</td>\n",
              "      <td>0.125082</td>\n",
              "      <td>0.091477</td>\n",
              "      <td>-0.148897</td>\n",
              "      <td>-0.015295</td>\n",
              "      <td>0.124840</td>\n",
              "      <td>0.548953</td>\n",
              "      <td>1.000000</td>\n",
              "      <td>-0.149428</td>\n",
              "      <td>-0.074284</td>\n",
              "      <td>-0.005303</td>\n",
              "      <td>0.251059</td>\n",
              "      <td>-0.054660</td>\n",
              "    </tr>\n",
              "    <tr>\n",
              "      <th>score_gov</th>\n",
              "      <td>0.052040</td>\n",
              "      <td>-0.052040</td>\n",
              "      <td>0.074537</td>\n",
              "      <td>0.068873</td>\n",
              "      <td>0.014812</td>\n",
              "      <td>0.029065</td>\n",
              "      <td>-0.170183</td>\n",
              "      <td>0.133648</td>\n",
              "      <td>0.002353</td>\n",
              "      <td>-0.149428</td>\n",
              "      <td>1.000000</td>\n",
              "      <td>0.334919</td>\n",
              "      <td>-0.045413</td>\n",
              "      <td>0.071778</td>\n",
              "      <td>-0.152939</td>\n",
              "    </tr>\n",
              "    <tr>\n",
              "      <th>score_progress</th>\n",
              "      <td>-0.029438</td>\n",
              "      <td>0.029438</td>\n",
              "      <td>0.025211</td>\n",
              "      <td>-0.065613</td>\n",
              "      <td>0.035497</td>\n",
              "      <td>0.081170</td>\n",
              "      <td>-0.111205</td>\n",
              "      <td>0.147603</td>\n",
              "      <td>0.064231</td>\n",
              "      <td>-0.074284</td>\n",
              "      <td>0.334919</td>\n",
              "      <td>1.000000</td>\n",
              "      <td>0.031300</td>\n",
              "      <td>0.008523</td>\n",
              "      <td>-0.033949</td>\n",
              "    </tr>\n",
              "    <tr>\n",
              "      <th>score_intention</th>\n",
              "      <td>-0.052302</td>\n",
              "      <td>0.052302</td>\n",
              "      <td>0.007575</td>\n",
              "      <td>-0.007029</td>\n",
              "      <td>0.111434</td>\n",
              "      <td>-0.026362</td>\n",
              "      <td>-0.057393</td>\n",
              "      <td>0.122808</td>\n",
              "      <td>-0.049757</td>\n",
              "      <td>-0.005303</td>\n",
              "      <td>-0.045413</td>\n",
              "      <td>0.031300</td>\n",
              "      <td>1.000000</td>\n",
              "      <td>0.138235</td>\n",
              "      <td>-0.052936</td>\n",
              "    </tr>\n",
              "    <tr>\n",
              "      <th>vote</th>\n",
              "      <td>-0.158422</td>\n",
              "      <td>0.158422</td>\n",
              "      <td>-0.003277</td>\n",
              "      <td>-0.018520</td>\n",
              "      <td>-0.007781</td>\n",
              "      <td>0.030406</td>\n",
              "      <td>-0.018707</td>\n",
              "      <td>0.132338</td>\n",
              "      <td>0.154474</td>\n",
              "      <td>0.251059</td>\n",
              "      <td>0.071778</td>\n",
              "      <td>0.008523</td>\n",
              "      <td>0.138235</td>\n",
              "      <td>1.000000</td>\n",
              "      <td>-0.113658</td>\n",
              "    </tr>\n",
              "    <tr>\n",
              "      <th>parties</th>\n",
              "      <td>0.130428</td>\n",
              "      <td>-0.130428</td>\n",
              "      <td>0.009151</td>\n",
              "      <td>0.072118</td>\n",
              "      <td>-0.111161</td>\n",
              "      <td>0.022230</td>\n",
              "      <td>-0.004286</td>\n",
              "      <td>-0.045436</td>\n",
              "      <td>-0.041721</td>\n",
              "      <td>-0.054660</td>\n",
              "      <td>-0.152939</td>\n",
              "      <td>-0.033949</td>\n",
              "      <td>-0.052936</td>\n",
              "      <td>-0.113658</td>\n",
              "      <td>1.000000</td>\n",
              "    </tr>\n",
              "  </tbody>\n",
              "</table>\n",
              "</div>"
            ],
            "text/plain": [
              "                    gender_female  gender_male  ...      vote   parties\n",
              "gender_female            1.000000    -1.000000  ... -0.158422  0.130428\n",
              "gender_male             -1.000000     1.000000  ...  0.158422 -0.130428\n",
              "region_Chungcheung      -0.139597     0.139597  ... -0.003277  0.009151\n",
              "region_Honam             0.087881    -0.087881  ... -0.018520  0.072118\n",
              "region_Others           -0.130517     0.130517  ... -0.007781 -0.111161\n",
              "region_Sudo              0.101999    -0.101999  ...  0.030406  0.022230\n",
              "region_Youngnam          0.003027    -0.003027  ... -0.018707 -0.004286\n",
              "edu                     -0.071159     0.071159  ...  0.132338 -0.045436\n",
              "income                  -0.159860     0.159860  ...  0.154474 -0.041721\n",
              "age                     -0.173359     0.173359  ...  0.251059 -0.054660\n",
              "score_gov                0.052040    -0.052040  ...  0.071778 -0.152939\n",
              "score_progress          -0.029438     0.029438  ...  0.008523 -0.033949\n",
              "score_intention         -0.052302     0.052302  ...  0.138235 -0.052936\n",
              "vote                    -0.158422     0.158422  ...  1.000000 -0.113658\n",
              "parties                  0.130428    -0.130428  ... -0.113658  1.000000\n",
              "\n",
              "[15 rows x 15 columns]"
            ]
          },
          "metadata": {},
          "execution_count": 30
        }
      ]
    },
    {
      "cell_type": "code",
      "metadata": {
        "id": "qSYE12maof8B"
      },
      "source": [
        "X = data[data.columns[0:13]]\n",
        "y = data['vote']"
      ],
      "execution_count": 5,
      "outputs": []
    },
    {
      "cell_type": "code",
      "metadata": {
        "id": "Xtlo_Fcyo8mu"
      },
      "source": [
        "#minmax scaling 진행"
      ],
      "execution_count": 6,
      "outputs": []
    },
    {
      "cell_type": "code",
      "metadata": {
        "id": "L6oEvFedonvn"
      },
      "source": [
        "from sklearn.preprocessing import MinMaxScaler\n",
        "mms = MinMaxScaler()"
      ],
      "execution_count": 7,
      "outputs": []
    },
    {
      "cell_type": "code",
      "metadata": {
        "colab": {
          "base_uri": "https://localhost:8080/"
        },
        "id": "lW_1BtcAD7_x",
        "outputId": "655f9726-50e8-419c-aa30-65dd86438ece"
      },
      "source": [
        "mms.fit(X)"
      ],
      "execution_count": 8,
      "outputs": [
        {
          "output_type": "execute_result",
          "data": {
            "text/plain": [
              "MinMaxScaler(copy=True, feature_range=(0, 1))"
            ]
          },
          "metadata": {},
          "execution_count": 8
        }
      ]
    },
    {
      "cell_type": "code",
      "metadata": {
        "id": "VZbGhLluEAod"
      },
      "source": [
        "X_Minmax_Scaled = mms.transform(X)"
      ],
      "execution_count": 9,
      "outputs": []
    },
    {
      "cell_type": "markdown",
      "metadata": {
        "id": "Lg9_toCHpAfR"
      },
      "source": [
        "standard scaling 진행"
      ]
    },
    {
      "cell_type": "code",
      "metadata": {
        "id": "ekJpY5oGpECW"
      },
      "source": [
        "from sklearn.preprocessing import StandardScaler\n",
        "ss = StandardScaler()"
      ],
      "execution_count": 10,
      "outputs": []
    },
    {
      "cell_type": "code",
      "metadata": {
        "colab": {
          "base_uri": "https://localhost:8080/"
        },
        "id": "g0N8jo0PEkdC",
        "outputId": "8abb1a10-7b75-4848-f28a-0d0f42de4d4a"
      },
      "source": [
        "ss.fit(X)"
      ],
      "execution_count": 11,
      "outputs": [
        {
          "output_type": "execute_result",
          "data": {
            "text/plain": [
              "StandardScaler(copy=True, with_mean=True, with_std=True)"
            ]
          },
          "metadata": {},
          "execution_count": 11
        }
      ]
    },
    {
      "cell_type": "code",
      "metadata": {
        "id": "27dKTeiXEmnM"
      },
      "source": [
        "X_standard_Scaled = (X)"
      ],
      "execution_count": 12,
      "outputs": []
    },
    {
      "cell_type": "code",
      "metadata": {
        "id": "xXsnZVUTEuCh"
      },
      "source": [
        "#train test 분리 그리고 분석"
      ],
      "execution_count": 13,
      "outputs": []
    },
    {
      "cell_type": "code",
      "metadata": {
        "id": "y-h07SNvExG9"
      },
      "source": [
        "from sklearn.model_selection import train_test_split\n",
        "X_mms_train, X_mms_test, y_mms_train, y_mms_test = train_test_split( X_Minmax_Scaled, y, random_state=42, stratify=y)\n",
        "X_std_train, X_std_test, y_std_train, y_std_test = train_test_split( X_standard_Scaled, y, random_state=42, stratify=y)"
      ],
      "execution_count": 14,
      "outputs": []
    },
    {
      "cell_type": "code",
      "metadata": {
        "id": "SBGFuXknESQu"
      },
      "source": [
        "from sklearn.linear_model import LogisticRegression\n",
        "model_mms = LogisticRegression()\n",
        "model_std = LogisticRegression()"
      ],
      "execution_count": 15,
      "outputs": []
    },
    {
      "cell_type": "code",
      "metadata": {
        "id": "dIqWQztwpMeP",
        "colab": {
          "base_uri": "https://localhost:8080/"
        },
        "outputId": "a1c4bfc3-ea89-4e25-bd2b-5f402aae779f"
      },
      "source": [
        "model_mms.fit(X_mms_train,y_mms_train)\n",
        "model_std.fit(X_std_train,y_std_train)"
      ],
      "execution_count": 16,
      "outputs": [
        {
          "output_type": "execute_result",
          "data": {
            "text/plain": [
              "LogisticRegression(C=1.0, class_weight=None, dual=False, fit_intercept=True,\n",
              "                   intercept_scaling=1, l1_ratio=None, max_iter=100,\n",
              "                   multi_class='auto', n_jobs=None, penalty='l2',\n",
              "                   random_state=None, solver='lbfgs', tol=0.0001, verbose=0,\n",
              "                   warm_start=False)"
            ]
          },
          "metadata": {},
          "execution_count": 16
        }
      ]
    },
    {
      "cell_type": "code",
      "metadata": {
        "id": "ceQmcbOdERJA"
      },
      "source": [
        "Pred_mms = model_mms.predict(X_mms_test)\n",
        "Pred_std = model_std.predict(X_std_test)"
      ],
      "execution_count": 17,
      "outputs": []
    },
    {
      "cell_type": "code",
      "metadata": {
        "id": "UpN7sTIzF9KL"
      },
      "source": [
        "Score_mms = model_mms.score(X_mms_test, y_mms_test)\n",
        "Score_std = model_std.score(X_std_test, y_std_test)"
      ],
      "execution_count": 18,
      "outputs": []
    },
    {
      "cell_type": "code",
      "metadata": {
        "colab": {
          "base_uri": "https://localhost:8080/"
        },
        "id": "BB8J--pEGhGs",
        "outputId": "c2af8770-c34d-46d3-8da8-3968c72934f9"
      },
      "source": [
        "print(Score_mms)\n",
        "print(Score_std)"
      ],
      "execution_count": 19,
      "outputs": [
        {
          "output_type": "stream",
          "name": "stdout",
          "text": [
            "0.7169811320754716\n",
            "0.6792452830188679\n"
          ]
        }
      ]
    },
    {
      "cell_type": "code",
      "metadata": {
        "id": "gVZZm8MyHGFZ"
      },
      "source": [
        "#혼동행렬 분석"
      ],
      "execution_count": 20,
      "outputs": []
    },
    {
      "cell_type": "code",
      "metadata": {
        "id": "DtO3u8d9GkgT"
      },
      "source": [
        "from sklearn.metrics import confusion_matrix"
      ],
      "execution_count": 21,
      "outputs": []
    },
    {
      "cell_type": "code",
      "metadata": {
        "colab": {
          "base_uri": "https://localhost:8080/"
        },
        "id": "bMnvXIbLNlTu",
        "outputId": "5593adf5-e73f-4818-e0ec-639733e8ac75"
      },
      "source": [
        "cm_mms = confusion_matrix(y_mms_test, Pred_mms)\n",
        "print(cm_mms)\n",
        "cm_std = confusion_matrix(y_std_test, Pred_std)\n",
        "print(cm_std)"
      ],
      "execution_count": 22,
      "outputs": [
        {
          "output_type": "stream",
          "name": "stdout",
          "text": [
            "[[ 2 13]\n",
            " [ 2 36]]\n",
            "[[ 3 12]\n",
            " [ 5 33]]\n"
          ]
        }
      ]
    },
    {
      "cell_type": "code",
      "metadata": {
        "id": "JW_E2oN5OIVj"
      },
      "source": [
        "#혼동행렬\n",
        "#TN FP\n",
        "#FN TP"
      ],
      "execution_count": 26,
      "outputs": []
    },
    {
      "cell_type": "markdown",
      "metadata": {
        "id": "CCOoqfLXthiF"
      },
      "source": [
        "![image.png](data:image/png;base64,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)"
      ]
    },
    {
      "cell_type": "code",
      "metadata": {
        "id": "7czvwsOysfKn"
      },
      "source": [
        ""
      ],
      "execution_count": null,
      "outputs": []
    }
  ]
}