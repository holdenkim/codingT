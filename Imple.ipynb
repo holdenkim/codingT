{
  "nbformat": 4,
  "nbformat_minor": 0,
  "metadata": {
    "colab": {
      "name": "Imple.ipynb",
      "provenance": [],
      "collapsed_sections": [],
      "authorship_tag": "ABX9TyPt50bef7dgEkQNRON5xuGv",
      "include_colab_link": true
    },
    "kernelspec": {
      "name": "python3",
      "display_name": "Python 3"
    },
    "language_info": {
      "name": "python"
    }
  },
  "cells": [
    {
      "cell_type": "markdown",
      "metadata": {
        "id": "view-in-github",
        "colab_type": "text"
      },
      "source": [
        "<a href=\"https://colab.research.google.com/github/holdenkim/codingT/blob/main/Imple.ipynb\" target=\"_parent\"><img src=\"https://colab.research.google.com/assets/colab-badge.svg\" alt=\"Open In Colab\"/></a>"
      ]
    },
    {
      "cell_type": "code",
      "metadata": {
        "colab": {
          "base_uri": "https://localhost:8080/"
        },
        "id": "OSZlUImGbxU8",
        "outputId": "9cb8b022-db6f-4883-a3f1-2710de59a2a3"
      },
      "source": [
        "#TripPlan\n",
        "\n",
        "n = int(input())\n",
        "Trip_Plan = list(input().split())\n",
        "x, y = 1, 1\n",
        "\n",
        "#print(n)\n",
        "#print(Trip_Plan)\n",
        "\n",
        "for str in Trip_Plan:\n",
        "  if str== 'U':\n",
        "    if x <=1:\n",
        "     x = x\n",
        "    else:\n",
        "     x = x -1      \n",
        "  elif str == 'D':\n",
        "    x = x +1\n",
        "  elif str == 'L':\n",
        "    if y <= 1:\n",
        "      y = y\n",
        "    else: \n",
        "      y = y -1\n",
        "  elif str == 'R':\n",
        "    y = y+1\n",
        "    \n",
        "print(x, y)"
      ],
      "execution_count": null,
      "outputs": [
        {
          "output_type": "stream",
          "text": [
            "5\n",
            "R R R U D D\n",
            "3 4\n"
          ],
          "name": "stdout"
        }
      ]
    },
    {
      "cell_type": "code",
      "metadata": {
        "id": "aGONAWh5b7Ae",
        "colab": {
          "base_uri": "https://localhost:8080/"
        },
        "outputId": "cb1325b7-2cdb-4e69-fd75-056969a03584"
      },
      "source": [
        "h = int(input())\n",
        "count = 0\n",
        "\n",
        "\n",
        "for i in range(h+1):\n",
        "  for j in range(60):\n",
        "    for k in range(60):\n",
        "      if \"3\" in str(i) + str(j) + str(k):\n",
        "        count += 1\n",
        "\n",
        "print (count)\n"
      ],
      "execution_count": null,
      "outputs": [
        {
          "output_type": "stream",
          "text": [
            "5\n",
            "11475\n"
          ],
          "name": "stdout"
        }
      ]
    },
    {
      "cell_type": "code",
      "metadata": {
        "id": "u661NqQUki3n",
        "colab": {
          "base_uri": "https://localhost:8080/"
        },
        "outputId": "dc554940-4317-421f-8b8f-94a42ebed5fe"
      },
      "source": [
        "input_data = input()\n",
        "\n",
        "Raw = int(input_data[1])\n",
        "Column = int(ord(input_data[0])) - int(ord('a')) + 1\n",
        "\n",
        "Result = 0\n",
        "Steps = [(-2,-1), (-1,-2), (2,1), (1,2), (-2,1), (-1,2), (1,-2), (2,-1)]\n",
        "\n",
        "for step in Steps:\n",
        "  #print(step)\n",
        "  #print(step[0])\n",
        "  Raw = Raw + step[0]\n",
        "  Column = Column + step[1]\n",
        "  if Raw <=8 and Raw >=0 and Column <=8 and Column >=0:\n",
        "    Result = Result+1\n",
        "\n",
        "print(Result)\n",
        "\n"
      ],
      "execution_count": null,
      "outputs": [
        {
          "output_type": "stream",
          "text": [
            "a1\n",
            "2\n"
          ],
          "name": "stdout"
        }
      ]
    },
    {
      "cell_type": "code",
      "metadata": {
        "id": "Ea_3O7OoS5Fs"
      },
      "source": [
        ""
      ],
      "execution_count": null,
      "outputs": []
    }
  ]
}