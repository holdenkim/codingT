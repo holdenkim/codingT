{
  "nbformat": 4,
  "nbformat_minor": 0,
  "metadata": {
    "colab": {
      "name": "BBGS_part4_456.ipynb",
      "provenance": [],
      "collapsed_sections": [],
      "authorship_tag": "ABX9TyPJMic57+e0yfD85ef/ly0K",
      "include_colab_link": true
    },
    "kernelspec": {
      "name": "python3",
      "display_name": "Python 3"
    },
    "language_info": {
      "name": "python"
    }
  },
  "cells": [
    {
      "cell_type": "markdown",
      "metadata": {
        "id": "view-in-github",
        "colab_type": "text"
      },
      "source": [
        "<a href=\"https://colab.research.google.com/github/holdenkim/codingT/blob/main/BBGS_part4_456.ipynb\" target=\"_parent\"><img src=\"https://colab.research.google.com/assets/colab-badge.svg\" alt=\"Open In Colab\"/></a>"
      ]
    },
    {
      "cell_type": "markdown",
      "metadata": {
        "id": "4mVYFqo5UaHO"
      },
      "source": [
        "#4.인공신경망"
      ]
    },
    {
      "cell_type": "code",
      "metadata": {
        "id": "E49PVKcPNng-"
      },
      "source": [
        "import warnings\n",
        "warnings.filterwarnings(action='ignore')\n",
        "import pandas as pd\n",
        "data = pd.read_csv('breast-cancer-wisconsin.csv')\n",
        "X = data[data.columns[1:10]]\n",
        "y = data['Class']\n",
        "from sklearn.model_selection import train_test_split\n",
        "X_train, X_test, y_train, y_test = train_test_split(X,y,random_state=42)\n",
        "from sklearn.preprocessing import MinMaxScaler\n",
        "mms = MinMaxScaler()\n",
        "mms.fit(X_train)\n",
        "X_scaled_train = mms.transform(X_train)\n",
        "X_scaled_test = mms.transform(X_test)"
      ],
      "execution_count": 4,
      "outputs": []
    },
    {
      "cell_type": "code",
      "metadata": {
        "id": "bKoMLgElR1kq"
      },
      "source": [
        "from sklearn.neural_network import MLPClassifier"
      ],
      "execution_count": 5,
      "outputs": []
    },
    {
      "cell_type": "code",
      "metadata": {
        "colab": {
          "base_uri": "https://localhost:8080/"
        },
        "id": "rPul03pZR9Gc",
        "outputId": "77b99e86-2559-4cc1-f613-c6b0b1b30164"
      },
      "source": [
        "mlp = MLPClassifier()\n",
        "mlp.fit(X_scaled_train, y_train)"
      ],
      "execution_count": 6,
      "outputs": [
        {
          "output_type": "execute_result",
          "data": {
            "text/plain": [
              "MLPClassifier(activation='relu', alpha=0.0001, batch_size='auto', beta_1=0.9,\n",
              "              beta_2=0.999, early_stopping=False, epsilon=1e-08,\n",
              "              hidden_layer_sizes=(100,), learning_rate='constant',\n",
              "              learning_rate_init=0.001, max_fun=15000, max_iter=200,\n",
              "              momentum=0.9, n_iter_no_change=10, nesterovs_momentum=True,\n",
              "              power_t=0.5, random_state=None, shuffle=True, solver='adam',\n",
              "              tol=0.0001, validation_fraction=0.1, verbose=False,\n",
              "              warm_start=False)"
            ]
          },
          "metadata": {},
          "execution_count": 6
        }
      ]
    },
    {
      "cell_type": "code",
      "metadata": {
        "id": "Xo3QdrCDSDEZ"
      },
      "source": [
        "pred_train = mlp.predict(X_scaled_train)\n",
        "pred_test = mlp.predict(X_scaled_test)"
      ],
      "execution_count": 7,
      "outputs": []
    },
    {
      "cell_type": "code",
      "metadata": {
        "colab": {
          "base_uri": "https://localhost:8080/"
        },
        "id": "Qv-qLnT-SLu_",
        "outputId": "6e1cdb43-3276-4859-ee1e-bfb6d184a450"
      },
      "source": [
        "print (mlp.score(X_scaled_train, y_train))\n",
        "print (mlp.score(X_scaled_test, y_test))"
      ],
      "execution_count": 8,
      "outputs": [
        {
          "output_type": "stream",
          "name": "stdout",
          "text": [
            "0.9765625\n",
            "0.9473684210526315\n"
          ]
        }
      ]
    },
    {
      "cell_type": "code",
      "metadata": {
        "id": "Qq0xtPgnSXUD"
      },
      "source": [
        "from sklearn.metrics import confusion_matrix"
      ],
      "execution_count": 9,
      "outputs": []
    },
    {
      "cell_type": "code",
      "metadata": {
        "id": "JyuPKAR6TagY"
      },
      "source": [
        "cm_train = confusion_matrix(y_train, pred_train)\n",
        "cm_test = confusion_matrix(y_test, pred_test)"
      ],
      "execution_count": 10,
      "outputs": []
    },
    {
      "cell_type": "code",
      "metadata": {
        "colab": {
          "base_uri": "https://localhost:8080/"
        },
        "id": "vUPTh0Q2TftS",
        "outputId": "c775179a-5fa5-4ffa-c69d-79852f54b60e"
      },
      "source": [
        "print(cm_train)\n",
        "print(cm_test)"
      ],
      "execution_count": 11,
      "outputs": [
        {
          "output_type": "stream",
          "name": "stdout",
          "text": [
            "[[334   7]\n",
            " [  5 166]]\n",
            "[[102   1]\n",
            " [  8  60]]\n"
          ]
        }
      ]
    },
    {
      "cell_type": "code",
      "metadata": {
        "id": "CV7QDt8OTgtQ"
      },
      "source": [
        "from sklearn.metrics import classification_report"
      ],
      "execution_count": 12,
      "outputs": []
    },
    {
      "cell_type": "code",
      "metadata": {
        "id": "GPmwugiWTsZG"
      },
      "source": [
        "cr_train = classification_report(y_train, pred_train)\n",
        "cr_test = classification_report(y_test, pred_test)"
      ],
      "execution_count": 13,
      "outputs": []
    },
    {
      "cell_type": "code",
      "metadata": {
        "colab": {
          "base_uri": "https://localhost:8080/"
        },
        "id": "lJP2jXHwT0Xq",
        "outputId": "c2234c98-a869-4b29-a68c-821640b3ce4c"
      },
      "source": [
        "print(cr_train)\n",
        "print(cr_test)"
      ],
      "execution_count": 14,
      "outputs": [
        {
          "output_type": "stream",
          "name": "stdout",
          "text": [
            "              precision    recall  f1-score   support\n",
            "\n",
            "           0       0.99      0.98      0.98       341\n",
            "           1       0.96      0.97      0.97       171\n",
            "\n",
            "    accuracy                           0.98       512\n",
            "   macro avg       0.97      0.98      0.97       512\n",
            "weighted avg       0.98      0.98      0.98       512\n",
            "\n",
            "              precision    recall  f1-score   support\n",
            "\n",
            "           0       0.93      0.99      0.96       103\n",
            "           1       0.98      0.88      0.93        68\n",
            "\n",
            "    accuracy                           0.95       171\n",
            "   macro avg       0.96      0.94      0.94       171\n",
            "weighted avg       0.95      0.95      0.95       171\n",
            "\n"
          ]
        }
      ]
    },
    {
      "cell_type": "code",
      "metadata": {
        "id": "R0-_iOniT1Xh"
      },
      "source": [
        "param_grid = {\n",
        "     \"hidden_layer_sizes\":[10,30,50,100],\n",
        "    \"solver\":['sgd','adam'],\n",
        "    \"activation\":['tanh','relu']\n",
        "}"
      ],
      "execution_count": 15,
      "outputs": []
    },
    {
      "cell_type": "code",
      "metadata": {
        "id": "QFoRI3b2gfYg"
      },
      "source": [
        "from sklearn.model_selection import GridSearchCV"
      ],
      "execution_count": 16,
      "outputs": []
    },
    {
      "cell_type": "code",
      "metadata": {
        "id": "0BTbnJmFglCs"
      },
      "source": [
        "gs = GridSearchCV(MLPClassifier(), param_grid, cv=5)"
      ],
      "execution_count": 17,
      "outputs": []
    },
    {
      "cell_type": "code",
      "metadata": {
        "colab": {
          "base_uri": "https://localhost:8080/"
        },
        "id": "Lu3Ef1Vpgtvo",
        "outputId": "054fa130-a369-419f-a8ea-8e1867d0a2c3"
      },
      "source": [
        "gs.fit(X_scaled_train, y_train)"
      ],
      "execution_count": 18,
      "outputs": [
        {
          "output_type": "execute_result",
          "data": {
            "text/plain": [
              "GridSearchCV(cv=5, error_score=nan,\n",
              "             estimator=MLPClassifier(activation='relu', alpha=0.0001,\n",
              "                                     batch_size='auto', beta_1=0.9,\n",
              "                                     beta_2=0.999, early_stopping=False,\n",
              "                                     epsilon=1e-08, hidden_layer_sizes=(100,),\n",
              "                                     learning_rate='constant',\n",
              "                                     learning_rate_init=0.001, max_fun=15000,\n",
              "                                     max_iter=200, momentum=0.9,\n",
              "                                     n_iter_no_change=10,\n",
              "                                     nesterovs_momentum=True, power_t=0.5,\n",
              "                                     random_state=None, shuffle=True,\n",
              "                                     solver='adam', tol=0.0001,\n",
              "                                     validation_fraction=0.1, verbose=False,\n",
              "                                     warm_start=False),\n",
              "             iid='deprecated', n_jobs=None,\n",
              "             param_grid={'activation': ['tanh', 'relu'],\n",
              "                         'hidden_layer_sizes': [10, 30, 50, 100],\n",
              "                         'solver': ['sgd', 'adam']},\n",
              "             pre_dispatch='2*n_jobs', refit=True, return_train_score=False,\n",
              "             scoring=None, verbose=0)"
            ]
          },
          "metadata": {},
          "execution_count": 18
        }
      ]
    },
    {
      "cell_type": "code",
      "metadata": {
        "colab": {
          "base_uri": "https://localhost:8080/"
        },
        "id": "_VZY9RhLgwaC",
        "outputId": "4bfe6ba4-9a27-406a-a084-5a1b63889eba"
      },
      "source": [
        "print(gs.best_params_)\n",
        "print(gs.best_score_)\n",
        "print(gs.score(X_scaled_test, y_test))"
      ],
      "execution_count": 19,
      "outputs": [
        {
          "output_type": "stream",
          "name": "stdout",
          "text": [
            "{'activation': 'tanh', 'hidden_layer_sizes': 50, 'solver': 'adam'}\n",
            "0.972663240053303\n",
            "0.9473684210526315\n"
          ]
        }
      ]
    },
    {
      "cell_type": "code",
      "metadata": {
        "id": "NP651JImhoC_"
      },
      "source": [
        "from scipy.stats import randint\n",
        "param_distribs = {\n",
        "    'hidden_layer_sizes': randint(low=10, high=100),\n",
        "    'solver':['sgd','adam'],\n",
        "    'activation':['tanh','relu']\n",
        "}"
      ],
      "execution_count": 20,
      "outputs": []
    },
    {
      "cell_type": "code",
      "metadata": {
        "id": "IA8rK2S1iPSn"
      },
      "source": [
        "from sklearn.model_selection import RandomizedSearchCV\n",
        "rs = RandomizedSearchCV(MLPClassifier(), param_distribs, cv=5)"
      ],
      "execution_count": 21,
      "outputs": []
    },
    {
      "cell_type": "code",
      "metadata": {
        "colab": {
          "base_uri": "https://localhost:8080/"
        },
        "id": "jhduKNQwieEL",
        "outputId": "7d3aecef-3011-4315-c799-54c547dda604"
      },
      "source": [
        "rs.fit(X_scaled_train, y_train)"
      ],
      "execution_count": 22,
      "outputs": [
        {
          "output_type": "execute_result",
          "data": {
            "text/plain": [
              "RandomizedSearchCV(cv=5, error_score=nan,\n",
              "                   estimator=MLPClassifier(activation='relu', alpha=0.0001,\n",
              "                                           batch_size='auto', beta_1=0.9,\n",
              "                                           beta_2=0.999, early_stopping=False,\n",
              "                                           epsilon=1e-08,\n",
              "                                           hidden_layer_sizes=(100,),\n",
              "                                           learning_rate='constant',\n",
              "                                           learning_rate_init=0.001,\n",
              "                                           max_fun=15000, max_iter=200,\n",
              "                                           momentum=0.9, n_iter_no_change=10,\n",
              "                                           nesterovs_momentum=True, power_t=0.5,\n",
              "                                           random...\n",
              "                                           validation_fraction=0.1,\n",
              "                                           verbose=False, warm_start=False),\n",
              "                   iid='deprecated', n_iter=10, n_jobs=None,\n",
              "                   param_distributions={'activation': ['tanh', 'relu'],\n",
              "                                        'hidden_layer_sizes': <scipy.stats._distn_infrastructure.rv_frozen object at 0x7fa698ae4690>,\n",
              "                                        'solver': ['sgd', 'adam']},\n",
              "                   pre_dispatch='2*n_jobs', random_state=None, refit=True,\n",
              "                   return_train_score=False, scoring=None, verbose=0)"
            ]
          },
          "metadata": {},
          "execution_count": 22
        }
      ]
    },
    {
      "cell_type": "code",
      "metadata": {
        "colab": {
          "base_uri": "https://localhost:8080/"
        },
        "id": "tRRCr3EUigbr",
        "outputId": "aafa347e-57ad-4576-b59a-6d62ea14696b"
      },
      "source": [
        "print(rs.best_params_)\n",
        "print(rs.best_score_)\n",
        "print(rs.score(X_scaled_test, y_test))"
      ],
      "execution_count": 23,
      "outputs": [
        {
          "output_type": "stream",
          "name": "stdout",
          "text": [
            "{'activation': 'tanh', 'hidden_layer_sizes': 59, 'solver': 'adam'}\n",
            "0.972663240053303\n",
            "0.9473684210526315\n"
          ]
        }
      ]
    },
    {
      "cell_type": "code",
      "metadata": {
        "id": "1cEV5_KtisSO"
      },
      "source": [
        "data = pd.read_csv('house_price.csv')\n",
        "X = data[data.columns[0:4]]\n",
        "y = data[\"house_value\"]\n",
        "X_train, X_test, y_train, y_test = train_test_split(X,y,random_state=42)\n",
        "mms = MinMaxScaler()\n",
        "mms.fit(X_train)\n",
        "X_scaled_train = mms.transform(X_train)\n",
        "X_scaled_test = mms.transform(X_test)"
      ],
      "execution_count": 24,
      "outputs": []
    },
    {
      "cell_type": "code",
      "metadata": {
        "id": "mdW4QBFOjh-d"
      },
      "source": [
        "from sklearn.neural_network import MLPRegressor"
      ],
      "execution_count": 25,
      "outputs": []
    },
    {
      "cell_type": "code",
      "metadata": {
        "id": "r-VluPWpj-pW"
      },
      "source": [
        "mlp = MLPRegressor()"
      ],
      "execution_count": 26,
      "outputs": []
    },
    {
      "cell_type": "code",
      "metadata": {
        "colab": {
          "base_uri": "https://localhost:8080/"
        },
        "id": "PwvAOEcLjprG",
        "outputId": "53582e44-bdd4-43ee-ee6d-2dd2d94f6426"
      },
      "source": [
        "mlp.fit(X_scaled_train, y_train)\n",
        "pred_train = mlp.predict(X_scaled_train)\n",
        "pred_test = mlp.predict(X_scaled_test)\n",
        "print(mlp.score(X_scaled_train, y_train))\n",
        "print(mlp.score(X_scaled_test, y_test))"
      ],
      "execution_count": 27,
      "outputs": [
        {
          "output_type": "stream",
          "name": "stdout",
          "text": [
            "-2.950434351770636\n",
            "-2.908433946209729\n"
          ]
        }
      ]
    },
    {
      "cell_type": "code",
      "metadata": {
        "id": "wcI126Yyj10d"
      },
      "source": [
        "import numpy as np\n",
        "from sklearn.metrics import mean_squared_error"
      ],
      "execution_count": 28,
      "outputs": []
    },
    {
      "cell_type": "code",
      "metadata": {
        "colab": {
          "base_uri": "https://localhost:8080/"
        },
        "id": "xzn_I9ckkG3h",
        "outputId": "791b0dfc-18ce-45fd-ae2a-df73c40ea9b1"
      },
      "source": [
        "MSE_train = mean_squared_error(y_train, pred_train)\n",
        "MSE_test = mean_squared_error(y_test, pred_test)\n",
        "print(np.sqrt(MSE_train))\n",
        "print(np.sqrt(MSE_test))"
      ],
      "execution_count": 29,
      "outputs": [
        {
          "output_type": "stream",
          "name": "stdout",
          "text": [
            "189702.6809237871\n",
            "189000.89564072806\n"
          ]
        }
      ]
    },
    {
      "cell_type": "code",
      "metadata": {
        "id": "KKhAFKRhkLcd"
      },
      "source": [
        "mlp = MLPRegressor(hidden_layer_sizes=(64,64,64), activation='relu', random_state=1, max_iter=2000)"
      ],
      "execution_count": 30,
      "outputs": []
    },
    {
      "cell_type": "code",
      "metadata": {
        "colab": {
          "base_uri": "https://localhost:8080/"
        },
        "id": "m5Pj4bLlktMU",
        "outputId": "772a7d63-52d0-4392-9fb3-7782bfd9a76a"
      },
      "source": [
        "mlp.fit(X_scaled_train, y_train)"
      ],
      "execution_count": 31,
      "outputs": [
        {
          "output_type": "execute_result",
          "data": {
            "text/plain": [
              "MLPRegressor(activation='relu', alpha=0.0001, batch_size='auto', beta_1=0.9,\n",
              "             beta_2=0.999, early_stopping=False, epsilon=1e-08,\n",
              "             hidden_layer_sizes=(64, 64, 64), learning_rate='constant',\n",
              "             learning_rate_init=0.001, max_fun=15000, max_iter=2000,\n",
              "             momentum=0.9, n_iter_no_change=10, nesterovs_momentum=True,\n",
              "             power_t=0.5, random_state=1, shuffle=True, solver='adam',\n",
              "             tol=0.0001, validation_fraction=0.1, verbose=False,\n",
              "             warm_start=False)"
            ]
          },
          "metadata": {},
          "execution_count": 31
        }
      ]
    },
    {
      "cell_type": "code",
      "metadata": {
        "colab": {
          "base_uri": "https://localhost:8080/"
        },
        "id": "Xh0Tga_1kv6s",
        "outputId": "b25f9e1b-ab89-48f0-82cd-f3bce6d04ba9"
      },
      "source": [
        "pred_train = mlp.predict(X_scaled_train)\n",
        "pred_test = mlp.predict(X_scaled_test)\n",
        "print(mlp.score(X_scaled_train, y_train))\n",
        "print(mlp.score(X_scaled_test, y_test))"
      ],
      "execution_count": 32,
      "outputs": [
        {
          "output_type": "stream",
          "name": "stdout",
          "text": [
            "0.5935001592636364\n",
            "0.6061518108236675\n"
          ]
        }
      ]
    },
    {
      "cell_type": "code",
      "metadata": {
        "colab": {
          "base_uri": "https://localhost:8080/"
        },
        "id": "A18wGa34lI_M",
        "outputId": "43b73d2c-8d5d-426e-89cc-3dd8e644e98c"
      },
      "source": [
        "MSE_train = mean_squared_error(y_train, pred_train)\n",
        "MSE_test = mean_squared_error(y_test, pred_test)\n",
        "print(np.sqrt(MSE_train))\n",
        "print(np.sqrt(MSE_test))"
      ],
      "execution_count": 33,
      "outputs": [
        {
          "output_type": "stream",
          "name": "stdout",
          "text": [
            "60852.89356437536\n",
            "59996.6360215003\n"
          ]
        }
      ]
    },
    {
      "cell_type": "code",
      "metadata": {
        "id": "DK300EuylLxx"
      },
      "source": [
        "#다층 퍼셉트론은 하이퍼파라메터가 매우 많고 모델에 대한 깊은 이해가 있어야 한다.기본 설정으로는 좋은 결과를 얻기 힘듬"
      ],
      "execution_count": 34,
      "outputs": []
    },
    {
      "cell_type": "markdown",
      "metadata": {
        "id": "ZljXEbVM2isp"
      },
      "source": [
        "#5. 서포트벡터머신"
      ]
    },
    {
      "cell_type": "code",
      "metadata": {
        "id": "Oyz-d6-cOlO0"
      },
      "source": [
        "import pandas as pd\n",
        "data = pd.read_csv('breast-cancer-wisconsin.csv')\n",
        "X = data[data.columns[1:10]]\n",
        "y = data['Class']\n",
        "from sklearn.model_selection import train_test_split\n",
        "X_train, X_test, y_train, y_test = train_test_split(X,y,random_state=42)\n",
        "from sklearn.preprocessing import MinMaxScaler\n",
        "mms = MinMaxScaler()\n",
        "mms.fit(X_train)\n",
        "X_scaled_train = mms.transform(X_train)\n",
        "X_scaled_test = mms.transform(X_test)"
      ],
      "execution_count": 35,
      "outputs": []
    },
    {
      "cell_type": "code",
      "metadata": {
        "id": "hL_sNf32ll-h",
        "colab": {
          "base_uri": "https://localhost:8080/"
        },
        "outputId": "4bdf0bf7-49b5-4b4e-ba52-9cd6136a6139"
      },
      "source": [
        "from sklearn.svm import SVC\n",
        "model=SVC()\n",
        "model.fit(X_scaled_train, y_train)"
      ],
      "execution_count": 36,
      "outputs": [
        {
          "output_type": "execute_result",
          "data": {
            "text/plain": [
              "SVC(C=1.0, break_ties=False, cache_size=200, class_weight=None, coef0=0.0,\n",
              "    decision_function_shape='ovr', degree=3, gamma='scale', kernel='rbf',\n",
              "    max_iter=-1, probability=False, random_state=None, shrinking=True,\n",
              "    tol=0.001, verbose=False)"
            ]
          },
          "metadata": {},
          "execution_count": 36
        }
      ]
    },
    {
      "cell_type": "code",
      "metadata": {
        "colab": {
          "base_uri": "https://localhost:8080/"
        },
        "id": "8tBQDoDJMgEO",
        "outputId": "531b4dfd-de35-4d68-c520-9e7e16fadb73"
      },
      "source": [
        "pred_train = model.predict(X_scaled_train)\n",
        "pred_test = model.predict(X_scaled_test)\n",
        "print(model.score(X_scaled_train, y_train))\n",
        "print(model.score(X_scaled_test, y_test))"
      ],
      "execution_count": 37,
      "outputs": [
        {
          "output_type": "stream",
          "name": "stdout",
          "text": [
            "0.978515625\n",
            "0.9473684210526315\n"
          ]
        }
      ]
    },
    {
      "cell_type": "code",
      "metadata": {
        "colab": {
          "base_uri": "https://localhost:8080/"
        },
        "id": "aOz3CC4PMvdZ",
        "outputId": "1ed177cb-b09d-4cb5-9df1-f3fe4beda467"
      },
      "source": [
        "from sklearn.metrics import confusion_matrix\n",
        "cm_train = confusion_matrix(y_train, pred_train)\n",
        "cm_test = confusion_matrix(y_test, pred_test)\n",
        "print(cm_test)\n",
        "\n",
        "from sklearn.metrics import classification_report\n",
        "cr_train = classification_report(y_train, pred_train)\n",
        "cr_test = classification_report(y_test, pred_test)\n",
        "print(cr_test)"
      ],
      "execution_count": 38,
      "outputs": [
        {
          "output_type": "stream",
          "name": "stdout",
          "text": [
            "[[101   2]\n",
            " [  7  61]]\n",
            "              precision    recall  f1-score   support\n",
            "\n",
            "           0       0.94      0.98      0.96       103\n",
            "           1       0.97      0.90      0.93        68\n",
            "\n",
            "    accuracy                           0.95       171\n",
            "   macro avg       0.95      0.94      0.94       171\n",
            "weighted avg       0.95      0.95      0.95       171\n",
            "\n"
          ]
        }
      ]
    },
    {
      "cell_type": "code",
      "metadata": {
        "id": "dUHkCznqOXWR"
      },
      "source": [
        "param_grid = [{'kernel':['rbf'], 'C':[0.001,0.01,0.1,1,10,100],'gamma':[0.001,0.01,0.1,1,10,100]},\n",
        "    {'kernel':['linear'], 'C':[0.001,0.01,0.1,1,10,100],'gamma':[0.001,0.01,0.1,1,10,100]}]"
      ],
      "execution_count": 39,
      "outputs": []
    },
    {
      "cell_type": "code",
      "metadata": {
        "id": "UGceCR5QV2-g"
      },
      "source": [
        "from sklearn.model_selection import GridSearchCV\n",
        "gs = GridSearchCV(SVC(), param_grid, cv=5)"
      ],
      "execution_count": 40,
      "outputs": []
    },
    {
      "cell_type": "code",
      "metadata": {
        "colab": {
          "base_uri": "https://localhost:8080/"
        },
        "id": "0r6d51nVV6uM",
        "outputId": "ebd6002a-640e-44dc-ac9c-0b97426b491d"
      },
      "source": [
        "gs.fit(X_scaled_train, y_train)"
      ],
      "execution_count": 41,
      "outputs": [
        {
          "output_type": "execute_result",
          "data": {
            "text/plain": [
              "GridSearchCV(cv=5, error_score=nan,\n",
              "             estimator=SVC(C=1.0, break_ties=False, cache_size=200,\n",
              "                           class_weight=None, coef0=0.0,\n",
              "                           decision_function_shape='ovr', degree=3,\n",
              "                           gamma='scale', kernel='rbf', max_iter=-1,\n",
              "                           probability=False, random_state=None, shrinking=True,\n",
              "                           tol=0.001, verbose=False),\n",
              "             iid='deprecated', n_jobs=None,\n",
              "             param_grid=[{'C': [0.001, 0.01, 0.1, 1, 10, 100],\n",
              "                          'gamma': [0.001, 0.01, 0.1, 1, 10, 100],\n",
              "                          'kernel': ['rbf']},\n",
              "                         {'C': [0.001, 0.01, 0.1, 1, 10, 100],\n",
              "                          'gamma': [0.001, 0.01, 0.1, 1, 10, 100],\n",
              "                          'kernel': ['linear']}],\n",
              "             pre_dispatch='2*n_jobs', refit=True, return_train_score=False,\n",
              "             scoring=None, verbose=0)"
            ]
          },
          "metadata": {},
          "execution_count": 41
        }
      ]
    },
    {
      "cell_type": "code",
      "metadata": {
        "colab": {
          "base_uri": "https://localhost:8080/"
        },
        "id": "cmEXfthyWKmt",
        "outputId": "7c380817-6386-4eac-9ecc-143392012f09"
      },
      "source": [
        "print(gs.best_params_)\n",
        "print(gs.best_score_)\n",
        "print(gs.score(X_scaled_test, y_test))"
      ],
      "execution_count": 42,
      "outputs": [
        {
          "output_type": "stream",
          "name": "stdout",
          "text": [
            "{'C': 0.1, 'gamma': 0.1, 'kernel': 'rbf'}\n",
            "0.9707024557395775\n",
            "0.9415204678362573\n"
          ]
        }
      ]
    },
    {
      "cell_type": "code",
      "metadata": {
        "id": "r70xSxL_WPnv"
      },
      "source": [
        "param_distribs = [{'kernel':['rbf'], 'C':randint(low=0.001, high=100),'gamma':randint(low=0.001, high=100)},\n",
        "    {'kernel':['linear'], 'C':randint(low=0.001, high=100),'gamma':randint(low=0.001, high=100)}]"
      ],
      "execution_count": 43,
      "outputs": []
    },
    {
      "cell_type": "code",
      "metadata": {
        "colab": {
          "base_uri": "https://localhost:8080/"
        },
        "id": "-lmzKkd0WwmV",
        "outputId": "4b89d215-11b0-4802-c2c2-4ccc681111a9"
      },
      "source": [
        "from sklearn.model_selection import RandomizedSearchCV\n",
        "rs = RandomizedSearchCV(SVC(), param_distribs, cv=5, n_iter=100)\n",
        "rs.fit(X_scaled_train, y_train)"
      ],
      "execution_count": 44,
      "outputs": [
        {
          "output_type": "execute_result",
          "data": {
            "text/plain": [
              "RandomizedSearchCV(cv=5, error_score=nan,\n",
              "                   estimator=SVC(C=1.0, break_ties=False, cache_size=200,\n",
              "                                 class_weight=None, coef0=0.0,\n",
              "                                 decision_function_shape='ovr', degree=3,\n",
              "                                 gamma='scale', kernel='rbf', max_iter=-1,\n",
              "                                 probability=False, random_state=None,\n",
              "                                 shrinking=True, tol=0.001, verbose=False),\n",
              "                   iid='deprecated', n_iter=100, n_jobs=None,\n",
              "                   param_distributions=[{'C': <scipy.sta...\n",
              "                                         'gamma': <scipy.stats._distn_infrastructure.rv_frozen object at 0x7fa68e8a15d0>,\n",
              "                                         'kernel': ['rbf']},\n",
              "                                        {'C': <scipy.stats._distn_infrastructure.rv_frozen object at 0x7fa6996e4950>,\n",
              "                                         'gamma': <scipy.stats._distn_infrastructure.rv_frozen object at 0x7fa68f4802d0>,\n",
              "                                         'kernel': ['linear']}],\n",
              "                   pre_dispatch='2*n_jobs', random_state=None, refit=True,\n",
              "                   return_train_score=False, scoring=None, verbose=0)"
            ]
          },
          "metadata": {},
          "execution_count": 44
        }
      ]
    },
    {
      "cell_type": "code",
      "metadata": {
        "colab": {
          "base_uri": "https://localhost:8080/"
        },
        "id": "njP2P2DsW8Z0",
        "outputId": "ff990aeb-1b5b-462e-82b6-1cc23fb421d2"
      },
      "source": [
        "print(rs.best_params_)\n",
        "print(rs.best_score_)\n",
        "print(rs.score(X_scaled_test, y_test))"
      ],
      "execution_count": 45,
      "outputs": [
        {
          "output_type": "stream",
          "name": "stdout",
          "text": [
            "{'C': 2, 'gamma': 33, 'kernel': 'linear'}\n",
            "0.9648581762802209\n",
            "0.9473684210526315\n"
          ]
        }
      ]
    },
    {
      "cell_type": "code",
      "metadata": {
        "id": "8D7OcdB7XZGN"
      },
      "source": [
        "data = pd.read_csv('house_price.csv')\n",
        "X = data[data.columns[0:4]]\n",
        "y = data[\"house_value\"]\n",
        "X_train, X_test, y_train, y_test = train_test_split(X,y,random_state=42)\n",
        "mms = MinMaxScaler()\n",
        "mms.fit(X_train)\n",
        "X_scaled_train = mms.transform(X_train)\n",
        "X_scaled_test = mms.transform(X_test)"
      ],
      "execution_count": 46,
      "outputs": []
    },
    {
      "cell_type": "code",
      "metadata": {
        "colab": {
          "base_uri": "https://localhost:8080/"
        },
        "id": "q3yaZ3O6Xi39",
        "outputId": "ee708713-31ba-4811-ca98-9d51bae01e75"
      },
      "source": [
        "from sklearn.svm import SVR\n",
        "model = SVR(kernel='poly')\n",
        "model.fit(X_scaled_train,y_train)"
      ],
      "execution_count": 47,
      "outputs": [
        {
          "output_type": "execute_result",
          "data": {
            "text/plain": [
              "SVR(C=1.0, cache_size=200, coef0=0.0, degree=3, epsilon=0.1, gamma='scale',\n",
              "    kernel='poly', max_iter=-1, shrinking=True, tol=0.001, verbose=False)"
            ]
          },
          "metadata": {},
          "execution_count": 47
        }
      ]
    },
    {
      "cell_type": "code",
      "metadata": {
        "id": "q0yUrEBeZRlI"
      },
      "source": [
        "pred_train = model.predict(X_scaled_train)\n",
        "pred_test = model.predict(X_scaled_test)"
      ],
      "execution_count": 48,
      "outputs": []
    },
    {
      "cell_type": "code",
      "metadata": {
        "colab": {
          "base_uri": "https://localhost:8080/"
        },
        "id": "wpiNDifbZfXM",
        "outputId": "3132aa44-7b26-444a-aa9c-494d0d41cfe9"
      },
      "source": [
        "print(model.score(X_scaled_train, y_train))\n",
        "print(model.score(X_scaled_test, y_test))"
      ],
      "execution_count": 49,
      "outputs": [
        {
          "output_type": "stream",
          "name": "stdout",
          "text": [
            "0.42753872325461695\n",
            "0.4417483576515683\n"
          ]
        }
      ]
    },
    {
      "cell_type": "code",
      "metadata": {
        "id": "m_UFksq_ZkB1"
      },
      "source": [
        "import numpy as np\n",
        "from sklearn.metrics import mean_squared_error"
      ],
      "execution_count": 50,
      "outputs": []
    },
    {
      "cell_type": "code",
      "metadata": {
        "id": "U7AzIJXLZysl"
      },
      "source": [
        "mse_train = mean_squared_error(y_train, pred_train)\n",
        "mse_test = mean_squared_error(y_test, pred_test)"
      ],
      "execution_count": 51,
      "outputs": []
    },
    {
      "cell_type": "code",
      "metadata": {
        "id": "PAF3cMxIZ4kt"
      },
      "source": [
        "rmse_train = np.sqrt(mse_train)\n",
        "rmse_test = np.sqrt(mse_test)"
      ],
      "execution_count": 52,
      "outputs": []
    },
    {
      "cell_type": "code",
      "metadata": {
        "id": "cI-Bp_ptZ8-7"
      },
      "source": [
        "from sklearn.model_selection import GridSearchCV\n",
        "param_grid = {'kernel':['poly'],'C':[0.01,0.1,1,10], 'gamma':[0.01,0.1,1,10]}\n",
        "#'kernel':['poly'],\n",
        "gs = GridSearchCV(SVR(kernel='poly'), param_grid, cv=5)\n"
      ],
      "execution_count": 53,
      "outputs": []
    },
    {
      "cell_type": "code",
      "metadata": {
        "colab": {
          "base_uri": "https://localhost:8080/"
        },
        "id": "eXGKwtmjclTn",
        "outputId": "31b36777-4f01-42a5-8fda-cd2df8acffa6"
      },
      "source": [
        "gs.fit(X_scaled_train, y_train)"
      ],
      "execution_count": 54,
      "outputs": [
        {
          "output_type": "execute_result",
          "data": {
            "text/plain": [
              "GridSearchCV(cv=5, error_score=nan,\n",
              "             estimator=SVR(C=1.0, cache_size=200, coef0=0.0, degree=3,\n",
              "                           epsilon=0.1, gamma='scale', kernel='poly',\n",
              "                           max_iter=-1, shrinking=True, tol=0.001,\n",
              "                           verbose=False),\n",
              "             iid='deprecated', n_jobs=None,\n",
              "             param_grid={'C': [0.01, 0.1, 1, 10], 'gamma': [0.01, 0.1, 1, 10],\n",
              "                         'kernel': ['poly']},\n",
              "             pre_dispatch='2*n_jobs', refit=True, return_train_score=False,\n",
              "             scoring=None, verbose=0)"
            ]
          },
          "metadata": {},
          "execution_count": 54
        }
      ]
    },
    {
      "cell_type": "code",
      "metadata": {
        "colab": {
          "base_uri": "https://localhost:8080/"
        },
        "id": "wYbmUzRaa0Cb",
        "outputId": "a8004600-aade-47b5-a7fa-af420f9c9527"
      },
      "source": [
        "print(gs.best_params_)\n",
        "print(gs.best_score_)\n",
        "print(gs.score(X_scaled_test, y_test))"
      ],
      "execution_count": 55,
      "outputs": [
        {
          "output_type": "stream",
          "name": "stdout",
          "text": [
            "{'C': 10, 'gamma': 10, 'kernel': 'poly'}\n",
            "0.5341165008948594\n",
            "0.5405171559274444\n"
          ]
        }
      ]
    },
    {
      "cell_type": "code",
      "metadata": {
        "colab": {
          "base_uri": "https://localhost:8080/"
        },
        "id": "aajPmt_ba98s",
        "outputId": "daf815ac-dcdb-4266-b2c0-973333b26a06"
      },
      "source": [
        "param_distribs = {'kernel':['poly'], 'C':randint(low=0.01, high=10), 'gamma':randint(low=0.01, high=10)}\n",
        "from sklearn.model_selection import RandomizedSearchCV\n",
        "rs = RandomizedSearchCV(SVR(kernel='poly'), param_distribs, n_iter=20, cv=5)\n",
        "rs.fit(X_scaled_train, y_train)"
      ],
      "execution_count": 56,
      "outputs": [
        {
          "output_type": "execute_result",
          "data": {
            "text/plain": [
              "RandomizedSearchCV(cv=5, error_score=nan,\n",
              "                   estimator=SVR(C=1.0, cache_size=200, coef0=0.0, degree=3,\n",
              "                                 epsilon=0.1, gamma='scale', kernel='poly',\n",
              "                                 max_iter=-1, shrinking=True, tol=0.001,\n",
              "                                 verbose=False),\n",
              "                   iid='deprecated', n_iter=20, n_jobs=None,\n",
              "                   param_distributions={'C': <scipy.stats._distn_infrastructure.rv_frozen object at 0x7fa68e89f5d0>,\n",
              "                                        'gamma': <scipy.stats._distn_infrastructure.rv_frozen object at 0x7fa68e89f0d0>,\n",
              "                                        'kernel': ['poly']},\n",
              "                   pre_dispatch='2*n_jobs', random_state=None, refit=True,\n",
              "                   return_train_score=False, scoring=None, verbose=0)"
            ]
          },
          "metadata": {},
          "execution_count": 56
        }
      ]
    },
    {
      "cell_type": "code",
      "metadata": {
        "colab": {
          "base_uri": "https://localhost:8080/"
        },
        "id": "hmV-H2OAh051",
        "outputId": "ea4d2f60-880d-4f9f-97c1-e8a9bdd36e93"
      },
      "source": [
        "print(rs.best_params_)\n",
        "print(rs.best_score_)\n",
        "print(rs.score(X_scaled_test, y_test))"
      ],
      "execution_count": 57,
      "outputs": [
        {
          "output_type": "stream",
          "name": "stdout",
          "text": [
            "{'C': 7, 'gamma': 9, 'kernel': 'poly'}\n",
            "0.5245305679125154\n",
            "0.5360661620754696\n"
          ]
        }
      ]
    },
    {
      "cell_type": "markdown",
      "metadata": {
        "id": "GrsA-D9uh8Yc"
      },
      "source": [
        "#의사결정나무"
      ]
    },
    {
      "cell_type": "code",
      "metadata": {
        "id": "5qDlFCF1h7ZK"
      },
      "source": [
        "import pandas as pd\n",
        "data = pd.read_csv('breast-cancer-wisconsin.csv')\n",
        "X = data[data.columns[1:10]]\n",
        "y = data['Class']\n",
        "from sklearn.model_selection import train_test_split\n",
        "X_train, X_test, y_train, y_test = train_test_split(X,y,random_state=42)\n",
        "from sklearn.preprocessing import MinMaxScaler\n",
        "mms = MinMaxScaler()\n",
        "mms.fit(X_train)\n",
        "X_scaled_train = mms.transform(X_train)\n",
        "X_scaled_test = mms.transform(X_test)"
      ],
      "execution_count": 58,
      "outputs": []
    },
    {
      "cell_type": "code",
      "metadata": {
        "id": "1AhV7DlNiV0G"
      },
      "source": [
        "from sklearn.tree import DecisionTreeClassifier\n",
        "model = DecisionTreeClassifier()\n",
        "model.fit(X_scaled_train, y_train)\n",
        "pred_train = model.predict(X_scaled_train)"
      ],
      "execution_count": 59,
      "outputs": []
    },
    {
      "cell_type": "code",
      "metadata": {
        "colab": {
          "base_uri": "https://localhost:8080/"
        },
        "id": "PSLzihy3ilR0",
        "outputId": "4cb96331-83aa-472b-c904-3c72781a6ff4"
      },
      "source": [
        "print(model.score(X_scaled_train, y_train))"
      ],
      "execution_count": 60,
      "outputs": [
        {
          "output_type": "stream",
          "name": "stdout",
          "text": [
            "1.0\n"
          ]
        }
      ]
    },
    {
      "cell_type": "code",
      "metadata": {
        "id": "FuSp3sDOip0s"
      },
      "source": [
        "from sklearn.metrics import confusion_matrix\n",
        "cm_train = confusion_matrix(y_train, pred_train)\n",
        "cm_test = confusion_matrix(y_test, pred_test)"
      ],
      "execution_count": 60,
      "outputs": []
    },
    {
      "cell_type": "code",
      "metadata": {
        "id": "7zeIDp7PB6hf"
      },
      "source": [
        "from sklearn.metrics import classification_report\n",
        "cr_train = classification_report(y_train, pred_train)\n",
        "cr_test = classification_report(y_test, pred_test)"
      ],
      "execution_count": 61,
      "outputs": []
    },
    {
      "cell_type": "code",
      "metadata": {
        "colab": {
          "base_uri": "https://localhost:8080/"
        },
        "id": "gM8HD4dbCCbZ",
        "outputId": "c90065b1-afb1-452d-8b3a-423e21f6723d"
      },
      "source": [
        "print(cm_train)\n",
        "print(cm_test)\n",
        "print(cr_train)\n",
        "print(cr_test)"
      ],
      "execution_count": 62,
      "outputs": [
        {
          "output_type": "stream",
          "name": "stdout",
          "text": [
            "[[335   6]\n",
            " [  5 166]]\n",
            "[[101   2]\n",
            " [  7  61]]\n",
            "              precision    recall  f1-score   support\n",
            "\n",
            "           0       0.99      0.98      0.98       341\n",
            "           1       0.97      0.97      0.97       171\n",
            "\n",
            "    accuracy                           0.98       512\n",
            "   macro avg       0.98      0.98      0.98       512\n",
            "weighted avg       0.98      0.98      0.98       512\n",
            "\n",
            "              precision    recall  f1-score   support\n",
            "\n",
            "           0       0.94      0.98      0.96       103\n",
            "           1       0.97      0.90      0.93        68\n",
            "\n",
            "    accuracy                           0.95       171\n",
            "   macro avg       0.95      0.94      0.94       171\n",
            "weighted avg       0.95      0.95      0.95       171\n",
            "\n"
          ]
        }
      ]
    },
    {
      "cell_type": "code",
      "metadata": {
        "id": "-lh-5T3UDfiZ"
      },
      "source": [
        "param_grid = {'max_depth':range(2,20,2), 'min_samples_leaf':range(1,50,2)}"
      ],
      "execution_count": 68,
      "outputs": []
    },
    {
      "cell_type": "code",
      "metadata": {
        "colab": {
          "base_uri": "https://localhost:8080/"
        },
        "id": "FGIqCLsfCaey",
        "outputId": "a77217ec-d0fa-4317-c67e-345a92e97b2a"
      },
      "source": [
        "from sklearn.model_selection import GridSearchCV\n",
        "gs = GridSearchCV(DecisionTreeClassifier(), param_grid, cv=5)\n",
        "gs.fit(X_scaled_train, y_train)"
      ],
      "execution_count": 69,
      "outputs": [
        {
          "output_type": "execute_result",
          "data": {
            "text/plain": [
              "GridSearchCV(cv=5, error_score=nan,\n",
              "             estimator=DecisionTreeClassifier(ccp_alpha=0.0, class_weight=None,\n",
              "                                              criterion='gini', max_depth=None,\n",
              "                                              max_features=None,\n",
              "                                              max_leaf_nodes=None,\n",
              "                                              min_impurity_decrease=0.0,\n",
              "                                              min_impurity_split=None,\n",
              "                                              min_samples_leaf=1,\n",
              "                                              min_samples_split=2,\n",
              "                                              min_weight_fraction_leaf=0.0,\n",
              "                                              presort='deprecated',\n",
              "                                              random_state=None,\n",
              "                                              splitter='best'),\n",
              "             iid='deprecated', n_jobs=None,\n",
              "             param_grid={'max_depth': range(2, 20, 2),\n",
              "                         'min_samples_leaf': range(1, 50, 2)},\n",
              "             pre_dispatch='2*n_jobs', refit=True, return_train_score=False,\n",
              "             scoring=None, verbose=0)"
            ]
          },
          "metadata": {},
          "execution_count": 69
        }
      ]
    },
    {
      "cell_type": "code",
      "metadata": {
        "colab": {
          "base_uri": "https://localhost:8080/"
        },
        "id": "ni4nUI08DxR5",
        "outputId": "335f9d61-2e6a-40dd-ef5f-5bff485da7fa"
      },
      "source": [
        "print(gs.best_params_)\n",
        "print(gs.best_score_)\n",
        "print(gs.score(X_scaled_train, y_train))"
      ],
      "execution_count": 70,
      "outputs": [
        {
          "output_type": "stream",
          "name": "stdout",
          "text": [
            "{'max_depth': 4, 'min_samples_leaf': 1}\n",
            "0.9629164287074052\n",
            "0.974609375\n"
          ]
        }
      ]
    },
    {
      "cell_type": "code",
      "metadata": {
        "id": "gOQz4cPFD_LC"
      },
      "source": [
        "from scipy.stats import randint\n",
        "param_distribs = {'max_depth':randint(low=1,high=20), 'min_samples_leaf':randint(low=1,high=50)}"
      ],
      "execution_count": 73,
      "outputs": []
    },
    {
      "cell_type": "code",
      "metadata": {
        "colab": {
          "base_uri": "https://localhost:8080/"
        },
        "id": "5Ny4Z_F4EV9X",
        "outputId": "85fa5c39-f318-46a4-d495-831b8db65cda"
      },
      "source": [
        "from sklearn.model_selection import RandomizedSearchCV\n",
        "rs = RandomizedSearchCV(DecisionTreeClassifier(), param_distribs, cv=5)\n",
        "rs.fit(X_scaled_train, y_train)"
      ],
      "execution_count": 77,
      "outputs": [
        {
          "output_type": "execute_result",
          "data": {
            "text/plain": [
              "RandomizedSearchCV(cv=5, error_score=nan,\n",
              "                   estimator=DecisionTreeClassifier(ccp_alpha=0.0,\n",
              "                                                    class_weight=None,\n",
              "                                                    criterion='gini',\n",
              "                                                    max_depth=None,\n",
              "                                                    max_features=None,\n",
              "                                                    max_leaf_nodes=None,\n",
              "                                                    min_impurity_decrease=0.0,\n",
              "                                                    min_impurity_split=None,\n",
              "                                                    min_samples_leaf=1,\n",
              "                                                    min_samples_split=2,\n",
              "                                                    min_weight_fraction_leaf=0.0,\n",
              "                                                    presort='deprecated',\n",
              "                                                    random_state=None,\n",
              "                                                    splitter='best'),\n",
              "                   iid='deprecated', n_iter=10, n_jobs=None,\n",
              "                   param_distributions={'max_depth': <scipy.stats._distn_infrastructure.rv_frozen object at 0x7fa68ceb4510>,\n",
              "                                        'min_samples_leaf': <scipy.stats._distn_infrastructure.rv_frozen object at 0x7fa690004dd0>},\n",
              "                   pre_dispatch='2*n_jobs', random_state=None, refit=True,\n",
              "                   return_train_score=False, scoring=None, verbose=0)"
            ]
          },
          "metadata": {},
          "execution_count": 77
        }
      ]
    },
    {
      "cell_type": "code",
      "metadata": {
        "colab": {
          "base_uri": "https://localhost:8080/"
        },
        "id": "QkTZmFbdEgfV",
        "outputId": "9e1898d3-d891-439c-9f9b-d87ae752a036"
      },
      "source": [
        "print(rs.best_params_)\n",
        "print(rs.best_score_)\n",
        "print(rs.score(X_scaled_train, y_train))"
      ],
      "execution_count": 78,
      "outputs": [
        {
          "output_type": "stream",
          "name": "stdout",
          "text": [
            "{'max_depth': 4, 'min_samples_leaf': 8}\n",
            "0.9628973919664954\n",
            "0.962890625\n"
          ]
        }
      ]
    },
    {
      "cell_type": "code",
      "metadata": {
        "id": "wbDrdZb9EilB"
      },
      "source": [
        "data = pd.read_csv('house_price.csv')\n",
        "X = data[data.columns[0:4]]\n",
        "y = data[\"house_value\"]\n",
        "X_train, X_test, y_train, y_test = train_test_split(X,y,random_state=42)\n",
        "mms = MinMaxScaler()\n",
        "mms.fit(X_train)\n",
        "X_scaled_train = mms.transform(X_train)\n",
        "X_scaled_test = mms.transform(X_test)"
      ],
      "execution_count": 79,
      "outputs": []
    },
    {
      "cell_type": "code",
      "metadata": {
        "id": "nWbrs87FGp7m"
      },
      "source": [
        "from sklearn.tree import DecisionTreeRegressor"
      ],
      "execution_count": 81,
      "outputs": []
    },
    {
      "cell_type": "code",
      "metadata": {
        "colab": {
          "base_uri": "https://localhost:8080/"
        },
        "id": "CEjuPk8UGwOt",
        "outputId": "214c8abe-3c88-4e47-e4ea-a4be5feb3a3d"
      },
      "source": [
        "dtr = DecisionTreeRegressor()\n",
        "dtr.fit(X_scaled_train,y_train)\n",
        "dtr.score(X_scaled_train,y_train)"
      ],
      "execution_count": 82,
      "outputs": [
        {
          "output_type": "execute_result",
          "data": {
            "text/plain": [
              "1.0"
            ]
          },
          "metadata": {},
          "execution_count": 82
        }
      ]
    },
    {
      "cell_type": "code",
      "metadata": {
        "id": "J_eKyWNcHARR"
      },
      "source": [
        "pred_test = dtr.predict(X_scaled_test)\n",
        "pred_train = dtr.predict(X_scaled_train)"
      ],
      "execution_count": 89,
      "outputs": []
    },
    {
      "cell_type": "code",
      "metadata": {
        "colab": {
          "base_uri": "https://localhost:8080/"
        },
        "id": "65pUoBuYHGtP",
        "outputId": "2bba6e1d-a942-424b-8faa-bc485c378305"
      },
      "source": [
        "dtr.score(X_scaled_test, y_test)"
      ],
      "execution_count": 86,
      "outputs": [
        {
          "output_type": "execute_result",
          "data": {
            "text/plain": [
              "0.2693540747216093"
            ]
          },
          "metadata": {},
          "execution_count": 86
        }
      ]
    },
    {
      "cell_type": "code",
      "metadata": {
        "colab": {
          "base_uri": "https://localhost:8080/"
        },
        "id": "_IX3CzieHLEP",
        "outputId": "52395ada-281b-4a5e-870b-8d6e7d07b57a"
      },
      "source": [
        "import numpy as np\n",
        "from sklearn.metrics import mean_squared_error\n",
        "mse = mean_squared_error(y_train , pred_train)\n",
        "rmse = np.sqrt(mse)\n",
        "print(rmse)"
      ],
      "execution_count": 90,
      "outputs": [
        {
          "output_type": "stream",
          "name": "stdout",
          "text": [
            "0.0\n"
          ]
        }
      ]
    },
    {
      "cell_type": "code",
      "metadata": {
        "colab": {
          "base_uri": "https://localhost:8080/"
        },
        "id": "BcL39KUlH-6E",
        "outputId": "a47bf581-c2d7-4937-bacd-34ab02b7d2d8"
      },
      "source": [
        "mse = mean_squared_error(y_test , pred_test)\n",
        "rmse = np.sqrt(mse)\n",
        "print(rmse)"
      ],
      "execution_count": 91,
      "outputs": [
        {
          "output_type": "stream",
          "name": "stdout",
          "text": [
            "81717.66661907919\n"
          ]
        }
      ]
    },
    {
      "cell_type": "code",
      "metadata": {
        "id": "a7lQI4X6ILF8"
      },
      "source": [
        "param_grid = {'max_depth':range(2,20,2), 'min_samples_leaf':range(1,50,2)}"
      ],
      "execution_count": 92,
      "outputs": []
    },
    {
      "cell_type": "code",
      "metadata": {
        "colab": {
          "base_uri": "https://localhost:8080/"
        },
        "id": "tKdTdex8IiAj",
        "outputId": "91c8f971-be3f-4324-b30e-339888a11043"
      },
      "source": [
        "from sklearn.model_selection import GridSearchCV\n",
        "gs = GridSearchCV(DecisionTreeRegressor(), param_grid, cv=5)\n",
        "gs.fit(X_scaled_train, y_train)"
      ],
      "execution_count": 93,
      "outputs": [
        {
          "output_type": "execute_result",
          "data": {
            "text/plain": [
              "GridSearchCV(cv=5, error_score=nan,\n",
              "             estimator=DecisionTreeRegressor(ccp_alpha=0.0, criterion='mse',\n",
              "                                             max_depth=None, max_features=None,\n",
              "                                             max_leaf_nodes=None,\n",
              "                                             min_impurity_decrease=0.0,\n",
              "                                             min_impurity_split=None,\n",
              "                                             min_samples_leaf=1,\n",
              "                                             min_samples_split=2,\n",
              "                                             min_weight_fraction_leaf=0.0,\n",
              "                                             presort='deprecated',\n",
              "                                             random_state=None,\n",
              "                                             splitter='best'),\n",
              "             iid='deprecated', n_jobs=None,\n",
              "             param_grid={'max_depth': range(2, 20, 2),\n",
              "                         'min_samples_leaf': range(1, 50, 2)},\n",
              "             pre_dispatch='2*n_jobs', refit=True, return_train_score=False,\n",
              "             scoring=None, verbose=0)"
            ]
          },
          "metadata": {},
          "execution_count": 93
        }
      ]
    },
    {
      "cell_type": "code",
      "metadata": {
        "colab": {
          "base_uri": "https://localhost:8080/"
        },
        "id": "gTZ6AcqjIlqi",
        "outputId": "b4accea6-94a3-487b-fbc9-b8290d297982"
      },
      "source": [
        "print(gs.best_params_)\n",
        "print(gs.best_score_)\n",
        "print(gs.score(X_scaled_train, y_train))"
      ],
      "execution_count": 94,
      "outputs": [
        {
          "output_type": "stream",
          "name": "stdout",
          "text": [
            "{'max_depth': 10, 'min_samples_leaf': 39}\n",
            "0.588474171891088\n",
            "0.6496049775818675\n"
          ]
        }
      ]
    },
    {
      "cell_type": "code",
      "metadata": {
        "id": "IWKi3eIrIsFQ"
      },
      "source": [
        "from scipy.stats import randint\n",
        "param_distribs = {'max_depth':randint(low=1,high=20), 'min_samples_leaf':randint(low=1,high=50)}"
      ],
      "execution_count": 95,
      "outputs": []
    },
    {
      "cell_type": "code",
      "metadata": {
        "colab": {
          "base_uri": "https://localhost:8080/"
        },
        "id": "f6Maef05IuaQ",
        "outputId": "d7f5f764-4951-445e-f95d-3d4cb9ede1b9"
      },
      "source": [
        "from sklearn.model_selection import RandomizedSearchCV\n",
        "rs = RandomizedSearchCV(DecisionTreeRegressor(), param_distribs, cv=5)\n",
        "rs.fit(X_scaled_train, y_train)"
      ],
      "execution_count": 96,
      "outputs": [
        {
          "output_type": "execute_result",
          "data": {
            "text/plain": [
              "RandomizedSearchCV(cv=5, error_score=nan,\n",
              "                   estimator=DecisionTreeRegressor(ccp_alpha=0.0,\n",
              "                                                   criterion='mse',\n",
              "                                                   max_depth=None,\n",
              "                                                   max_features=None,\n",
              "                                                   max_leaf_nodes=None,\n",
              "                                                   min_impurity_decrease=0.0,\n",
              "                                                   min_impurity_split=None,\n",
              "                                                   min_samples_leaf=1,\n",
              "                                                   min_samples_split=2,\n",
              "                                                   min_weight_fraction_leaf=0.0,\n",
              "                                                   presort='deprecated',\n",
              "                                                   random_state=None,\n",
              "                                                   splitter='best'),\n",
              "                   iid='deprecated', n_iter=10, n_jobs=None,\n",
              "                   param_distributions={'max_depth': <scipy.stats._distn_infrastructure.rv_frozen object at 0x7fa68d5a2e90>,\n",
              "                                        'min_samples_leaf': <scipy.stats._distn_infrastructure.rv_frozen object at 0x7fa68d59cbd0>},\n",
              "                   pre_dispatch='2*n_jobs', random_state=None, refit=True,\n",
              "                   return_train_score=False, scoring=None, verbose=0)"
            ]
          },
          "metadata": {},
          "execution_count": 96
        }
      ]
    },
    {
      "cell_type": "code",
      "metadata": {
        "colab": {
          "base_uri": "https://localhost:8080/"
        },
        "id": "QCIrKkAUIyUq",
        "outputId": "3d87572b-2d58-4564-bce6-0d7f22b570ec"
      },
      "source": [
        "print(rs.best_params_)\n",
        "print(rs.best_score_)\n",
        "print(rs.score(X_scaled_train, y_train))"
      ],
      "execution_count": 97,
      "outputs": [
        {
          "output_type": "stream",
          "name": "stdout",
          "text": [
            "{'max_depth': 10, 'min_samples_leaf': 38}\n",
            "0.5877378527852202\n",
            "0.6506316092036522\n"
          ]
        }
      ]
    },
    {
      "cell_type": "code",
      "metadata": {
        "id": "3aTitpkCI3x6"
      },
      "source": [
        ""
      ],
      "execution_count": null,
      "outputs": []
    }
  ]
}